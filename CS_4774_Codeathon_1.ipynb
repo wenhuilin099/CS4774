{
  "nbformat": 4,
  "nbformat_minor": 0,
  "metadata": {
    "colab": {
      "provenance": [],
      "collapsed_sections": []
    },
    "kernelspec": {
      "name": "python3",
      "display_name": "Python 3"
    },
    "language_info": {
      "name": "python"
    }
  },
  "cells": [
    {
      "cell_type": "markdown",
      "metadata": {
        "id": "-Y4F-zuUGsq8"
      },
      "source": [
        "# Assignment 1: Comparison of Regression Models on Housing Prices in Boston, MA"
      ]
    },
    {
      "cell_type": "markdown",
      "metadata": {
        "id": "MZ85ee69G7m0"
      },
      "source": [
        "### CS 4774 Machine Learning - Department of Computer Science - University of Virginia\n",
        "![(Image Credit Boston.gov)](https://miro.medium.com/max/1000/1*WYZCnpM7bE3Wq4NNxx7jDA.jpeg)\n",
        "\n",
        "In this assignment, you will practice the 8 steps of an end-to-end ML project in the context of a **regression** problem in the [Ames Housing Dataset on Kaggle](https://www.kaggle.com/competitions/house-prices-advanced-regression-techniques/data) (Image Credit: Boston.gov). You will attempt to predict the housing prices in Ames, Iowa. For references, you may refer to my slides or the Google Colab if you need additional sample codes to help with your assignment. To get started, you will need to upload/copy the dataset (.csv) into the same Colab workspace. \n",
        "\n",
        "For deliverables, you must write code in Colab and submit the downloaded Jupyter Notebook file (.ipynb) to earn a total of 50 pts. You will gain points depending on how you perform in the following sections.\n",
        "\n",
        "*BONUS POINTS:* 10 bonus points will be given (as Extra credits) for those who score among the top-10 performance while following strictly the assignment guidelines. Best of luck to all!"
      ]
    },
    {
      "cell_type": "markdown",
      "metadata": {
        "id": "nXPheacSXZ2V"
      },
      "source": [
        "## Step 1: Big Picture and Setup\n",
        "Write a paragraph explaining the context of the problem in which you are trying to investigate. Your paragraph may frame the problem and objectives by answering the following questions:\n",
        "* What is the task: regression, classification, clustering, visualization?\n",
        "* What to expect, how to use, and how to benefit from this model?\n",
        "* What performance measure to evaluate?\n",
        "* How much data is available or should be collected?\n",
        "* What learning algorithm to be used?\n",
        "* How much effort is to be spent?\n",
        "* Verify the assumptions that have been made about the context"
      ]
    },
    {
      "cell_type": "markdown",
      "source": [
        "The task of this Codeathon is regression which we ose the Mean Absolute Error to find its performance. We are expecting to use this project to estimate the housing price in Boston, Ma and then find the the percentage error in our estimate. The data being collected are including the sale price, number of rooms, lot area, neighbor info and etc."
      ],
      "metadata": {
        "id": "UpZnKcWak6lS"
      }
    },
    {
      "cell_type": "markdown",
      "metadata": {
        "id": "A3N7qDVRXuNa"
      },
      "source": [
        "## Step 2: Load the Data\n",
        "We will assume that the data file is put into the same workspace on Colab. Then, you can write some code to load the CSV file and take a quick look at the dataset, and output the following:\n",
        "\n",
        " * How big is your dataset? (in terms of MB)\n",
        "      0.45 MB.\n",
        " * How many entries does it have?\n",
        "      1460 entries.\n",
        " * How many features does it have?\n",
        "      Inluding the ID number in the first column, there are 81 features.\n",
        " * Does it contain any categorical data?\n",
        "      Yes, and there are a lot of different categories.\n",
        " * Is there any missing values?\n",
        "      There are many N/A input, I think it is the missing values.\n",
        " * What are some basic statistics you can learn right away about this dataset?\n",
        "      There are lots of variables which means can create different type of graphs.\n"
      ]
    },
    {
      "cell_type": "code",
      "source": [
        "# Python ≥3.5 is required\n",
        "#import sys #\n",
        "# Scikit-Learn ≥0.20 is required\n",
        "import sklearn # general ml package\n",
        "\n",
        "# Common imports\n",
        "import numpy as np # fundamental package for scientific computing\n",
        "import os # to run file I/O operation \n",
        "\n",
        "# to make this notebook's output stable across runs\n",
        "# any number will do, as long as it is used consistently\n",
        "np.random.seed(42)\n",
        "\n",
        "# To plot pretty figures\n",
        "%matplotlib inline\n",
        "import matplotlib as mpl\n",
        "import matplotlib.pyplot as plt\n",
        "mpl.rc('axes', labelsize=14)\n",
        "mpl.rc('xtick', labelsize=12)\n",
        "mpl.rc('ytick', labelsize=12)\n",
        "\n",
        "# Where to save the figures\n",
        "PROJECT_ROOT_DIR = \".\"\n",
        "CHAPTER_ID = \"Codeathon_1\"\n",
        "IMAGES_PATH = os.path.join(PROJECT_ROOT_DIR, \"images\", CHAPTER_ID)\n",
        "os.makedirs(IMAGES_PATH, exist_ok=True)\n",
        "\n",
        "def save_fig(fig_id, tight_layout=True, fig_extension=\"png\", resolution=300):\n",
        "  \"\"\"Save the selected figure into disc under an image extention and resolution\n",
        "\n",
        "  Parameters\n",
        "  ----------\n",
        "  fig_id : figure handle\n",
        "    The id number of the figure\n",
        "  tight_layout : boolean (True or False)\n",
        "    Specifies whenther the layout should be tight or not\n",
        "  fig_extension: string\n",
        "    Under what extension should the file be saved (\"png\" or \"jpg\")\n",
        "  resolution: int\n",
        "    the quality of the figure (ie. 100,200,300)\n",
        "\n",
        "  Returns\n",
        "  -------\n",
        "  void\n",
        "    Does not return any value\n",
        "  \"\"\"\n",
        "\n",
        "  path = os.path.join(IMAGES_PATH, fig_id + \".\" + fig_extension)\n",
        "  print(\"Saving figure\", fig_id)\n",
        "  if tight_layout:\n",
        "    plt.tight_layout()\n",
        "  plt.savefig(path, format=fig_extension, dpi=resolution)"
      ],
      "metadata": {
        "id": "5Ekwg3SWbeRk"
      },
      "execution_count": 74,
      "outputs": []
    },
    {
      "cell_type": "code",
      "metadata": {
        "id": "3Y4uclsoGRcM",
        "colab": {
          "base_uri": "https://localhost:8080/",
          "height": 0
        },
        "outputId": "e7c26033-d80d-43f7-f3c3-3a74e59d1d1a"
      },
      "source": [
        "import pandas as pd\n",
        "\n",
        "# To help you get started, a load function is provided below. \n",
        "# You will need to fill in the code under #TODO to make it work.\n",
        "def loadBostonHousingData():\n",
        "  # The column names are adopted from the dataset page on Kaggle   \n",
        "  housing = pd.read_csv('./sample_data/train.csv')\n",
        "  return housing\n",
        "\n",
        "housing = loadBostonHousingData()\n",
        "# Display the first n rows of the data. (n=5 by default, we will use 10 rows)\n",
        "housing.head(10)"
      ],
      "execution_count": 75,
      "outputs": [
        {
          "output_type": "execute_result",
          "data": {
            "text/plain": [
              "   Id  MSSubClass MSZoning  LotFrontage  LotArea Street Alley LotShape  \\\n",
              "0   1          60       RL         65.0     8450   Pave   NaN      Reg   \n",
              "1   2          20       RL         80.0     9600   Pave   NaN      Reg   \n",
              "2   3          60       RL         68.0    11250   Pave   NaN      IR1   \n",
              "3   4          70       RL         60.0     9550   Pave   NaN      IR1   \n",
              "4   5          60       RL         84.0    14260   Pave   NaN      IR1   \n",
              "5   6          50       RL         85.0    14115   Pave   NaN      IR1   \n",
              "6   7          20       RL         75.0    10084   Pave   NaN      Reg   \n",
              "7   8          60       RL          NaN    10382   Pave   NaN      IR1   \n",
              "8   9          50       RM         51.0     6120   Pave   NaN      Reg   \n",
              "9  10         190       RL         50.0     7420   Pave   NaN      Reg   \n",
              "\n",
              "  LandContour Utilities  ... PoolArea PoolQC  Fence MiscFeature MiscVal  \\\n",
              "0         Lvl    AllPub  ...        0    NaN    NaN         NaN       0   \n",
              "1         Lvl    AllPub  ...        0    NaN    NaN         NaN       0   \n",
              "2         Lvl    AllPub  ...        0    NaN    NaN         NaN       0   \n",
              "3         Lvl    AllPub  ...        0    NaN    NaN         NaN       0   \n",
              "4         Lvl    AllPub  ...        0    NaN    NaN         NaN       0   \n",
              "5         Lvl    AllPub  ...        0    NaN  MnPrv        Shed     700   \n",
              "6         Lvl    AllPub  ...        0    NaN    NaN         NaN       0   \n",
              "7         Lvl    AllPub  ...        0    NaN    NaN        Shed     350   \n",
              "8         Lvl    AllPub  ...        0    NaN    NaN         NaN       0   \n",
              "9         Lvl    AllPub  ...        0    NaN    NaN         NaN       0   \n",
              "\n",
              "  MoSold YrSold  SaleType  SaleCondition  SalePrice  \n",
              "0      2   2008        WD         Normal     208500  \n",
              "1      5   2007        WD         Normal     181500  \n",
              "2      9   2008        WD         Normal     223500  \n",
              "3      2   2006        WD        Abnorml     140000  \n",
              "4     12   2008        WD         Normal     250000  \n",
              "5     10   2009        WD         Normal     143000  \n",
              "6      8   2007        WD         Normal     307000  \n",
              "7     11   2009        WD         Normal     200000  \n",
              "8      4   2008        WD        Abnorml     129900  \n",
              "9      1   2008        WD         Normal     118000  \n",
              "\n",
              "[10 rows x 81 columns]"
            ],
            "text/html": [
              "\n",
              "  <div id=\"df-62c583a1-6551-4c88-ac40-8439d0b44fb6\">\n",
              "    <div class=\"colab-df-container\">\n",
              "      <div>\n",
              "<style scoped>\n",
              "    .dataframe tbody tr th:only-of-type {\n",
              "        vertical-align: middle;\n",
              "    }\n",
              "\n",
              "    .dataframe tbody tr th {\n",
              "        vertical-align: top;\n",
              "    }\n",
              "\n",
              "    .dataframe thead th {\n",
              "        text-align: right;\n",
              "    }\n",
              "</style>\n",
              "<table border=\"1\" class=\"dataframe\">\n",
              "  <thead>\n",
              "    <tr style=\"text-align: right;\">\n",
              "      <th></th>\n",
              "      <th>Id</th>\n",
              "      <th>MSSubClass</th>\n",
              "      <th>MSZoning</th>\n",
              "      <th>LotFrontage</th>\n",
              "      <th>LotArea</th>\n",
              "      <th>Street</th>\n",
              "      <th>Alley</th>\n",
              "      <th>LotShape</th>\n",
              "      <th>LandContour</th>\n",
              "      <th>Utilities</th>\n",
              "      <th>...</th>\n",
              "      <th>PoolArea</th>\n",
              "      <th>PoolQC</th>\n",
              "      <th>Fence</th>\n",
              "      <th>MiscFeature</th>\n",
              "      <th>MiscVal</th>\n",
              "      <th>MoSold</th>\n",
              "      <th>YrSold</th>\n",
              "      <th>SaleType</th>\n",
              "      <th>SaleCondition</th>\n",
              "      <th>SalePrice</th>\n",
              "    </tr>\n",
              "  </thead>\n",
              "  <tbody>\n",
              "    <tr>\n",
              "      <th>0</th>\n",
              "      <td>1</td>\n",
              "      <td>60</td>\n",
              "      <td>RL</td>\n",
              "      <td>65.0</td>\n",
              "      <td>8450</td>\n",
              "      <td>Pave</td>\n",
              "      <td>NaN</td>\n",
              "      <td>Reg</td>\n",
              "      <td>Lvl</td>\n",
              "      <td>AllPub</td>\n",
              "      <td>...</td>\n",
              "      <td>0</td>\n",
              "      <td>NaN</td>\n",
              "      <td>NaN</td>\n",
              "      <td>NaN</td>\n",
              "      <td>0</td>\n",
              "      <td>2</td>\n",
              "      <td>2008</td>\n",
              "      <td>WD</td>\n",
              "      <td>Normal</td>\n",
              "      <td>208500</td>\n",
              "    </tr>\n",
              "    <tr>\n",
              "      <th>1</th>\n",
              "      <td>2</td>\n",
              "      <td>20</td>\n",
              "      <td>RL</td>\n",
              "      <td>80.0</td>\n",
              "      <td>9600</td>\n",
              "      <td>Pave</td>\n",
              "      <td>NaN</td>\n",
              "      <td>Reg</td>\n",
              "      <td>Lvl</td>\n",
              "      <td>AllPub</td>\n",
              "      <td>...</td>\n",
              "      <td>0</td>\n",
              "      <td>NaN</td>\n",
              "      <td>NaN</td>\n",
              "      <td>NaN</td>\n",
              "      <td>0</td>\n",
              "      <td>5</td>\n",
              "      <td>2007</td>\n",
              "      <td>WD</td>\n",
              "      <td>Normal</td>\n",
              "      <td>181500</td>\n",
              "    </tr>\n",
              "    <tr>\n",
              "      <th>2</th>\n",
              "      <td>3</td>\n",
              "      <td>60</td>\n",
              "      <td>RL</td>\n",
              "      <td>68.0</td>\n",
              "      <td>11250</td>\n",
              "      <td>Pave</td>\n",
              "      <td>NaN</td>\n",
              "      <td>IR1</td>\n",
              "      <td>Lvl</td>\n",
              "      <td>AllPub</td>\n",
              "      <td>...</td>\n",
              "      <td>0</td>\n",
              "      <td>NaN</td>\n",
              "      <td>NaN</td>\n",
              "      <td>NaN</td>\n",
              "      <td>0</td>\n",
              "      <td>9</td>\n",
              "      <td>2008</td>\n",
              "      <td>WD</td>\n",
              "      <td>Normal</td>\n",
              "      <td>223500</td>\n",
              "    </tr>\n",
              "    <tr>\n",
              "      <th>3</th>\n",
              "      <td>4</td>\n",
              "      <td>70</td>\n",
              "      <td>RL</td>\n",
              "      <td>60.0</td>\n",
              "      <td>9550</td>\n",
              "      <td>Pave</td>\n",
              "      <td>NaN</td>\n",
              "      <td>IR1</td>\n",
              "      <td>Lvl</td>\n",
              "      <td>AllPub</td>\n",
              "      <td>...</td>\n",
              "      <td>0</td>\n",
              "      <td>NaN</td>\n",
              "      <td>NaN</td>\n",
              "      <td>NaN</td>\n",
              "      <td>0</td>\n",
              "      <td>2</td>\n",
              "      <td>2006</td>\n",
              "      <td>WD</td>\n",
              "      <td>Abnorml</td>\n",
              "      <td>140000</td>\n",
              "    </tr>\n",
              "    <tr>\n",
              "      <th>4</th>\n",
              "      <td>5</td>\n",
              "      <td>60</td>\n",
              "      <td>RL</td>\n",
              "      <td>84.0</td>\n",
              "      <td>14260</td>\n",
              "      <td>Pave</td>\n",
              "      <td>NaN</td>\n",
              "      <td>IR1</td>\n",
              "      <td>Lvl</td>\n",
              "      <td>AllPub</td>\n",
              "      <td>...</td>\n",
              "      <td>0</td>\n",
              "      <td>NaN</td>\n",
              "      <td>NaN</td>\n",
              "      <td>NaN</td>\n",
              "      <td>0</td>\n",
              "      <td>12</td>\n",
              "      <td>2008</td>\n",
              "      <td>WD</td>\n",
              "      <td>Normal</td>\n",
              "      <td>250000</td>\n",
              "    </tr>\n",
              "    <tr>\n",
              "      <th>5</th>\n",
              "      <td>6</td>\n",
              "      <td>50</td>\n",
              "      <td>RL</td>\n",
              "      <td>85.0</td>\n",
              "      <td>14115</td>\n",
              "      <td>Pave</td>\n",
              "      <td>NaN</td>\n",
              "      <td>IR1</td>\n",
              "      <td>Lvl</td>\n",
              "      <td>AllPub</td>\n",
              "      <td>...</td>\n",
              "      <td>0</td>\n",
              "      <td>NaN</td>\n",
              "      <td>MnPrv</td>\n",
              "      <td>Shed</td>\n",
              "      <td>700</td>\n",
              "      <td>10</td>\n",
              "      <td>2009</td>\n",
              "      <td>WD</td>\n",
              "      <td>Normal</td>\n",
              "      <td>143000</td>\n",
              "    </tr>\n",
              "    <tr>\n",
              "      <th>6</th>\n",
              "      <td>7</td>\n",
              "      <td>20</td>\n",
              "      <td>RL</td>\n",
              "      <td>75.0</td>\n",
              "      <td>10084</td>\n",
              "      <td>Pave</td>\n",
              "      <td>NaN</td>\n",
              "      <td>Reg</td>\n",
              "      <td>Lvl</td>\n",
              "      <td>AllPub</td>\n",
              "      <td>...</td>\n",
              "      <td>0</td>\n",
              "      <td>NaN</td>\n",
              "      <td>NaN</td>\n",
              "      <td>NaN</td>\n",
              "      <td>0</td>\n",
              "      <td>8</td>\n",
              "      <td>2007</td>\n",
              "      <td>WD</td>\n",
              "      <td>Normal</td>\n",
              "      <td>307000</td>\n",
              "    </tr>\n",
              "    <tr>\n",
              "      <th>7</th>\n",
              "      <td>8</td>\n",
              "      <td>60</td>\n",
              "      <td>RL</td>\n",
              "      <td>NaN</td>\n",
              "      <td>10382</td>\n",
              "      <td>Pave</td>\n",
              "      <td>NaN</td>\n",
              "      <td>IR1</td>\n",
              "      <td>Lvl</td>\n",
              "      <td>AllPub</td>\n",
              "      <td>...</td>\n",
              "      <td>0</td>\n",
              "      <td>NaN</td>\n",
              "      <td>NaN</td>\n",
              "      <td>Shed</td>\n",
              "      <td>350</td>\n",
              "      <td>11</td>\n",
              "      <td>2009</td>\n",
              "      <td>WD</td>\n",
              "      <td>Normal</td>\n",
              "      <td>200000</td>\n",
              "    </tr>\n",
              "    <tr>\n",
              "      <th>8</th>\n",
              "      <td>9</td>\n",
              "      <td>50</td>\n",
              "      <td>RM</td>\n",
              "      <td>51.0</td>\n",
              "      <td>6120</td>\n",
              "      <td>Pave</td>\n",
              "      <td>NaN</td>\n",
              "      <td>Reg</td>\n",
              "      <td>Lvl</td>\n",
              "      <td>AllPub</td>\n",
              "      <td>...</td>\n",
              "      <td>0</td>\n",
              "      <td>NaN</td>\n",
              "      <td>NaN</td>\n",
              "      <td>NaN</td>\n",
              "      <td>0</td>\n",
              "      <td>4</td>\n",
              "      <td>2008</td>\n",
              "      <td>WD</td>\n",
              "      <td>Abnorml</td>\n",
              "      <td>129900</td>\n",
              "    </tr>\n",
              "    <tr>\n",
              "      <th>9</th>\n",
              "      <td>10</td>\n",
              "      <td>190</td>\n",
              "      <td>RL</td>\n",
              "      <td>50.0</td>\n",
              "      <td>7420</td>\n",
              "      <td>Pave</td>\n",
              "      <td>NaN</td>\n",
              "      <td>Reg</td>\n",
              "      <td>Lvl</td>\n",
              "      <td>AllPub</td>\n",
              "      <td>...</td>\n",
              "      <td>0</td>\n",
              "      <td>NaN</td>\n",
              "      <td>NaN</td>\n",
              "      <td>NaN</td>\n",
              "      <td>0</td>\n",
              "      <td>1</td>\n",
              "      <td>2008</td>\n",
              "      <td>WD</td>\n",
              "      <td>Normal</td>\n",
              "      <td>118000</td>\n",
              "    </tr>\n",
              "  </tbody>\n",
              "</table>\n",
              "<p>10 rows × 81 columns</p>\n",
              "</div>\n",
              "      <button class=\"colab-df-convert\" onclick=\"convertToInteractive('df-62c583a1-6551-4c88-ac40-8439d0b44fb6')\"\n",
              "              title=\"Convert this dataframe to an interactive table.\"\n",
              "              style=\"display:none;\">\n",
              "        \n",
              "  <svg xmlns=\"http://www.w3.org/2000/svg\" height=\"24px\"viewBox=\"0 0 24 24\"\n",
              "       width=\"24px\">\n",
              "    <path d=\"M0 0h24v24H0V0z\" fill=\"none\"/>\n",
              "    <path d=\"M18.56 5.44l.94 2.06.94-2.06 2.06-.94-2.06-.94-.94-2.06-.94 2.06-2.06.94zm-11 1L8.5 8.5l.94-2.06 2.06-.94-2.06-.94L8.5 2.5l-.94 2.06-2.06.94zm10 10l.94 2.06.94-2.06 2.06-.94-2.06-.94-.94-2.06-.94 2.06-2.06.94z\"/><path d=\"M17.41 7.96l-1.37-1.37c-.4-.4-.92-.59-1.43-.59-.52 0-1.04.2-1.43.59L10.3 9.45l-7.72 7.72c-.78.78-.78 2.05 0 2.83L4 21.41c.39.39.9.59 1.41.59.51 0 1.02-.2 1.41-.59l7.78-7.78 2.81-2.81c.8-.78.8-2.07 0-2.86zM5.41 20L4 18.59l7.72-7.72 1.47 1.35L5.41 20z\"/>\n",
              "  </svg>\n",
              "      </button>\n",
              "      \n",
              "  <style>\n",
              "    .colab-df-container {\n",
              "      display:flex;\n",
              "      flex-wrap:wrap;\n",
              "      gap: 12px;\n",
              "    }\n",
              "\n",
              "    .colab-df-convert {\n",
              "      background-color: #E8F0FE;\n",
              "      border: none;\n",
              "      border-radius: 50%;\n",
              "      cursor: pointer;\n",
              "      display: none;\n",
              "      fill: #1967D2;\n",
              "      height: 32px;\n",
              "      padding: 0 0 0 0;\n",
              "      width: 32px;\n",
              "    }\n",
              "\n",
              "    .colab-df-convert:hover {\n",
              "      background-color: #E2EBFA;\n",
              "      box-shadow: 0px 1px 2px rgba(60, 64, 67, 0.3), 0px 1px 3px 1px rgba(60, 64, 67, 0.15);\n",
              "      fill: #174EA6;\n",
              "    }\n",
              "\n",
              "    [theme=dark] .colab-df-convert {\n",
              "      background-color: #3B4455;\n",
              "      fill: #D2E3FC;\n",
              "    }\n",
              "\n",
              "    [theme=dark] .colab-df-convert:hover {\n",
              "      background-color: #434B5C;\n",
              "      box-shadow: 0px 1px 3px 1px rgba(0, 0, 0, 0.15);\n",
              "      filter: drop-shadow(0px 1px 2px rgba(0, 0, 0, 0.3));\n",
              "      fill: #FFFFFF;\n",
              "    }\n",
              "  </style>\n",
              "\n",
              "      <script>\n",
              "        const buttonEl =\n",
              "          document.querySelector('#df-62c583a1-6551-4c88-ac40-8439d0b44fb6 button.colab-df-convert');\n",
              "        buttonEl.style.display =\n",
              "          google.colab.kernel.accessAllowed ? 'block' : 'none';\n",
              "\n",
              "        async function convertToInteractive(key) {\n",
              "          const element = document.querySelector('#df-62c583a1-6551-4c88-ac40-8439d0b44fb6');\n",
              "          const dataTable =\n",
              "            await google.colab.kernel.invokeFunction('convertToInteractive',\n",
              "                                                     [key], {});\n",
              "          if (!dataTable) return;\n",
              "\n",
              "          const docLinkHtml = 'Like what you see? Visit the ' +\n",
              "            '<a target=\"_blank\" href=https://colab.research.google.com/notebooks/data_table.ipynb>data table notebook</a>'\n",
              "            + ' to learn more about interactive tables.';\n",
              "          element.innerHTML = '';\n",
              "          dataTable['output_type'] = 'display_data';\n",
              "          await google.colab.output.renderOutput(dataTable, element);\n",
              "          const docLink = document.createElement('div');\n",
              "          docLink.innerHTML = docLinkHtml;\n",
              "          element.appendChild(docLink);\n",
              "        }\n",
              "      </script>\n",
              "    </div>\n",
              "  </div>\n",
              "  "
            ]
          },
          "metadata": {},
          "execution_count": 75
        }
      ]
    },
    {
      "cell_type": "code",
      "source": [
        "housing.info()"
      ],
      "metadata": {
        "id": "UBFxKtRWdqSI",
        "colab": {
          "base_uri": "https://localhost:8080/"
        },
        "outputId": "a9473808-3118-4af6-c9cd-16f85a190426"
      },
      "execution_count": 76,
      "outputs": [
        {
          "output_type": "stream",
          "name": "stdout",
          "text": [
            "<class 'pandas.core.frame.DataFrame'>\n",
            "RangeIndex: 1460 entries, 0 to 1459\n",
            "Data columns (total 81 columns):\n",
            " #   Column         Non-Null Count  Dtype  \n",
            "---  ------         --------------  -----  \n",
            " 0   Id             1460 non-null   int64  \n",
            " 1   MSSubClass     1460 non-null   int64  \n",
            " 2   MSZoning       1460 non-null   object \n",
            " 3   LotFrontage    1201 non-null   float64\n",
            " 4   LotArea        1460 non-null   int64  \n",
            " 5   Street         1460 non-null   object \n",
            " 6   Alley          91 non-null     object \n",
            " 7   LotShape       1460 non-null   object \n",
            " 8   LandContour    1460 non-null   object \n",
            " 9   Utilities      1460 non-null   object \n",
            " 10  LotConfig      1460 non-null   object \n",
            " 11  LandSlope      1460 non-null   object \n",
            " 12  Neighborhood   1460 non-null   object \n",
            " 13  Condition1     1460 non-null   object \n",
            " 14  Condition2     1460 non-null   object \n",
            " 15  BldgType       1460 non-null   object \n",
            " 16  HouseStyle     1460 non-null   object \n",
            " 17  OverallQual    1460 non-null   int64  \n",
            " 18  OverallCond    1460 non-null   int64  \n",
            " 19  YearBuilt      1460 non-null   int64  \n",
            " 20  YearRemodAdd   1460 non-null   int64  \n",
            " 21  RoofStyle      1460 non-null   object \n",
            " 22  RoofMatl       1460 non-null   object \n",
            " 23  Exterior1st    1460 non-null   object \n",
            " 24  Exterior2nd    1460 non-null   object \n",
            " 25  MasVnrType     1452 non-null   object \n",
            " 26  MasVnrArea     1452 non-null   float64\n",
            " 27  ExterQual      1460 non-null   object \n",
            " 28  ExterCond      1460 non-null   object \n",
            " 29  Foundation     1460 non-null   object \n",
            " 30  BsmtQual       1423 non-null   object \n",
            " 31  BsmtCond       1423 non-null   object \n",
            " 32  BsmtExposure   1422 non-null   object \n",
            " 33  BsmtFinType1   1423 non-null   object \n",
            " 34  BsmtFinSF1     1460 non-null   int64  \n",
            " 35  BsmtFinType2   1422 non-null   object \n",
            " 36  BsmtFinSF2     1460 non-null   int64  \n",
            " 37  BsmtUnfSF      1460 non-null   int64  \n",
            " 38  TotalBsmtSF    1460 non-null   int64  \n",
            " 39  Heating        1460 non-null   object \n",
            " 40  HeatingQC      1460 non-null   object \n",
            " 41  CentralAir     1460 non-null   object \n",
            " 42  Electrical     1459 non-null   object \n",
            " 43  1stFlrSF       1460 non-null   int64  \n",
            " 44  2ndFlrSF       1460 non-null   int64  \n",
            " 45  LowQualFinSF   1460 non-null   int64  \n",
            " 46  GrLivArea      1460 non-null   int64  \n",
            " 47  BsmtFullBath   1460 non-null   int64  \n",
            " 48  BsmtHalfBath   1460 non-null   int64  \n",
            " 49  FullBath       1460 non-null   int64  \n",
            " 50  HalfBath       1460 non-null   int64  \n",
            " 51  BedroomAbvGr   1460 non-null   int64  \n",
            " 52  KitchenAbvGr   1460 non-null   int64  \n",
            " 53  KitchenQual    1460 non-null   object \n",
            " 54  TotRmsAbvGrd   1460 non-null   int64  \n",
            " 55  Functional     1460 non-null   object \n",
            " 56  Fireplaces     1460 non-null   int64  \n",
            " 57  FireplaceQu    770 non-null    object \n",
            " 58  GarageType     1379 non-null   object \n",
            " 59  GarageYrBlt    1379 non-null   float64\n",
            " 60  GarageFinish   1379 non-null   object \n",
            " 61  GarageCars     1460 non-null   int64  \n",
            " 62  GarageArea     1460 non-null   int64  \n",
            " 63  GarageQual     1379 non-null   object \n",
            " 64  GarageCond     1379 non-null   object \n",
            " 65  PavedDrive     1460 non-null   object \n",
            " 66  WoodDeckSF     1460 non-null   int64  \n",
            " 67  OpenPorchSF    1460 non-null   int64  \n",
            " 68  EnclosedPorch  1460 non-null   int64  \n",
            " 69  3SsnPorch      1460 non-null   int64  \n",
            " 70  ScreenPorch    1460 non-null   int64  \n",
            " 71  PoolArea       1460 non-null   int64  \n",
            " 72  PoolQC         7 non-null      object \n",
            " 73  Fence          281 non-null    object \n",
            " 74  MiscFeature    54 non-null     object \n",
            " 75  MiscVal        1460 non-null   int64  \n",
            " 76  MoSold         1460 non-null   int64  \n",
            " 77  YrSold         1460 non-null   int64  \n",
            " 78  SaleType       1460 non-null   object \n",
            " 79  SaleCondition  1460 non-null   object \n",
            " 80  SalePrice      1460 non-null   int64  \n",
            "dtypes: float64(3), int64(35), object(43)\n",
            "memory usage: 924.0+ KB\n"
          ]
        }
      ]
    },
    {
      "cell_type": "code",
      "source": [
        "housing.describe()"
      ],
      "metadata": {
        "colab": {
          "base_uri": "https://localhost:8080/",
          "height": 0
        },
        "id": "aRoA_Vp9d-5V",
        "outputId": "94efcef3-ba78-481e-ed5b-8e2fdfbb999d"
      },
      "execution_count": 77,
      "outputs": [
        {
          "output_type": "execute_result",
          "data": {
            "text/plain": [
              "                Id   MSSubClass  LotFrontage        LotArea  OverallQual  \\\n",
              "count  1460.000000  1460.000000  1201.000000    1460.000000  1460.000000   \n",
              "mean    730.500000    56.897260    70.049958   10516.828082     6.099315   \n",
              "std     421.610009    42.300571    24.284752    9981.264932     1.382997   \n",
              "min       1.000000    20.000000    21.000000    1300.000000     1.000000   \n",
              "25%     365.750000    20.000000    59.000000    7553.500000     5.000000   \n",
              "50%     730.500000    50.000000    69.000000    9478.500000     6.000000   \n",
              "75%    1095.250000    70.000000    80.000000   11601.500000     7.000000   \n",
              "max    1460.000000   190.000000   313.000000  215245.000000    10.000000   \n",
              "\n",
              "       OverallCond    YearBuilt  YearRemodAdd   MasVnrArea   BsmtFinSF1  ...  \\\n",
              "count  1460.000000  1460.000000   1460.000000  1452.000000  1460.000000  ...   \n",
              "mean      5.575342  1971.267808   1984.865753   103.685262   443.639726  ...   \n",
              "std       1.112799    30.202904     20.645407   181.066207   456.098091  ...   \n",
              "min       1.000000  1872.000000   1950.000000     0.000000     0.000000  ...   \n",
              "25%       5.000000  1954.000000   1967.000000     0.000000     0.000000  ...   \n",
              "50%       5.000000  1973.000000   1994.000000     0.000000   383.500000  ...   \n",
              "75%       6.000000  2000.000000   2004.000000   166.000000   712.250000  ...   \n",
              "max       9.000000  2010.000000   2010.000000  1600.000000  5644.000000  ...   \n",
              "\n",
              "        WoodDeckSF  OpenPorchSF  EnclosedPorch    3SsnPorch  ScreenPorch  \\\n",
              "count  1460.000000  1460.000000    1460.000000  1460.000000  1460.000000   \n",
              "mean     94.244521    46.660274      21.954110     3.409589    15.060959   \n",
              "std     125.338794    66.256028      61.119149    29.317331    55.757415   \n",
              "min       0.000000     0.000000       0.000000     0.000000     0.000000   \n",
              "25%       0.000000     0.000000       0.000000     0.000000     0.000000   \n",
              "50%       0.000000    25.000000       0.000000     0.000000     0.000000   \n",
              "75%     168.000000    68.000000       0.000000     0.000000     0.000000   \n",
              "max     857.000000   547.000000     552.000000   508.000000   480.000000   \n",
              "\n",
              "          PoolArea       MiscVal       MoSold       YrSold      SalePrice  \n",
              "count  1460.000000   1460.000000  1460.000000  1460.000000    1460.000000  \n",
              "mean      2.758904     43.489041     6.321918  2007.815753  180921.195890  \n",
              "std      40.177307    496.123024     2.703626     1.328095   79442.502883  \n",
              "min       0.000000      0.000000     1.000000  2006.000000   34900.000000  \n",
              "25%       0.000000      0.000000     5.000000  2007.000000  129975.000000  \n",
              "50%       0.000000      0.000000     6.000000  2008.000000  163000.000000  \n",
              "75%       0.000000      0.000000     8.000000  2009.000000  214000.000000  \n",
              "max     738.000000  15500.000000    12.000000  2010.000000  755000.000000  \n",
              "\n",
              "[8 rows x 38 columns]"
            ],
            "text/html": [
              "\n",
              "  <div id=\"df-ce8a621a-31e2-4e7f-bf27-3a8c620ecb75\">\n",
              "    <div class=\"colab-df-container\">\n",
              "      <div>\n",
              "<style scoped>\n",
              "    .dataframe tbody tr th:only-of-type {\n",
              "        vertical-align: middle;\n",
              "    }\n",
              "\n",
              "    .dataframe tbody tr th {\n",
              "        vertical-align: top;\n",
              "    }\n",
              "\n",
              "    .dataframe thead th {\n",
              "        text-align: right;\n",
              "    }\n",
              "</style>\n",
              "<table border=\"1\" class=\"dataframe\">\n",
              "  <thead>\n",
              "    <tr style=\"text-align: right;\">\n",
              "      <th></th>\n",
              "      <th>Id</th>\n",
              "      <th>MSSubClass</th>\n",
              "      <th>LotFrontage</th>\n",
              "      <th>LotArea</th>\n",
              "      <th>OverallQual</th>\n",
              "      <th>OverallCond</th>\n",
              "      <th>YearBuilt</th>\n",
              "      <th>YearRemodAdd</th>\n",
              "      <th>MasVnrArea</th>\n",
              "      <th>BsmtFinSF1</th>\n",
              "      <th>...</th>\n",
              "      <th>WoodDeckSF</th>\n",
              "      <th>OpenPorchSF</th>\n",
              "      <th>EnclosedPorch</th>\n",
              "      <th>3SsnPorch</th>\n",
              "      <th>ScreenPorch</th>\n",
              "      <th>PoolArea</th>\n",
              "      <th>MiscVal</th>\n",
              "      <th>MoSold</th>\n",
              "      <th>YrSold</th>\n",
              "      <th>SalePrice</th>\n",
              "    </tr>\n",
              "  </thead>\n",
              "  <tbody>\n",
              "    <tr>\n",
              "      <th>count</th>\n",
              "      <td>1460.000000</td>\n",
              "      <td>1460.000000</td>\n",
              "      <td>1201.000000</td>\n",
              "      <td>1460.000000</td>\n",
              "      <td>1460.000000</td>\n",
              "      <td>1460.000000</td>\n",
              "      <td>1460.000000</td>\n",
              "      <td>1460.000000</td>\n",
              "      <td>1452.000000</td>\n",
              "      <td>1460.000000</td>\n",
              "      <td>...</td>\n",
              "      <td>1460.000000</td>\n",
              "      <td>1460.000000</td>\n",
              "      <td>1460.000000</td>\n",
              "      <td>1460.000000</td>\n",
              "      <td>1460.000000</td>\n",
              "      <td>1460.000000</td>\n",
              "      <td>1460.000000</td>\n",
              "      <td>1460.000000</td>\n",
              "      <td>1460.000000</td>\n",
              "      <td>1460.000000</td>\n",
              "    </tr>\n",
              "    <tr>\n",
              "      <th>mean</th>\n",
              "      <td>730.500000</td>\n",
              "      <td>56.897260</td>\n",
              "      <td>70.049958</td>\n",
              "      <td>10516.828082</td>\n",
              "      <td>6.099315</td>\n",
              "      <td>5.575342</td>\n",
              "      <td>1971.267808</td>\n",
              "      <td>1984.865753</td>\n",
              "      <td>103.685262</td>\n",
              "      <td>443.639726</td>\n",
              "      <td>...</td>\n",
              "      <td>94.244521</td>\n",
              "      <td>46.660274</td>\n",
              "      <td>21.954110</td>\n",
              "      <td>3.409589</td>\n",
              "      <td>15.060959</td>\n",
              "      <td>2.758904</td>\n",
              "      <td>43.489041</td>\n",
              "      <td>6.321918</td>\n",
              "      <td>2007.815753</td>\n",
              "      <td>180921.195890</td>\n",
              "    </tr>\n",
              "    <tr>\n",
              "      <th>std</th>\n",
              "      <td>421.610009</td>\n",
              "      <td>42.300571</td>\n",
              "      <td>24.284752</td>\n",
              "      <td>9981.264932</td>\n",
              "      <td>1.382997</td>\n",
              "      <td>1.112799</td>\n",
              "      <td>30.202904</td>\n",
              "      <td>20.645407</td>\n",
              "      <td>181.066207</td>\n",
              "      <td>456.098091</td>\n",
              "      <td>...</td>\n",
              "      <td>125.338794</td>\n",
              "      <td>66.256028</td>\n",
              "      <td>61.119149</td>\n",
              "      <td>29.317331</td>\n",
              "      <td>55.757415</td>\n",
              "      <td>40.177307</td>\n",
              "      <td>496.123024</td>\n",
              "      <td>2.703626</td>\n",
              "      <td>1.328095</td>\n",
              "      <td>79442.502883</td>\n",
              "    </tr>\n",
              "    <tr>\n",
              "      <th>min</th>\n",
              "      <td>1.000000</td>\n",
              "      <td>20.000000</td>\n",
              "      <td>21.000000</td>\n",
              "      <td>1300.000000</td>\n",
              "      <td>1.000000</td>\n",
              "      <td>1.000000</td>\n",
              "      <td>1872.000000</td>\n",
              "      <td>1950.000000</td>\n",
              "      <td>0.000000</td>\n",
              "      <td>0.000000</td>\n",
              "      <td>...</td>\n",
              "      <td>0.000000</td>\n",
              "      <td>0.000000</td>\n",
              "      <td>0.000000</td>\n",
              "      <td>0.000000</td>\n",
              "      <td>0.000000</td>\n",
              "      <td>0.000000</td>\n",
              "      <td>0.000000</td>\n",
              "      <td>1.000000</td>\n",
              "      <td>2006.000000</td>\n",
              "      <td>34900.000000</td>\n",
              "    </tr>\n",
              "    <tr>\n",
              "      <th>25%</th>\n",
              "      <td>365.750000</td>\n",
              "      <td>20.000000</td>\n",
              "      <td>59.000000</td>\n",
              "      <td>7553.500000</td>\n",
              "      <td>5.000000</td>\n",
              "      <td>5.000000</td>\n",
              "      <td>1954.000000</td>\n",
              "      <td>1967.000000</td>\n",
              "      <td>0.000000</td>\n",
              "      <td>0.000000</td>\n",
              "      <td>...</td>\n",
              "      <td>0.000000</td>\n",
              "      <td>0.000000</td>\n",
              "      <td>0.000000</td>\n",
              "      <td>0.000000</td>\n",
              "      <td>0.000000</td>\n",
              "      <td>0.000000</td>\n",
              "      <td>0.000000</td>\n",
              "      <td>5.000000</td>\n",
              "      <td>2007.000000</td>\n",
              "      <td>129975.000000</td>\n",
              "    </tr>\n",
              "    <tr>\n",
              "      <th>50%</th>\n",
              "      <td>730.500000</td>\n",
              "      <td>50.000000</td>\n",
              "      <td>69.000000</td>\n",
              "      <td>9478.500000</td>\n",
              "      <td>6.000000</td>\n",
              "      <td>5.000000</td>\n",
              "      <td>1973.000000</td>\n",
              "      <td>1994.000000</td>\n",
              "      <td>0.000000</td>\n",
              "      <td>383.500000</td>\n",
              "      <td>...</td>\n",
              "      <td>0.000000</td>\n",
              "      <td>25.000000</td>\n",
              "      <td>0.000000</td>\n",
              "      <td>0.000000</td>\n",
              "      <td>0.000000</td>\n",
              "      <td>0.000000</td>\n",
              "      <td>0.000000</td>\n",
              "      <td>6.000000</td>\n",
              "      <td>2008.000000</td>\n",
              "      <td>163000.000000</td>\n",
              "    </tr>\n",
              "    <tr>\n",
              "      <th>75%</th>\n",
              "      <td>1095.250000</td>\n",
              "      <td>70.000000</td>\n",
              "      <td>80.000000</td>\n",
              "      <td>11601.500000</td>\n",
              "      <td>7.000000</td>\n",
              "      <td>6.000000</td>\n",
              "      <td>2000.000000</td>\n",
              "      <td>2004.000000</td>\n",
              "      <td>166.000000</td>\n",
              "      <td>712.250000</td>\n",
              "      <td>...</td>\n",
              "      <td>168.000000</td>\n",
              "      <td>68.000000</td>\n",
              "      <td>0.000000</td>\n",
              "      <td>0.000000</td>\n",
              "      <td>0.000000</td>\n",
              "      <td>0.000000</td>\n",
              "      <td>0.000000</td>\n",
              "      <td>8.000000</td>\n",
              "      <td>2009.000000</td>\n",
              "      <td>214000.000000</td>\n",
              "    </tr>\n",
              "    <tr>\n",
              "      <th>max</th>\n",
              "      <td>1460.000000</td>\n",
              "      <td>190.000000</td>\n",
              "      <td>313.000000</td>\n",
              "      <td>215245.000000</td>\n",
              "      <td>10.000000</td>\n",
              "      <td>9.000000</td>\n",
              "      <td>2010.000000</td>\n",
              "      <td>2010.000000</td>\n",
              "      <td>1600.000000</td>\n",
              "      <td>5644.000000</td>\n",
              "      <td>...</td>\n",
              "      <td>857.000000</td>\n",
              "      <td>547.000000</td>\n",
              "      <td>552.000000</td>\n",
              "      <td>508.000000</td>\n",
              "      <td>480.000000</td>\n",
              "      <td>738.000000</td>\n",
              "      <td>15500.000000</td>\n",
              "      <td>12.000000</td>\n",
              "      <td>2010.000000</td>\n",
              "      <td>755000.000000</td>\n",
              "    </tr>\n",
              "  </tbody>\n",
              "</table>\n",
              "<p>8 rows × 38 columns</p>\n",
              "</div>\n",
              "      <button class=\"colab-df-convert\" onclick=\"convertToInteractive('df-ce8a621a-31e2-4e7f-bf27-3a8c620ecb75')\"\n",
              "              title=\"Convert this dataframe to an interactive table.\"\n",
              "              style=\"display:none;\">\n",
              "        \n",
              "  <svg xmlns=\"http://www.w3.org/2000/svg\" height=\"24px\"viewBox=\"0 0 24 24\"\n",
              "       width=\"24px\">\n",
              "    <path d=\"M0 0h24v24H0V0z\" fill=\"none\"/>\n",
              "    <path d=\"M18.56 5.44l.94 2.06.94-2.06 2.06-.94-2.06-.94-.94-2.06-.94 2.06-2.06.94zm-11 1L8.5 8.5l.94-2.06 2.06-.94-2.06-.94L8.5 2.5l-.94 2.06-2.06.94zm10 10l.94 2.06.94-2.06 2.06-.94-2.06-.94-.94-2.06-.94 2.06-2.06.94z\"/><path d=\"M17.41 7.96l-1.37-1.37c-.4-.4-.92-.59-1.43-.59-.52 0-1.04.2-1.43.59L10.3 9.45l-7.72 7.72c-.78.78-.78 2.05 0 2.83L4 21.41c.39.39.9.59 1.41.59.51 0 1.02-.2 1.41-.59l7.78-7.78 2.81-2.81c.8-.78.8-2.07 0-2.86zM5.41 20L4 18.59l7.72-7.72 1.47 1.35L5.41 20z\"/>\n",
              "  </svg>\n",
              "      </button>\n",
              "      \n",
              "  <style>\n",
              "    .colab-df-container {\n",
              "      display:flex;\n",
              "      flex-wrap:wrap;\n",
              "      gap: 12px;\n",
              "    }\n",
              "\n",
              "    .colab-df-convert {\n",
              "      background-color: #E8F0FE;\n",
              "      border: none;\n",
              "      border-radius: 50%;\n",
              "      cursor: pointer;\n",
              "      display: none;\n",
              "      fill: #1967D2;\n",
              "      height: 32px;\n",
              "      padding: 0 0 0 0;\n",
              "      width: 32px;\n",
              "    }\n",
              "\n",
              "    .colab-df-convert:hover {\n",
              "      background-color: #E2EBFA;\n",
              "      box-shadow: 0px 1px 2px rgba(60, 64, 67, 0.3), 0px 1px 3px 1px rgba(60, 64, 67, 0.15);\n",
              "      fill: #174EA6;\n",
              "    }\n",
              "\n",
              "    [theme=dark] .colab-df-convert {\n",
              "      background-color: #3B4455;\n",
              "      fill: #D2E3FC;\n",
              "    }\n",
              "\n",
              "    [theme=dark] .colab-df-convert:hover {\n",
              "      background-color: #434B5C;\n",
              "      box-shadow: 0px 1px 3px 1px rgba(0, 0, 0, 0.15);\n",
              "      filter: drop-shadow(0px 1px 2px rgba(0, 0, 0, 0.3));\n",
              "      fill: #FFFFFF;\n",
              "    }\n",
              "  </style>\n",
              "\n",
              "      <script>\n",
              "        const buttonEl =\n",
              "          document.querySelector('#df-ce8a621a-31e2-4e7f-bf27-3a8c620ecb75 button.colab-df-convert');\n",
              "        buttonEl.style.display =\n",
              "          google.colab.kernel.accessAllowed ? 'block' : 'none';\n",
              "\n",
              "        async function convertToInteractive(key) {\n",
              "          const element = document.querySelector('#df-ce8a621a-31e2-4e7f-bf27-3a8c620ecb75');\n",
              "          const dataTable =\n",
              "            await google.colab.kernel.invokeFunction('convertToInteractive',\n",
              "                                                     [key], {});\n",
              "          if (!dataTable) return;\n",
              "\n",
              "          const docLinkHtml = 'Like what you see? Visit the ' +\n",
              "            '<a target=\"_blank\" href=https://colab.research.google.com/notebooks/data_table.ipynb>data table notebook</a>'\n",
              "            + ' to learn more about interactive tables.';\n",
              "          element.innerHTML = '';\n",
              "          dataTable['output_type'] = 'display_data';\n",
              "          await google.colab.output.renderOutput(dataTable, element);\n",
              "          const docLink = document.createElement('div');\n",
              "          docLink.innerHTML = docLinkHtml;\n",
              "          element.appendChild(docLink);\n",
              "        }\n",
              "      </script>\n",
              "    </div>\n",
              "  </div>\n",
              "  "
            ]
          },
          "metadata": {},
          "execution_count": 77
        }
      ]
    },
    {
      "cell_type": "markdown",
      "metadata": {
        "id": "j5cT4JBSYOS6"
      },
      "source": [
        "## Step 3. Discover and visualize the data to gain insights\n",
        "**Data Discovery:** Plot out all correlations among the features. You should notice some features are more correlated with your predicted value than others. This information will help you confirm the weights of your regression model later on."
      ]
    },
    {
      "cell_type": "code",
      "source": [
        "housing.plot(kind=\"scatter\", x=\"LotArea\", y=\"SalePrice\")\n",
        "# save_fig(\"bad_visualization_plot\")"
      ],
      "metadata": {
        "colab": {
          "base_uri": "https://localhost:8080/",
          "height": 0
        },
        "id": "yhf3zmdrkq5w",
        "outputId": "ae6432a1-1a41-4470-834d-eafd54071853"
      },
      "execution_count": 78,
      "outputs": [
        {
          "output_type": "execute_result",
          "data": {
            "text/plain": [
              "<matplotlib.axes._subplots.AxesSubplot at 0x7f826deb9490>"
            ]
          },
          "metadata": {},
          "execution_count": 78
        },
        {
          "output_type": "display_data",
          "data": {
            "text/plain": [
              "<Figure size 432x288 with 1 Axes>"
            ],
            "image/png": "[encoded data removed]"
          },
          "metadata": {
            "needs_background": "light"
          }
        }
      ]
    },
    {
      "cell_type": "code",
      "source": [
        "#newLotArea = LotArea<1000\n",
        "housing.plot(kind=\"scatter\", x=\"LotArea\", y=\"SalePrice\", alpha=0.1, )"
      ],
      "metadata": {
        "colab": {
          "base_uri": "https://localhost:8080/",
          "height": 0
        },
        "id": "CxAqzrRbk8Gq",
        "outputId": "14364e12-95e3-416f-a7ba-9412935d2edb"
      },
      "execution_count": 79,
      "outputs": [
        {
          "output_type": "execute_result",
          "data": {
            "text/plain": [
              "<matplotlib.axes._subplots.AxesSubplot at 0x7f826de92690>"
            ]
          },
          "metadata": {},
          "execution_count": 79
        },
        {
          "output_type": "display_data",
          "data": {
            "text/plain": [
              "<Figure size 432x288 with 1 Axes>"
            ],
            "image/png": "[encoded data removed]"
          },
          "metadata": {
            "needs_background": "light"
          }
        }
      ]
    },
    {
      "cell_type": "code",
      "source": [
        "from pandas.plotting import scatter_matrix\n",
        "attributes = [\"SalePrice\", \"TotRmsAbvGrd\", \"LotArea\"]\n",
        "scatter_matrix(housing[attributes], figsize=(12, 8))"
      ],
      "metadata": {
        "colab": {
          "base_uri": "https://localhost:8080/",
          "height": 0
        },
        "id": "ls51rPIiZNOS",
        "outputId": "5b7ff9e7-574c-4cd6-d466-906e470d925d"
      },
      "execution_count": 80,
      "outputs": [
        {
          "output_type": "execute_result",
          "data": {
            "text/plain": [
              "array([[<matplotlib.axes._subplots.AxesSubplot object at 0x7f826de00d10>,\n",
              "        <matplotlib.axes._subplots.AxesSubplot object at 0x7f826ddb59d0>,\n",
              "        <matplotlib.axes._subplots.AxesSubplot object at 0x7f826dddcb10>],\n",
              "       [<matplotlib.axes._subplots.AxesSubplot object at 0x7f826dd28610>,\n",
              "        <matplotlib.axes._subplots.AxesSubplot object at 0x7f826dd5fc10>,\n",
              "        <matplotlib.axes._subplots.AxesSubplot object at 0x7f826dca3250>],\n",
              "       [<matplotlib.axes._subplots.AxesSubplot object at 0x7f826dcda8d0>,\n",
              "        <matplotlib.axes._subplots.AxesSubplot object at 0x7f826dc90e10>,\n",
              "        <matplotlib.axes._subplots.AxesSubplot object at 0x7f826dc90e50>]],\n",
              "      dtype=object)"
            ]
          },
          "metadata": {},
          "execution_count": 80
        },
        {
          "output_type": "display_data",
          "data": {
            "text/plain": [
              "<Figure size 864x576 with 9 Axes>"
            ],
            "image/png": "[encoded data removed]"
          },
          "metadata": {
            "needs_background": "light"
          }
        }
      ]
    },
    {
      "cell_type": "code",
      "metadata": {
        "id": "HqfralxMGqCt",
        "colab": {
          "base_uri": "https://localhost:8080/"
        },
        "outputId": "37fbdef4-741d-442a-d363-75466d123e2e"
      },
      "source": [
        "# Your code to visualize the data here\n",
        "# Let's look at how much each feature correlates to the house value \n",
        "import matplotlib.image as mpimg\n",
        "corr_matrix = housing.corr()\n",
        "corr_matrix[\"SalePrice\"].sort_values(ascending=False)"
      ],
      "execution_count": 81,
      "outputs": [
        {
          "output_type": "execute_result",
          "data": {
            "text/plain": [
              "SalePrice        1.000000\n",
              "OverallQual      0.790982\n",
              "GrLivArea        0.708624\n",
              "GarageCars       0.640409\n",
              "GarageArea       0.623431\n",
              "TotalBsmtSF      0.613581\n",
              "1stFlrSF         0.605852\n",
              "FullBath         0.560664\n",
              "TotRmsAbvGrd     0.533723\n",
              "YearBuilt        0.522897\n",
              "YearRemodAdd     0.507101\n",
              "GarageYrBlt      0.486362\n",
              "MasVnrArea       0.477493\n",
              "Fireplaces       0.466929\n",
              "BsmtFinSF1       0.386420\n",
              "LotFrontage      0.351799\n",
              "WoodDeckSF       0.324413\n",
              "2ndFlrSF         0.319334\n",
              "OpenPorchSF      0.315856\n",
              "HalfBath         0.284108\n",
              "LotArea          0.263843\n",
              "BsmtFullBath     0.227122\n",
              "BsmtUnfSF        0.214479\n",
              "BedroomAbvGr     0.168213\n",
              "ScreenPorch      0.111447\n",
              "PoolArea         0.092404\n",
              "MoSold           0.046432\n",
              "3SsnPorch        0.044584\n",
              "BsmtFinSF2      -0.011378\n",
              "BsmtHalfBath    -0.016844\n",
              "MiscVal         -0.021190\n",
              "Id              -0.021917\n",
              "LowQualFinSF    -0.025606\n",
              "YrSold          -0.028923\n",
              "OverallCond     -0.077856\n",
              "MSSubClass      -0.084284\n",
              "EnclosedPorch   -0.128578\n",
              "KitchenAbvGr    -0.135907\n",
              "Name: SalePrice, dtype: float64"
            ]
          },
          "metadata": {},
          "execution_count": 81
        }
      ]
    },
    {
      "cell_type": "code",
      "source": [
        "corr_matrix = housing.corr()\n",
        "corr_matrix.shape"
      ],
      "metadata": {
        "colab": {
          "base_uri": "https://localhost:8080/"
        },
        "id": "9AIa7Z1tSf_Z",
        "outputId": "f869bc3d-0647-4e23-88aa-5c4fdaa19b19"
      },
      "execution_count": 82,
      "outputs": [
        {
          "output_type": "execute_result",
          "data": {
            "text/plain": [
              "(38, 38)"
            ]
          },
          "metadata": {},
          "execution_count": 82
        }
      ]
    },
    {
      "cell_type": "markdown",
      "metadata": {
        "id": "Hr8UHps5Z0cF"
      },
      "source": [
        "##  Step 4: Data Preparation and Cleaning\n",
        "Since we can only use the \"train.csv\", you have to \"artificially\" split the data into training set, validation set, and test set. You may use the `train_test_split()` function *twice*: first is to split into train and set, then to split the train again into training and validation sets.\n",
        "\n",
        "Next, you need to construct the following:\n",
        "\n",
        "* **Data Cleaning:** If your dataset has some missing values, make sure you are able to fill those values with the `Imputer` class. \n",
        "\n",
        "* **Feature Scaling:** Your task is to call the `StandardScaler` to normalize the value of each feature.\n",
        "\n",
        "* **Transformation Pipeline:** More importantly, you will need to integrate the above operations into a `Pipeline` to process and transform the training data (via `fit_transform()`), then use the same pipeline to transform any validation and testing data (using `transform()` only)."
      ]
    },
    {
      "cell_type": "code",
      "source": [
        "print(housing.shape)"
      ],
      "metadata": {
        "colab": {
          "base_uri": "https://localhost:8080/"
        },
        "id": "FzuP98WoB8ZT",
        "outputId": "e15a8cb6-3ccc-494e-8b91-0e0b24d8f4e3"
      },
      "execution_count": 83,
      "outputs": [
        {
          "output_type": "stream",
          "name": "stdout",
          "text": [
            "(1460, 81)\n"
          ]
        }
      ]
    },
    {
      "cell_type": "code",
      "source": [
        "train_set = pd.read_csv('./sample_data/train.csv')"
      ],
      "metadata": {
        "id": "x35dR5A5-tv1"
      },
      "execution_count": 84,
      "outputs": []
    },
    {
      "cell_type": "code",
      "source": [
        "# Create the features and labels for training\n",
        "#housing = train_set.drop(\"SalePrice\", axis=1) # drop labels for training set\n",
        "#housing_labels = train_set[\"SalePrice\"].copy()"
      ],
      "metadata": {
        "id": "pM_nxxX4-sji"
      },
      "execution_count": 85,
      "outputs": []
    },
    {
      "cell_type": "code",
      "source": [
        "print(housing.shape)"
      ],
      "metadata": {
        "colab": {
          "base_uri": "https://localhost:8080/"
        },
        "id": "TV53MezjB_sW",
        "outputId": "c6e77cfa-5614-493f-98dd-db112b357ef0"
      },
      "execution_count": 86,
      "outputs": [
        {
          "output_type": "stream",
          "name": "stdout",
          "text": [
            "(1460, 81)\n"
          ]
        }
      ]
    },
    {
      "cell_type": "code",
      "source": [
        "# Your code check for missing values, feature scaling, and put all transformation into a pipeline here\n",
        "from sklearn.model_selection import train_test_split\n",
        "# Split the data into train set (80%) and test set (20%)\n",
        "train_set, test_set = train_test_split(housing, test_size=0.2, random_state=42)\n",
        "train_set, validation_set = train_test_split(train_set, test_size=0.2, random_state=42)"
      ],
      "metadata": {
        "id": "SFSbeEL_Zk1K"
      },
      "execution_count": 87,
      "outputs": []
    },
    {
      "cell_type": "code",
      "source": [
        "# Create the features and labels for training\n",
        "housing = train_set.drop(\"SalePrice\", axis=1) # drop labels for training set\n",
        "housing_labels = train_set[\"SalePrice\"].copy()\n"
      ],
      "metadata": {
        "id": "EApmv7q8iqGh"
      },
      "execution_count": 88,
      "outputs": []
    },
    {
      "cell_type": "code",
      "source": [
        "print( train_set.shape )\n",
        "print( test_set.shape )\n",
        "print( validation_set.shape)"
      ],
      "metadata": {
        "colab": {
          "base_uri": "https://localhost:8080/"
        },
        "id": "nHdXAHm3ZnW4",
        "outputId": "c7cc7cd7-6d41-4686-847b-e840e82690f5"
      },
      "execution_count": 89,
      "outputs": [
        {
          "output_type": "stream",
          "name": "stdout",
          "text": [
            "(934, 81)\n",
            "(292, 81)\n",
            "(234, 81)\n"
          ]
        }
      ]
    },
    {
      "cell_type": "code",
      "source": [
        "# Check to see if there's any missing value in the data with .isnull()\n",
        "sample_incomplete_rows = housing[housing.isnull().any(axis=1)].head()\n",
        "sample_incomplete_rows"
      ],
      "metadata": {
        "id": "0Q2fc6R6R1ch",
        "colab": {
          "base_uri": "https://localhost:8080/",
          "height": 279
        },
        "outputId": "1716d2cf-b068-473c-a605-21296eb3ccc6"
      },
      "execution_count": 90,
      "outputs": [
        {
          "output_type": "execute_result",
          "data": {
            "text/plain": [
              "      Id  MSSubClass MSZoning  LotFrontage  LotArea Street Alley LotShape  \\\n",
              "251  252         120       RM         44.0     4750   Pave   NaN      IR1   \n",
              "861  862         190       RL         75.0    11625   Pave   NaN      Reg   \n",
              "851  852         120       RL          NaN     3196   Pave   NaN      Reg   \n",
              "582  583          90       RL         81.0    11841   Grvl   NaN      Reg   \n",
              "326  327         120       RL         32.0    10846   Pave   NaN      IR1   \n",
              "\n",
              "    LandContour Utilities  ... ScreenPorch PoolArea PoolQC Fence MiscFeature  \\\n",
              "251         HLS    AllPub  ...         153        0    NaN   NaN         NaN   \n",
              "861         Lvl    AllPub  ...           0        0    NaN   NaN         NaN   \n",
              "851         Lvl    AllPub  ...           0        0    NaN   NaN         NaN   \n",
              "582         Lvl    AllPub  ...           0        0    NaN   NaN         NaN   \n",
              "326         Lvl    AllPub  ...           0        0    NaN   NaN         NaN   \n",
              "\n",
              "    MiscVal MoSold  YrSold  SaleType  SaleCondition  \n",
              "251       0     12    2007        WD         Family  \n",
              "861       0      4    2010        WD         Normal  \n",
              "851       0      5    2006        WD         Normal  \n",
              "582       0      5    2007        WD         Normal  \n",
              "326       0      5    2008       Con         Normal  \n",
              "\n",
              "[5 rows x 80 columns]"
            ],
            "text/html": [
              "\n",
              "  <div id=\"df-3eadee70-ba1e-4f63-93ee-a7750548f751\">\n",
              "    <div class=\"colab-df-container\">\n",
              "      <div>\n",
              "<style scoped>\n",
              "    .dataframe tbody tr th:only-of-type {\n",
              "        vertical-align: middle;\n",
              "    }\n",
              "\n",
              "    .dataframe tbody tr th {\n",
              "        vertical-align: top;\n",
              "    }\n",
              "\n",
              "    .dataframe thead th {\n",
              "        text-align: right;\n",
              "    }\n",
              "</style>\n",
              "<table border=\"1\" class=\"dataframe\">\n",
              "  <thead>\n",
              "    <tr style=\"text-align: right;\">\n",
              "      <th></th>\n",
              "      <th>Id</th>\n",
              "      <th>MSSubClass</th>\n",
              "      <th>MSZoning</th>\n",
              "      <th>LotFrontage</th>\n",
              "      <th>LotArea</th>\n",
              "      <th>Street</th>\n",
              "      <th>Alley</th>\n",
              "      <th>LotShape</th>\n",
              "      <th>LandContour</th>\n",
              "      <th>Utilities</th>\n",
              "      <th>...</th>\n",
              "      <th>ScreenPorch</th>\n",
              "      <th>PoolArea</th>\n",
              "      <th>PoolQC</th>\n",
              "      <th>Fence</th>\n",
              "      <th>MiscFeature</th>\n",
              "      <th>MiscVal</th>\n",
              "      <th>MoSold</th>\n",
              "      <th>YrSold</th>\n",
              "      <th>SaleType</th>\n",
              "      <th>SaleCondition</th>\n",
              "    </tr>\n",
              "  </thead>\n",
              "  <tbody>\n",
              "    <tr>\n",
              "      <th>251</th>\n",
              "      <td>252</td>\n",
              "      <td>120</td>\n",
              "      <td>RM</td>\n",
              "      <td>44.0</td>\n",
              "      <td>4750</td>\n",
              "      <td>Pave</td>\n",
              "      <td>NaN</td>\n",
              "      <td>IR1</td>\n",
              "      <td>HLS</td>\n",
              "      <td>AllPub</td>\n",
              "      <td>...</td>\n",
              "      <td>153</td>\n",
              "      <td>0</td>\n",
              "      <td>NaN</td>\n",
              "      <td>NaN</td>\n",
              "      <td>NaN</td>\n",
              "      <td>0</td>\n",
              "      <td>12</td>\n",
              "      <td>2007</td>\n",
              "      <td>WD</td>\n",
              "      <td>Family</td>\n",
              "    </tr>\n",
              "    <tr>\n",
              "      <th>861</th>\n",
              "      <td>862</td>\n",
              "      <td>190</td>\n",
              "      <td>RL</td>\n",
              "      <td>75.0</td>\n",
              "      <td>11625</td>\n",
              "      <td>Pave</td>\n",
              "      <td>NaN</td>\n",
              "      <td>Reg</td>\n",
              "      <td>Lvl</td>\n",
              "      <td>AllPub</td>\n",
              "      <td>...</td>\n",
              "      <td>0</td>\n",
              "      <td>0</td>\n",
              "      <td>NaN</td>\n",
              "      <td>NaN</td>\n",
              "      <td>NaN</td>\n",
              "      <td>0</td>\n",
              "      <td>4</td>\n",
              "      <td>2010</td>\n",
              "      <td>WD</td>\n",
              "      <td>Normal</td>\n",
              "    </tr>\n",
              "    <tr>\n",
              "      <th>851</th>\n",
              "      <td>852</td>\n",
              "      <td>120</td>\n",
              "      <td>RL</td>\n",
              "      <td>NaN</td>\n",
              "      <td>3196</td>\n",
              "      <td>Pave</td>\n",
              "      <td>NaN</td>\n",
              "      <td>Reg</td>\n",
              "      <td>Lvl</td>\n",
              "      <td>AllPub</td>\n",
              "      <td>...</td>\n",
              "      <td>0</td>\n",
              "      <td>0</td>\n",
              "      <td>NaN</td>\n",
              "      <td>NaN</td>\n",
              "      <td>NaN</td>\n",
              "      <td>0</td>\n",
              "      <td>5</td>\n",
              "      <td>2006</td>\n",
              "      <td>WD</td>\n",
              "      <td>Normal</td>\n",
              "    </tr>\n",
              "    <tr>\n",
              "      <th>582</th>\n",
              "      <td>583</td>\n",
              "      <td>90</td>\n",
              "      <td>RL</td>\n",
              "      <td>81.0</td>\n",
              "      <td>11841</td>\n",
              "      <td>Grvl</td>\n",
              "      <td>NaN</td>\n",
              "      <td>Reg</td>\n",
              "      <td>Lvl</td>\n",
              "      <td>AllPub</td>\n",
              "      <td>...</td>\n",
              "      <td>0</td>\n",
              "      <td>0</td>\n",
              "      <td>NaN</td>\n",
              "      <td>NaN</td>\n",
              "      <td>NaN</td>\n",
              "      <td>0</td>\n",
              "      <td>5</td>\n",
              "      <td>2007</td>\n",
              "      <td>WD</td>\n",
              "      <td>Normal</td>\n",
              "    </tr>\n",
              "    <tr>\n",
              "      <th>326</th>\n",
              "      <td>327</td>\n",
              "      <td>120</td>\n",
              "      <td>RL</td>\n",
              "      <td>32.0</td>\n",
              "      <td>10846</td>\n",
              "      <td>Pave</td>\n",
              "      <td>NaN</td>\n",
              "      <td>IR1</td>\n",
              "      <td>Lvl</td>\n",
              "      <td>AllPub</td>\n",
              "      <td>...</td>\n",
              "      <td>0</td>\n",
              "      <td>0</td>\n",
              "      <td>NaN</td>\n",
              "      <td>NaN</td>\n",
              "      <td>NaN</td>\n",
              "      <td>0</td>\n",
              "      <td>5</td>\n",
              "      <td>2008</td>\n",
              "      <td>Con</td>\n",
              "      <td>Normal</td>\n",
              "    </tr>\n",
              "  </tbody>\n",
              "</table>\n",
              "<p>5 rows × 80 columns</p>\n",
              "</div>\n",
              "      <button class=\"colab-df-convert\" onclick=\"convertToInteractive('df-3eadee70-ba1e-4f63-93ee-a7750548f751')\"\n",
              "              title=\"Convert this dataframe to an interactive table.\"\n",
              "              style=\"display:none;\">\n",
              "        \n",
              "  <svg xmlns=\"http://www.w3.org/2000/svg\" height=\"24px\"viewBox=\"0 0 24 24\"\n",
              "       width=\"24px\">\n",
              "    <path d=\"M0 0h24v24H0V0z\" fill=\"none\"/>\n",
              "    <path d=\"M18.56 5.44l.94 2.06.94-2.06 2.06-.94-2.06-.94-.94-2.06-.94 2.06-2.06.94zm-11 1L8.5 8.5l.94-2.06 2.06-.94-2.06-.94L8.5 2.5l-.94 2.06-2.06.94zm10 10l.94 2.06.94-2.06 2.06-.94-2.06-.94-.94-2.06-.94 2.06-2.06.94z\"/><path d=\"M17.41 7.96l-1.37-1.37c-.4-.4-.92-.59-1.43-.59-.52 0-1.04.2-1.43.59L10.3 9.45l-7.72 7.72c-.78.78-.78 2.05 0 2.83L4 21.41c.39.39.9.59 1.41.59.51 0 1.02-.2 1.41-.59l7.78-7.78 2.81-2.81c.8-.78.8-2.07 0-2.86zM5.41 20L4 18.59l7.72-7.72 1.47 1.35L5.41 20z\"/>\n",
              "  </svg>\n",
              "      </button>\n",
              "      \n",
              "  <style>\n",
              "    .colab-df-container {\n",
              "      display:flex;\n",
              "      flex-wrap:wrap;\n",
              "      gap: 12px;\n",
              "    }\n",
              "\n",
              "    .colab-df-convert {\n",
              "      background-color: #E8F0FE;\n",
              "      border: none;\n",
              "      border-radius: 50%;\n",
              "      cursor: pointer;\n",
              "      display: none;\n",
              "      fill: #1967D2;\n",
              "      height: 32px;\n",
              "      padding: 0 0 0 0;\n",
              "      width: 32px;\n",
              "    }\n",
              "\n",
              "    .colab-df-convert:hover {\n",
              "      background-color: #E2EBFA;\n",
              "      box-shadow: 0px 1px 2px rgba(60, 64, 67, 0.3), 0px 1px 3px 1px rgba(60, 64, 67, 0.15);\n",
              "      fill: #174EA6;\n",
              "    }\n",
              "\n",
              "    [theme=dark] .colab-df-convert {\n",
              "      background-color: #3B4455;\n",
              "      fill: #D2E3FC;\n",
              "    }\n",
              "\n",
              "    [theme=dark] .colab-df-convert:hover {\n",
              "      background-color: #434B5C;\n",
              "      box-shadow: 0px 1px 3px 1px rgba(0, 0, 0, 0.15);\n",
              "      filter: drop-shadow(0px 1px 2px rgba(0, 0, 0, 0.3));\n",
              "      fill: #FFFFFF;\n",
              "    }\n",
              "  </style>\n",
              "\n",
              "      <script>\n",
              "        const buttonEl =\n",
              "          document.querySelector('#df-3eadee70-ba1e-4f63-93ee-a7750548f751 button.colab-df-convert');\n",
              "        buttonEl.style.display =\n",
              "          google.colab.kernel.accessAllowed ? 'block' : 'none';\n",
              "\n",
              "        async function convertToInteractive(key) {\n",
              "          const element = document.querySelector('#df-3eadee70-ba1e-4f63-93ee-a7750548f751');\n",
              "          const dataTable =\n",
              "            await google.colab.kernel.invokeFunction('convertToInteractive',\n",
              "                                                     [key], {});\n",
              "          if (!dataTable) return;\n",
              "\n",
              "          const docLinkHtml = 'Like what you see? Visit the ' +\n",
              "            '<a target=\"_blank\" href=https://colab.research.google.com/notebooks/data_table.ipynb>data table notebook</a>'\n",
              "            + ' to learn more about interactive tables.';\n",
              "          element.innerHTML = '';\n",
              "          dataTable['output_type'] = 'display_data';\n",
              "          await google.colab.output.renderOutput(dataTable, element);\n",
              "          const docLink = document.createElement('div');\n",
              "          docLink.innerHTML = docLinkHtml;\n",
              "          element.appendChild(docLink);\n",
              "        }\n",
              "      </script>\n",
              "    </div>\n",
              "  </div>\n",
              "  "
            ]
          },
          "metadata": {},
          "execution_count": 90
        }
      ]
    },
    {
      "cell_type": "code",
      "source": [
        "# Third option is to fill the missing values with something reasonable (zero, mean, median, ect)\n",
        "# .fillna() will get this done\n",
        "median = housing[\"BedroomAbvGr\"].median()\n",
        "sample_incomplete_rows[\"BedroomAbvGr\"].fillna(median, inplace=True) # option 3"
      ],
      "metadata": {
        "id": "SSLwDKITSMPh"
      },
      "execution_count": 91,
      "outputs": []
    },
    {
      "cell_type": "code",
      "source": [
        "print(housing.shape)"
      ],
      "metadata": {
        "id": "gCLvNNRABv6K",
        "outputId": "a5bbfabb-7252-4a8b-efa7-e6feb7790733",
        "colab": {
          "base_uri": "https://localhost:8080/"
        }
      },
      "execution_count": 92,
      "outputs": [
        {
          "output_type": "stream",
          "name": "stdout",
          "text": [
            "(934, 80)\n"
          ]
        }
      ]
    },
    {
      "cell_type": "code",
      "source": [
        "sample_incomplete_rows"
      ],
      "metadata": {
        "colab": {
          "base_uri": "https://localhost:8080/",
          "height": 279
        },
        "id": "X0Mf_2-iSqy2",
        "outputId": "9e195d97-022c-4a17-ab4a-1ff8e70efdd7"
      },
      "execution_count": 93,
      "outputs": [
        {
          "output_type": "execute_result",
          "data": {
            "text/plain": [
              "      Id  MSSubClass MSZoning  LotFrontage  LotArea Street Alley LotShape  \\\n",
              "251  252         120       RM         44.0     4750   Pave   NaN      IR1   \n",
              "861  862         190       RL         75.0    11625   Pave   NaN      Reg   \n",
              "851  852         120       RL          NaN     3196   Pave   NaN      Reg   \n",
              "582  583          90       RL         81.0    11841   Grvl   NaN      Reg   \n",
              "326  327         120       RL         32.0    10846   Pave   NaN      IR1   \n",
              "\n",
              "    LandContour Utilities  ... ScreenPorch PoolArea PoolQC Fence MiscFeature  \\\n",
              "251         HLS    AllPub  ...         153        0    NaN   NaN         NaN   \n",
              "861         Lvl    AllPub  ...           0        0    NaN   NaN         NaN   \n",
              "851         Lvl    AllPub  ...           0        0    NaN   NaN         NaN   \n",
              "582         Lvl    AllPub  ...           0        0    NaN   NaN         NaN   \n",
              "326         Lvl    AllPub  ...           0        0    NaN   NaN         NaN   \n",
              "\n",
              "    MiscVal MoSold  YrSold  SaleType  SaleCondition  \n",
              "251       0     12    2007        WD         Family  \n",
              "861       0      4    2010        WD         Normal  \n",
              "851       0      5    2006        WD         Normal  \n",
              "582       0      5    2007        WD         Normal  \n",
              "326       0      5    2008       Con         Normal  \n",
              "\n",
              "[5 rows x 80 columns]"
            ],
            "text/html": [
              "\n",
              "  <div id=\"df-4acbb7d2-af39-4f69-a9fe-76b2a3e8d60f\">\n",
              "    <div class=\"colab-df-container\">\n",
              "      <div>\n",
              "<style scoped>\n",
              "    .dataframe tbody tr th:only-of-type {\n",
              "        vertical-align: middle;\n",
              "    }\n",
              "\n",
              "    .dataframe tbody tr th {\n",
              "        vertical-align: top;\n",
              "    }\n",
              "\n",
              "    .dataframe thead th {\n",
              "        text-align: right;\n",
              "    }\n",
              "</style>\n",
              "<table border=\"1\" class=\"dataframe\">\n",
              "  <thead>\n",
              "    <tr style=\"text-align: right;\">\n",
              "      <th></th>\n",
              "      <th>Id</th>\n",
              "      <th>MSSubClass</th>\n",
              "      <th>MSZoning</th>\n",
              "      <th>LotFrontage</th>\n",
              "      <th>LotArea</th>\n",
              "      <th>Street</th>\n",
              "      <th>Alley</th>\n",
              "      <th>LotShape</th>\n",
              "      <th>LandContour</th>\n",
              "      <th>Utilities</th>\n",
              "      <th>...</th>\n",
              "      <th>ScreenPorch</th>\n",
              "      <th>PoolArea</th>\n",
              "      <th>PoolQC</th>\n",
              "      <th>Fence</th>\n",
              "      <th>MiscFeature</th>\n",
              "      <th>MiscVal</th>\n",
              "      <th>MoSold</th>\n",
              "      <th>YrSold</th>\n",
              "      <th>SaleType</th>\n",
              "      <th>SaleCondition</th>\n",
              "    </tr>\n",
              "  </thead>\n",
              "  <tbody>\n",
              "    <tr>\n",
              "      <th>251</th>\n",
              "      <td>252</td>\n",
              "      <td>120</td>\n",
              "      <td>RM</td>\n",
              "      <td>44.0</td>\n",
              "      <td>4750</td>\n",
              "      <td>Pave</td>\n",
              "      <td>NaN</td>\n",
              "      <td>IR1</td>\n",
              "      <td>HLS</td>\n",
              "      <td>AllPub</td>\n",
              "      <td>...</td>\n",
              "      <td>153</td>\n",
              "      <td>0</td>\n",
              "      <td>NaN</td>\n",
              "      <td>NaN</td>\n",
              "      <td>NaN</td>\n",
              "      <td>0</td>\n",
              "      <td>12</td>\n",
              "      <td>2007</td>\n",
              "      <td>WD</td>\n",
              "      <td>Family</td>\n",
              "    </tr>\n",
              "    <tr>\n",
              "      <th>861</th>\n",
              "      <td>862</td>\n",
              "      <td>190</td>\n",
              "      <td>RL</td>\n",
              "      <td>75.0</td>\n",
              "      <td>11625</td>\n",
              "      <td>Pave</td>\n",
              "      <td>NaN</td>\n",
              "      <td>Reg</td>\n",
              "      <td>Lvl</td>\n",
              "      <td>AllPub</td>\n",
              "      <td>...</td>\n",
              "      <td>0</td>\n",
              "      <td>0</td>\n",
              "      <td>NaN</td>\n",
              "      <td>NaN</td>\n",
              "      <td>NaN</td>\n",
              "      <td>0</td>\n",
              "      <td>4</td>\n",
              "      <td>2010</td>\n",
              "      <td>WD</td>\n",
              "      <td>Normal</td>\n",
              "    </tr>\n",
              "    <tr>\n",
              "      <th>851</th>\n",
              "      <td>852</td>\n",
              "      <td>120</td>\n",
              "      <td>RL</td>\n",
              "      <td>NaN</td>\n",
              "      <td>3196</td>\n",
              "      <td>Pave</td>\n",
              "      <td>NaN</td>\n",
              "      <td>Reg</td>\n",
              "      <td>Lvl</td>\n",
              "      <td>AllPub</td>\n",
              "      <td>...</td>\n",
              "      <td>0</td>\n",
              "      <td>0</td>\n",
              "      <td>NaN</td>\n",
              "      <td>NaN</td>\n",
              "      <td>NaN</td>\n",
              "      <td>0</td>\n",
              "      <td>5</td>\n",
              "      <td>2006</td>\n",
              "      <td>WD</td>\n",
              "      <td>Normal</td>\n",
              "    </tr>\n",
              "    <tr>\n",
              "      <th>582</th>\n",
              "      <td>583</td>\n",
              "      <td>90</td>\n",
              "      <td>RL</td>\n",
              "      <td>81.0</td>\n",
              "      <td>11841</td>\n",
              "      <td>Grvl</td>\n",
              "      <td>NaN</td>\n",
              "      <td>Reg</td>\n",
              "      <td>Lvl</td>\n",
              "      <td>AllPub</td>\n",
              "      <td>...</td>\n",
              "      <td>0</td>\n",
              "      <td>0</td>\n",
              "      <td>NaN</td>\n",
              "      <td>NaN</td>\n",
              "      <td>NaN</td>\n",
              "      <td>0</td>\n",
              "      <td>5</td>\n",
              "      <td>2007</td>\n",
              "      <td>WD</td>\n",
              "      <td>Normal</td>\n",
              "    </tr>\n",
              "    <tr>\n",
              "      <th>326</th>\n",
              "      <td>327</td>\n",
              "      <td>120</td>\n",
              "      <td>RL</td>\n",
              "      <td>32.0</td>\n",
              "      <td>10846</td>\n",
              "      <td>Pave</td>\n",
              "      <td>NaN</td>\n",
              "      <td>IR1</td>\n",
              "      <td>Lvl</td>\n",
              "      <td>AllPub</td>\n",
              "      <td>...</td>\n",
              "      <td>0</td>\n",
              "      <td>0</td>\n",
              "      <td>NaN</td>\n",
              "      <td>NaN</td>\n",
              "      <td>NaN</td>\n",
              "      <td>0</td>\n",
              "      <td>5</td>\n",
              "      <td>2008</td>\n",
              "      <td>Con</td>\n",
              "      <td>Normal</td>\n",
              "    </tr>\n",
              "  </tbody>\n",
              "</table>\n",
              "<p>5 rows × 80 columns</p>\n",
              "</div>\n",
              "      <button class=\"colab-df-convert\" onclick=\"convertToInteractive('df-4acbb7d2-af39-4f69-a9fe-76b2a3e8d60f')\"\n",
              "              title=\"Convert this dataframe to an interactive table.\"\n",
              "              style=\"display:none;\">\n",
              "        \n",
              "  <svg xmlns=\"http://www.w3.org/2000/svg\" height=\"24px\"viewBox=\"0 0 24 24\"\n",
              "       width=\"24px\">\n",
              "    <path d=\"M0 0h24v24H0V0z\" fill=\"none\"/>\n",
              "    <path d=\"M18.56 5.44l.94 2.06.94-2.06 2.06-.94-2.06-.94-.94-2.06-.94 2.06-2.06.94zm-11 1L8.5 8.5l.94-2.06 2.06-.94-2.06-.94L8.5 2.5l-.94 2.06-2.06.94zm10 10l.94 2.06.94-2.06 2.06-.94-2.06-.94-.94-2.06-.94 2.06-2.06.94z\"/><path d=\"M17.41 7.96l-1.37-1.37c-.4-.4-.92-.59-1.43-.59-.52 0-1.04.2-1.43.59L10.3 9.45l-7.72 7.72c-.78.78-.78 2.05 0 2.83L4 21.41c.39.39.9.59 1.41.59.51 0 1.02-.2 1.41-.59l7.78-7.78 2.81-2.81c.8-.78.8-2.07 0-2.86zM5.41 20L4 18.59l7.72-7.72 1.47 1.35L5.41 20z\"/>\n",
              "  </svg>\n",
              "      </button>\n",
              "      \n",
              "  <style>\n",
              "    .colab-df-container {\n",
              "      display:flex;\n",
              "      flex-wrap:wrap;\n",
              "      gap: 12px;\n",
              "    }\n",
              "\n",
              "    .colab-df-convert {\n",
              "      background-color: #E8F0FE;\n",
              "      border: none;\n",
              "      border-radius: 50%;\n",
              "      cursor: pointer;\n",
              "      display: none;\n",
              "      fill: #1967D2;\n",
              "      height: 32px;\n",
              "      padding: 0 0 0 0;\n",
              "      width: 32px;\n",
              "    }\n",
              "\n",
              "    .colab-df-convert:hover {\n",
              "      background-color: #E2EBFA;\n",
              "      box-shadow: 0px 1px 2px rgba(60, 64, 67, 0.3), 0px 1px 3px 1px rgba(60, 64, 67, 0.15);\n",
              "      fill: #174EA6;\n",
              "    }\n",
              "\n",
              "    [theme=dark] .colab-df-convert {\n",
              "      background-color: #3B4455;\n",
              "      fill: #D2E3FC;\n",
              "    }\n",
              "\n",
              "    [theme=dark] .colab-df-convert:hover {\n",
              "      background-color: #434B5C;\n",
              "      box-shadow: 0px 1px 3px 1px rgba(0, 0, 0, 0.15);\n",
              "      filter: drop-shadow(0px 1px 2px rgba(0, 0, 0, 0.3));\n",
              "      fill: #FFFFFF;\n",
              "    }\n",
              "  </style>\n",
              "\n",
              "      <script>\n",
              "        const buttonEl =\n",
              "          document.querySelector('#df-4acbb7d2-af39-4f69-a9fe-76b2a3e8d60f button.colab-df-convert');\n",
              "        buttonEl.style.display =\n",
              "          google.colab.kernel.accessAllowed ? 'block' : 'none';\n",
              "\n",
              "        async function convertToInteractive(key) {\n",
              "          const element = document.querySelector('#df-4acbb7d2-af39-4f69-a9fe-76b2a3e8d60f');\n",
              "          const dataTable =\n",
              "            await google.colab.kernel.invokeFunction('convertToInteractive',\n",
              "                                                     [key], {});\n",
              "          if (!dataTable) return;\n",
              "\n",
              "          const docLinkHtml = 'Like what you see? Visit the ' +\n",
              "            '<a target=\"_blank\" href=https://colab.research.google.com/notebooks/data_table.ipynb>data table notebook</a>'\n",
              "            + ' to learn more about interactive tables.';\n",
              "          element.innerHTML = '';\n",
              "          dataTable['output_type'] = 'display_data';\n",
              "          await google.colab.output.renderOutput(dataTable, element);\n",
              "          const docLink = document.createElement('div');\n",
              "          docLink.innerHTML = docLinkHtml;\n",
              "          element.appendChild(docLink);\n",
              "        }\n",
              "      </script>\n",
              "    </div>\n",
              "  </div>\n",
              "  "
            ]
          },
          "metadata": {},
          "execution_count": 93
        }
      ]
    },
    {
      "cell_type": "code",
      "source": [
        "from sklearn.impute import SimpleImputer\n",
        "imputer = SimpleImputer(strategy=\"median\")"
      ],
      "metadata": {
        "id": "b-uElk-QTGlC"
      },
      "execution_count": 94,
      "outputs": []
    },
    {
      "cell_type": "code",
      "source": [
        "print(housing.shape)"
      ],
      "metadata": {
        "colab": {
          "base_uri": "https://localhost:8080/"
        },
        "id": "T3t-6nLRBq3C",
        "outputId": "cf2e5fec-12ac-4a4d-ae56-da3e0d652fd3"
      },
      "execution_count": 95,
      "outputs": [
        {
          "output_type": "stream",
          "name": "stdout",
          "text": [
            "(934, 80)\n"
          ]
        }
      ]
    },
    {
      "cell_type": "code",
      "source": [
        "housing_num = pd.read_csv('./sample_data/train.csv')\n",
        "housing_num = housing_num.drop(\"SalePrice\", axis=1)\n",
        "numeric_cols = housing_num.select_dtypes(exclude='number')\n",
        "housing_num.drop(numeric_cols, axis=1, inplace=True)\n",
        "housing_num\n",
        "imputer.fit(housing_num)"
      ],
      "metadata": {
        "colab": {
          "base_uri": "https://localhost:8080/"
        },
        "id": "1-55HlLDgjGG",
        "outputId": "02c32d13-a2a4-4a65-cb21-a7d7f5ba6da7"
      },
      "execution_count": 96,
      "outputs": [
        {
          "output_type": "execute_result",
          "data": {
            "text/plain": [
              "SimpleImputer(strategy='median')"
            ]
          },
          "metadata": {},
          "execution_count": 96
        }
      ]
    },
    {
      "cell_type": "code",
      "source": [
        "print(housing.shape)\n",
        "print(housing_num.shape)"
      ],
      "metadata": {
        "id": "_YGiH5TTCZzh",
        "outputId": "537a20d0-d10e-44eb-cd89-12368209821f",
        "colab": {
          "base_uri": "https://localhost:8080/"
        }
      },
      "execution_count": 97,
      "outputs": [
        {
          "output_type": "stream",
          "name": "stdout",
          "text": [
            "(934, 80)\n",
            "(1460, 37)\n"
          ]
        }
      ]
    },
    {
      "cell_type": "code",
      "source": [
        "imputer.statistics_"
      ],
      "metadata": {
        "id": "MnjcS1OSUn4-",
        "colab": {
          "base_uri": "https://localhost:8080/"
        },
        "outputId": "32ef3959-6a00-4dbe-de2c-6538a93c30bb"
      },
      "execution_count": 98,
      "outputs": [
        {
          "output_type": "execute_result",
          "data": {
            "text/plain": [
              "array([7.3050e+02, 5.0000e+01, 6.9000e+01, 9.4785e+03, 6.0000e+00,\n",
              "       5.0000e+00, 1.9730e+03, 1.9940e+03, 0.0000e+00, 3.8350e+02,\n",
              "       0.0000e+00, 4.7750e+02, 9.9150e+02, 1.0870e+03, 0.0000e+00,\n",
              "       0.0000e+00, 1.4640e+03, 0.0000e+00, 0.0000e+00, 2.0000e+00,\n",
              "       0.0000e+00, 3.0000e+00, 1.0000e+00, 6.0000e+00, 1.0000e+00,\n",
              "       1.9800e+03, 2.0000e+00, 4.8000e+02, 0.0000e+00, 2.5000e+01,\n",
              "       0.0000e+00, 0.0000e+00, 0.0000e+00, 0.0000e+00, 0.0000e+00,\n",
              "       6.0000e+00, 2.0080e+03])"
            ]
          },
          "metadata": {},
          "execution_count": 98
        }
      ]
    },
    {
      "cell_type": "code",
      "source": [
        "housing_num.median().values"
      ],
      "metadata": {
        "id": "yhVBrR3xUvh5",
        "colab": {
          "base_uri": "https://localhost:8080/"
        },
        "outputId": "ef2573ef-14cc-47b1-89bd-05fd1c415e76"
      },
      "execution_count": 99,
      "outputs": [
        {
          "output_type": "execute_result",
          "data": {
            "text/plain": [
              "array([7.3050e+02, 5.0000e+01, 6.9000e+01, 9.4785e+03, 6.0000e+00,\n",
              "       5.0000e+00, 1.9730e+03, 1.9940e+03, 0.0000e+00, 3.8350e+02,\n",
              "       0.0000e+00, 4.7750e+02, 9.9150e+02, 1.0870e+03, 0.0000e+00,\n",
              "       0.0000e+00, 1.4640e+03, 0.0000e+00, 0.0000e+00, 2.0000e+00,\n",
              "       0.0000e+00, 3.0000e+00, 1.0000e+00, 6.0000e+00, 1.0000e+00,\n",
              "       1.9800e+03, 2.0000e+00, 4.8000e+02, 0.0000e+00, 2.5000e+01,\n",
              "       0.0000e+00, 0.0000e+00, 0.0000e+00, 0.0000e+00, 0.0000e+00,\n",
              "       6.0000e+00, 2.0080e+03])"
            ]
          },
          "metadata": {},
          "execution_count": 99
        }
      ]
    },
    {
      "cell_type": "code",
      "source": [
        "X = imputer.transform(housing_num)\n",
        "print(X)"
      ],
      "metadata": {
        "id": "U7tBtVFMU0GN",
        "colab": {
          "base_uri": "https://localhost:8080/"
        },
        "outputId": "b650395c-fcc7-401c-dd5b-44732ad5ce2a"
      },
      "execution_count": 100,
      "outputs": [
        {
          "output_type": "stream",
          "name": "stdout",
          "text": [
            "[[1.000e+00 6.000e+01 6.500e+01 ... 0.000e+00 2.000e+00 2.008e+03]\n",
            " [2.000e+00 2.000e+01 8.000e+01 ... 0.000e+00 5.000e+00 2.007e+03]\n",
            " [3.000e+00 6.000e+01 6.800e+01 ... 0.000e+00 9.000e+00 2.008e+03]\n",
            " ...\n",
            " [1.458e+03 7.000e+01 6.600e+01 ... 2.500e+03 5.000e+00 2.010e+03]\n",
            " [1.459e+03 2.000e+01 6.800e+01 ... 0.000e+00 4.000e+00 2.010e+03]\n",
            " [1.460e+03 2.000e+01 7.500e+01 ... 0.000e+00 6.000e+00 2.008e+03]]\n"
          ]
        }
      ]
    },
    {
      "cell_type": "code",
      "source": [
        "imputer.strategy"
      ],
      "metadata": {
        "colab": {
          "base_uri": "https://localhost:8080/",
          "height": 36
        },
        "id": "gZVWwqXkVFRm",
        "outputId": "7ca64de2-e7a7-46a9-939a-808b872bd616"
      },
      "execution_count": 101,
      "outputs": [
        {
          "output_type": "execute_result",
          "data": {
            "text/plain": [
              "'median'"
            ],
            "application/vnd.google.colaboratory.intrinsic+json": {
              "type": "string"
            }
          },
          "metadata": {},
          "execution_count": 101
        }
      ]
    },
    {
      "cell_type": "code",
      "source": [
        "print(housing.shape)"
      ],
      "metadata": {
        "colab": {
          "base_uri": "https://localhost:8080/"
        },
        "id": "aNeQiAUyCKQI",
        "outputId": "71efd7f9-26aa-4d3a-84c8-b9b49a794cf1"
      },
      "execution_count": 102,
      "outputs": [
        {
          "output_type": "stream",
          "name": "stdout",
          "text": [
            "(934, 80)\n"
          ]
        }
      ]
    },
    {
      "cell_type": "code",
      "source": [
        "housing_cat = housing[[\"Neighborhood\"]]\n",
        "housing_cat.head(10)"
      ],
      "metadata": {
        "id": "Cq-JxR53VN1l",
        "colab": {
          "base_uri": "https://localhost:8080/",
          "height": 363
        },
        "outputId": "089bd102-a100-4496-e8bc-f4fbe7d5c4c9"
      },
      "execution_count": 103,
      "outputs": [
        {
          "output_type": "execute_result",
          "data": {
            "text/plain": [
              "     Neighborhood\n",
              "251       Crawfor\n",
              "861        Sawyer\n",
              "851       Blmngtn\n",
              "582       Edwards\n",
              "326       Veenker\n",
              "1366      CollgCr\n",
              "1261        NAmes\n",
              "117       Edwards\n",
              "1067        NAmes\n",
              "839       Edwards"
            ],
            "text/html": [
              "\n",
              "  <div id=\"df-9ac1f431-591e-45dc-a99d-1eca88ea3851\">\n",
              "    <div class=\"colab-df-container\">\n",
              "      <div>\n",
              "<style scoped>\n",
              "    .dataframe tbody tr th:only-of-type {\n",
              "        vertical-align: middle;\n",
              "    }\n",
              "\n",
              "    .dataframe tbody tr th {\n",
              "        vertical-align: top;\n",
              "    }\n",
              "\n",
              "    .dataframe thead th {\n",
              "        text-align: right;\n",
              "    }\n",
              "</style>\n",
              "<table border=\"1\" class=\"dataframe\">\n",
              "  <thead>\n",
              "    <tr style=\"text-align: right;\">\n",
              "      <th></th>\n",
              "      <th>Neighborhood</th>\n",
              "    </tr>\n",
              "  </thead>\n",
              "  <tbody>\n",
              "    <tr>\n",
              "      <th>251</th>\n",
              "      <td>Crawfor</td>\n",
              "    </tr>\n",
              "    <tr>\n",
              "      <th>861</th>\n",
              "      <td>Sawyer</td>\n",
              "    </tr>\n",
              "    <tr>\n",
              "      <th>851</th>\n",
              "      <td>Blmngtn</td>\n",
              "    </tr>\n",
              "    <tr>\n",
              "      <th>582</th>\n",
              "      <td>Edwards</td>\n",
              "    </tr>\n",
              "    <tr>\n",
              "      <th>326</th>\n",
              "      <td>Veenker</td>\n",
              "    </tr>\n",
              "    <tr>\n",
              "      <th>1366</th>\n",
              "      <td>CollgCr</td>\n",
              "    </tr>\n",
              "    <tr>\n",
              "      <th>1261</th>\n",
              "      <td>NAmes</td>\n",
              "    </tr>\n",
              "    <tr>\n",
              "      <th>117</th>\n",
              "      <td>Edwards</td>\n",
              "    </tr>\n",
              "    <tr>\n",
              "      <th>1067</th>\n",
              "      <td>NAmes</td>\n",
              "    </tr>\n",
              "    <tr>\n",
              "      <th>839</th>\n",
              "      <td>Edwards</td>\n",
              "    </tr>\n",
              "  </tbody>\n",
              "</table>\n",
              "</div>\n",
              "      <button class=\"colab-df-convert\" onclick=\"convertToInteractive('df-9ac1f431-591e-45dc-a99d-1eca88ea3851')\"\n",
              "              title=\"Convert this dataframe to an interactive table.\"\n",
              "              style=\"display:none;\">\n",
              "        \n",
              "  <svg xmlns=\"http://www.w3.org/2000/svg\" height=\"24px\"viewBox=\"0 0 24 24\"\n",
              "       width=\"24px\">\n",
              "    <path d=\"M0 0h24v24H0V0z\" fill=\"none\"/>\n",
              "    <path d=\"M18.56 5.44l.94 2.06.94-2.06 2.06-.94-2.06-.94-.94-2.06-.94 2.06-2.06.94zm-11 1L8.5 8.5l.94-2.06 2.06-.94-2.06-.94L8.5 2.5l-.94 2.06-2.06.94zm10 10l.94 2.06.94-2.06 2.06-.94-2.06-.94-.94-2.06-.94 2.06-2.06.94z\"/><path d=\"M17.41 7.96l-1.37-1.37c-.4-.4-.92-.59-1.43-.59-.52 0-1.04.2-1.43.59L10.3 9.45l-7.72 7.72c-.78.78-.78 2.05 0 2.83L4 21.41c.39.39.9.59 1.41.59.51 0 1.02-.2 1.41-.59l7.78-7.78 2.81-2.81c.8-.78.8-2.07 0-2.86zM5.41 20L4 18.59l7.72-7.72 1.47 1.35L5.41 20z\"/>\n",
              "  </svg>\n",
              "      </button>\n",
              "      \n",
              "  <style>\n",
              "    .colab-df-container {\n",
              "      display:flex;\n",
              "      flex-wrap:wrap;\n",
              "      gap: 12px;\n",
              "    }\n",
              "\n",
              "    .colab-df-convert {\n",
              "      background-color: #E8F0FE;\n",
              "      border: none;\n",
              "      border-radius: 50%;\n",
              "      cursor: pointer;\n",
              "      display: none;\n",
              "      fill: #1967D2;\n",
              "      height: 32px;\n",
              "      padding: 0 0 0 0;\n",
              "      width: 32px;\n",
              "    }\n",
              "\n",
              "    .colab-df-convert:hover {\n",
              "      background-color: #E2EBFA;\n",
              "      box-shadow: 0px 1px 2px rgba(60, 64, 67, 0.3), 0px 1px 3px 1px rgba(60, 64, 67, 0.15);\n",
              "      fill: #174EA6;\n",
              "    }\n",
              "\n",
              "    [theme=dark] .colab-df-convert {\n",
              "      background-color: #3B4455;\n",
              "      fill: #D2E3FC;\n",
              "    }\n",
              "\n",
              "    [theme=dark] .colab-df-convert:hover {\n",
              "      background-color: #434B5C;\n",
              "      box-shadow: 0px 1px 3px 1px rgba(0, 0, 0, 0.15);\n",
              "      filter: drop-shadow(0px 1px 2px rgba(0, 0, 0, 0.3));\n",
              "      fill: #FFFFFF;\n",
              "    }\n",
              "  </style>\n",
              "\n",
              "      <script>\n",
              "        const buttonEl =\n",
              "          document.querySelector('#df-9ac1f431-591e-45dc-a99d-1eca88ea3851 button.colab-df-convert');\n",
              "        buttonEl.style.display =\n",
              "          google.colab.kernel.accessAllowed ? 'block' : 'none';\n",
              "\n",
              "        async function convertToInteractive(key) {\n",
              "          const element = document.querySelector('#df-9ac1f431-591e-45dc-a99d-1eca88ea3851');\n",
              "          const dataTable =\n",
              "            await google.colab.kernel.invokeFunction('convertToInteractive',\n",
              "                                                     [key], {});\n",
              "          if (!dataTable) return;\n",
              "\n",
              "          const docLinkHtml = 'Like what you see? Visit the ' +\n",
              "            '<a target=\"_blank\" href=https://colab.research.google.com/notebooks/data_table.ipynb>data table notebook</a>'\n",
              "            + ' to learn more about interactive tables.';\n",
              "          element.innerHTML = '';\n",
              "          dataTable['output_type'] = 'display_data';\n",
              "          await google.colab.output.renderOutput(dataTable, element);\n",
              "          const docLink = document.createElement('div');\n",
              "          docLink.innerHTML = docLinkHtml;\n",
              "          element.appendChild(docLink);\n",
              "        }\n",
              "      </script>\n",
              "    </div>\n",
              "  </div>\n",
              "  "
            ]
          },
          "metadata": {},
          "execution_count": 103
        }
      ]
    },
    {
      "cell_type": "code",
      "source": [
        "from sklearn.preprocessing import OrdinalEncoder\n",
        "# OrdinalEncoder encodes consecutive numbers for the categories (5 categories --> 0,1,2,3,4)\n",
        "ordinal_encoder = OrdinalEncoder()\n",
        "housing_cat_encoded = ordinal_encoder.fit_transform(housing_cat)\n",
        "housing_cat_encoded[:10]"
      ],
      "metadata": {
        "id": "FLeciwxPVV6P",
        "colab": {
          "base_uri": "https://localhost:8080/"
        },
        "outputId": "bd9707be-c730-4402-9de6-5d4cf756ada1"
      },
      "execution_count": 104,
      "outputs": [
        {
          "output_type": "execute_result",
          "data": {
            "text/plain": [
              "array([[ 5.],\n",
              "       [18.],\n",
              "       [ 0.],\n",
              "       [ 6.],\n",
              "       [23.],\n",
              "       [ 4.],\n",
              "       [11.],\n",
              "       [ 6.],\n",
              "       [11.],\n",
              "       [ 6.]])"
            ]
          },
          "metadata": {},
          "execution_count": 104
        }
      ]
    },
    {
      "cell_type": "code",
      "source": [
        "ordinal_encoder.categories_"
      ],
      "metadata": {
        "id": "8VgbBFrZVZ8f",
        "colab": {
          "base_uri": "https://localhost:8080/"
        },
        "outputId": "eb30d8c3-c3d2-4fd7-fdb1-76e5d5190156"
      },
      "execution_count": 105,
      "outputs": [
        {
          "output_type": "execute_result",
          "data": {
            "text/plain": [
              "[array(['Blmngtn', 'BrDale', 'BrkSide', 'ClearCr', 'CollgCr', 'Crawfor',\n",
              "        'Edwards', 'Gilbert', 'IDOTRR', 'MeadowV', 'Mitchel', 'NAmes',\n",
              "        'NPkVill', 'NWAmes', 'NoRidge', 'NridgHt', 'OldTown', 'SWISU',\n",
              "        'Sawyer', 'SawyerW', 'Somerst', 'StoneBr', 'Timber', 'Veenker'],\n",
              "       dtype=object)]"
            ]
          },
          "metadata": {},
          "execution_count": 105
        }
      ]
    },
    {
      "cell_type": "code",
      "source": [
        "from sklearn.preprocessing import OneHotEncoder\n",
        "\n",
        "cat_encoder = OneHotEncoder()\n",
        "housing_cat_1hot = cat_encoder.fit_transform(housing_cat)\n",
        "housing_cat_1hot"
      ],
      "metadata": {
        "id": "Z19HAM4NVbpU",
        "colab": {
          "base_uri": "https://localhost:8080/"
        },
        "outputId": "5ae5baca-f58f-48ae-f1f0-f2024bf3d2bb"
      },
      "execution_count": 106,
      "outputs": [
        {
          "output_type": "execute_result",
          "data": {
            "text/plain": [
              "<934x24 sparse matrix of type '<class 'numpy.float64'>'\n",
              "\twith 934 stored elements in Compressed Sparse Row format>"
            ]
          },
          "metadata": {},
          "execution_count": 106
        }
      ]
    },
    {
      "cell_type": "code",
      "source": [
        "housing_cat_1hot.toarray()"
      ],
      "metadata": {
        "id": "EAWusn0MVfH3",
        "colab": {
          "base_uri": "https://localhost:8080/"
        },
        "outputId": "5ee7da90-f4cb-417c-a2c1-ed7acedf216c"
      },
      "execution_count": 107,
      "outputs": [
        {
          "output_type": "execute_result",
          "data": {
            "text/plain": [
              "array([[0., 0., 0., ..., 0., 0., 0.],\n",
              "       [0., 0., 0., ..., 0., 0., 0.],\n",
              "       [1., 0., 0., ..., 0., 0., 0.],\n",
              "       ...,\n",
              "       [0., 0., 0., ..., 0., 0., 0.],\n",
              "       [0., 0., 0., ..., 0., 0., 0.],\n",
              "       [0., 0., 0., ..., 0., 1., 0.]])"
            ]
          },
          "metadata": {},
          "execution_count": 107
        }
      ]
    },
    {
      "cell_type": "code",
      "source": [
        "cat_encoder = OneHotEncoder(sparse=False)\n",
        "housing_cat_1hot = cat_encoder.fit_transform(housing_cat)\n",
        "housing_cat_1hot"
      ],
      "metadata": {
        "id": "jO9ArXmRViFZ",
        "colab": {
          "base_uri": "https://localhost:8080/"
        },
        "outputId": "2a22387b-ee0a-4822-e103-d89a761ce726"
      },
      "execution_count": 108,
      "outputs": [
        {
          "output_type": "execute_result",
          "data": {
            "text/plain": [
              "array([[0., 0., 0., ..., 0., 0., 0.],\n",
              "       [0., 0., 0., ..., 0., 0., 0.],\n",
              "       [1., 0., 0., ..., 0., 0., 0.],\n",
              "       ...,\n",
              "       [0., 0., 0., ..., 0., 0., 0.],\n",
              "       [0., 0., 0., ..., 0., 0., 0.],\n",
              "       [0., 0., 0., ..., 0., 1., 0.]])"
            ]
          },
          "metadata": {},
          "execution_count": 108
        }
      ]
    },
    {
      "cell_type": "code",
      "source": [
        "cat_encoder.categories_"
      ],
      "metadata": {
        "id": "RMhH-eAdVjWV",
        "colab": {
          "base_uri": "https://localhost:8080/"
        },
        "outputId": "f80d9070-61f8-4646-c2f2-e3c12e7e8247"
      },
      "execution_count": 109,
      "outputs": [
        {
          "output_type": "execute_result",
          "data": {
            "text/plain": [
              "[array(['Blmngtn', 'BrDale', 'BrkSide', 'ClearCr', 'CollgCr', 'Crawfor',\n",
              "        'Edwards', 'Gilbert', 'IDOTRR', 'MeadowV', 'Mitchel', 'NAmes',\n",
              "        'NPkVill', 'NWAmes', 'NoRidge', 'NridgHt', 'OldTown', 'SWISU',\n",
              "        'Sawyer', 'SawyerW', 'Somerst', 'StoneBr', 'Timber', 'Veenker'],\n",
              "       dtype=object)]"
            ]
          },
          "metadata": {},
          "execution_count": 109
        }
      ]
    },
    {
      "cell_type": "code",
      "source": [
        "from sklearn.pipeline import Pipeline\n",
        "from sklearn.preprocessing import StandardScaler\n",
        "num_pipeline = Pipeline([\n",
        "        ('imputer', SimpleImputer(strategy=\"median\")),\n",
        "        ('std_scaler', StandardScaler()),\n",
        "    ])\n",
        "\n",
        "housing_num_tr = num_pipeline.fit_transform(housing_num)"
      ],
      "metadata": {
        "id": "5FbM1TQvgKf2"
      },
      "execution_count": 110,
      "outputs": []
    },
    {
      "cell_type": "code",
      "source": [
        "housing_num_tr"
      ],
      "metadata": {
        "id": "fmfdMC6-WcEn",
        "colab": {
          "base_uri": "https://localhost:8080/"
        },
        "outputId": "442cdec4-b9d3-4b54-9a23-c9d53a099990"
      },
      "execution_count": 111,
      "outputs": [
        {
          "output_type": "execute_result",
          "data": {
            "text/plain": [
              "array([[-1.73086488,  0.07337496, -0.22087509, ..., -0.08768781,\n",
              "        -1.5991111 ,  0.13877749],\n",
              "       [-1.7284922 , -0.87256276,  0.46031974, ..., -0.08768781,\n",
              "        -0.48911005, -0.61443862],\n",
              "       [-1.72611953,  0.07337496, -0.08463612, ..., -0.08768781,\n",
              "         0.99089135,  0.13877749],\n",
              "       ...,\n",
              "       [ 1.72611953,  0.30985939, -0.1754621 , ...,  4.95311151,\n",
              "        -0.48911005,  1.64520971],\n",
              "       [ 1.7284922 , -0.87256276, -0.08463612, ..., -0.08768781,\n",
              "        -0.8591104 ,  1.64520971],\n",
              "       [ 1.73086488, -0.87256276,  0.23325479, ..., -0.08768781,\n",
              "        -0.1191097 ,  0.13877749]])"
            ]
          },
          "metadata": {},
          "execution_count": 111
        }
      ]
    },
    {
      "cell_type": "code",
      "source": [
        "from sklearn.compose import ColumnTransformer\n",
        "#new_housing = pd.read_csv('./sample_data/train.csv')\n",
        "#new_housing \n",
        "num_attribs = list(housing_num)\n",
        "cat_attribs = [\"Neighborhood\"]\n",
        "\n",
        "full_pipeline = ColumnTransformer([\n",
        "        (\"num\", num_pipeline, num_attribs),\n",
        "        (\"cat\", OneHotEncoder(handle_unknown=\"ignore\"), cat_attribs),\n",
        "    ])\n",
        "\n",
        "housing_prepared = full_pipeline.fit_transform(housing)\n"
      ],
      "metadata": {
        "id": "DeqfgLj0XjsI"
      },
      "execution_count": 166,
      "outputs": []
    },
    {
      "cell_type": "code",
      "source": [
        "# housing_prepared\n",
        "print(housing.shape)\n",
        "print(housing_prepared.shape)"
      ],
      "metadata": {
        "colab": {
          "base_uri": "https://localhost:8080/"
        },
        "id": "Ggl3VkIhYThd",
        "outputId": "59080ef6-ca7c-42f6-bd38-704088f1b09b"
      },
      "execution_count": 113,
      "outputs": [
        {
          "output_type": "stream",
          "name": "stdout",
          "text": [
            "(934, 80)\n",
            "(934, 61)\n"
          ]
        }
      ]
    },
    {
      "cell_type": "code",
      "source": [
        "housing_prepared"
      ],
      "metadata": {
        "id": "1Dm0C6SDYU59"
      },
      "execution_count": null,
      "outputs": []
    },
    {
      "cell_type": "markdown",
      "metadata": {
        "id": "8ExMZjJgaZ7j"
      },
      "source": [
        "## Step 5: Model Selection\n",
        "You should use (at the minimum) the basic ML models which we’ve covered: `LinearRegression`, `DecisionTreeRegressor`, `RandomForestRegressor`. Optionally, you may go for the extra miles by doing some research and try some more advanced models (ie. `Artificial Neural Networks`). You may use `RMSE` as the performance measure.\n",
        "\n",
        "You must use 5-fold CV on the data set to evaluate the performance of your models (following the sample codes on Colab 02).\n"
      ]
    },
    {
      "cell_type": "code",
      "source": [
        "print(housing_prepared.shape)\n",
        "print(housing_labels.shape)"
      ],
      "metadata": {
        "colab": {
          "base_uri": "https://localhost:8080/"
        },
        "id": "VQ5DjtjXY8Fh",
        "outputId": "c1d7cb93-ba59-404f-8790-549a5b45bf38"
      },
      "execution_count": 148,
      "outputs": [
        {
          "output_type": "stream",
          "name": "stdout",
          "text": [
            "(934, 61)\n",
            "(934,)\n"
          ]
        }
      ]
    },
    {
      "cell_type": "code",
      "metadata": {
        "id": "waI2JEldacQF",
        "colab": {
          "base_uri": "https://localhost:8080/"
        },
        "outputId": "d2021a73-98b1-46c5-df55-1dcf55d549b1"
      },
      "source": [
        "# Try a few models here\n",
        "from sklearn.linear_model import LinearRegression\n",
        "\n",
        "lin_reg = LinearRegression()\n",
        "lin_reg.fit(housing_prepared, housing_labels)"
      ],
      "execution_count": 149,
      "outputs": [
        {
          "output_type": "execute_result",
          "data": {
            "text/plain": [
              "LinearRegression()"
            ]
          },
          "metadata": {},
          "execution_count": 149
        }
      ]
    },
    {
      "cell_type": "code",
      "source": [
        "# let's try the full preprocessing pipeline on a few training instances\n",
        "some_data = housing.iloc[5:]\n",
        "some_labels = housing_labels.iloc[5:]\n",
        "some_data_prepared = full_pipeline.transform(some_data)\n",
        "# Note here that you only use transform() instead of fit_tranform becausue you are not trying to learn any parameter (ie. median)\n",
        "\n",
        "print(\"Predictions:\", lin_reg.predict(some_data_prepared))"
      ],
      "metadata": {
        "colab": {
          "base_uri": "https://localhost:8080/"
        },
        "id": "zRv3QTq_aCba",
        "outputId": "836c29df-1541-4cf7-b441-5295c3a515cb"
      },
      "execution_count": 150,
      "outputs": [
        {
          "output_type": "stream",
          "name": "stdout",
          "text": [
            "Predictions: [214779. 111523. 142355. 184939. 100491. 120251. 220171. 193179. 248555.\n",
            " 246377. 170635. 119355.  68699. 239371. 120987. 153827. 122715. 318883.\n",
            " 267131. 224985. 116839.  91947. 169379. 238571. 198283. 249611. 172571.\n",
            " 214431. 117823. 143339. 165047. 128947. 237931. 280115. 190811.  95419.\n",
            " 166973. 217115. 108483. 178603. 127891. 140123. 157563. 226539. 232187.\n",
            " 329067. 201451. 153279. 191499.  85595. 146603. 162411. 189419. 276363.\n",
            " 135199. 168267. 175339. 134835. 100555. 205051. 203499.  56275. 272075.\n",
            " 144027. 272027. 139083. 310763.  74891. 167579. 179691. 217579. 222299.\n",
            " 153555. 213769.  68751. 198603. 146675. 211691. 174291. 250683.  97115.\n",
            " 304827.  91371. 220843. 124931. 153131. 123403. 172779.  93483. 209203.\n",
            " 287419. 175563. 110203. 205643. 149227.  84747. 121995. 201211. 149571.\n",
            " 122960. 112715.  11723. 224507. 229609. 105691.  38123. 179099. 235403.\n",
            " 120891. 271691. 122363. 166411. 386571. 136939. 145083. 101691. 319795.\n",
            " 110931. 266603. 140207. 122555. 163267. 296139. 251595. 133835. 206315.\n",
            " 208847. 277771.  85259. 124171. 165995. 212787. 249803. 241643. 114267.\n",
            " 341195. 183579. 145755. 147579. 158219. 152987.  33579. 103339. 178523.\n",
            " 117795. 316043. 306667. 238611. 161691. 234139. 228379.  67851. 309323.\n",
            " 137723. 152379. 201803. 153027. 128623. 217659. 295947. 164747. 309227.\n",
            " 165891. 176507. 107227. 242995. 119195.  71627. 198651. 178049. 169439.\n",
            " 164479.  84651. 193035.  92235. 165419.  64283. 112187. 131251.  54987.\n",
            " 163867. 153931. 355371.  97899. 165713. 138379. 298187. 359819. 128483.\n",
            " 134611. 311375. 111895. 142675. 193835. 138699. 120939. 169327. 119227.\n",
            "  58155. 271411. 141299. 166013. 182523. 329931. 175819. 144175. 220707.\n",
            " 124331. 309136. 370181. 408299. 151307. 227251. 120499. 167947. 219739.\n",
            " 136795. 160107. 198827. 285163. 190035. 170203. 159927. 200779. 113163.\n",
            " 150379. 122475. 167307. 131659. 169515. 143227. 186827. 132947. 133371.\n",
            " 305867. 142655. 279619.  95163. 205353. 246395.  87003. 252619. 180479.\n",
            " 151917. 301497. 154779. 383339. 236825. 145371.  88219. 271523. 139139.\n",
            "  90999. 304139. 165003. 185003. 119675. 241659. 168915. 120507. 112475.\n",
            " 177995. 243467.   7403. 188363. 133365. 268683. 126219. 260203. 159995.\n",
            " 144883. 319883. 205659. 135243. 245083. 134443. 224731. 231331. 248459.\n",
            " 111595.  96171. 161483. 272299. 121563. 186955. 173243. 186003. 182379.\n",
            " 393963. 192459. 354603. 114024. 189011. 127228. 193195. 271851. 233527.\n",
            " 225361. 192719. 165632. 198651. 121251. 172795. 140299. 107099. 189035.\n",
            " 182675. 217291. 171499. 120699. 106619. 115515. 355371. 192563. 171131.\n",
            " 242605. 157907. 141835. 211611. 162283. 136499. 203643. 289131. 199787.\n",
            " 150523. 318777. 169427. 176443. 349681. 215003. 172411. 195707. 127787.\n",
            " 114123. 193131.  69595. 242691. 109419. 170867. 163231. 113867. 173739.\n",
            " 196187. 266411. 142391. 245931. 489067. 115187. 120315. 350413. 256267.\n",
            " 187723. 152327. 219979. 126635. 334795. 450731. 164011. 167603. 215403.\n",
            " 369515. 186699. 161323. 290738. 165195. 227659. 236907. 219603. 251163.\n",
            " 125643. 112971. 224587. 175835. 349419. 220844. 121279. 180355. 132363.\n",
            " 131227. 195747. 189889. 113675. 153411. 113163. 138356. 108395. 250827.\n",
            " 101771. 311935. 249803.  30059. 155947. 259043. 143499. 225219. 153803.\n",
            "  90167. 146331. 124043. 220987. 130579. 183775. 340347. 161235. 158763.\n",
            " 174315. 133547. 207531. 179835. 145867. 157419. 112427. 194627.  69259.\n",
            " 244067. 373355. 239883. 181311. 187723. 193955. 118171. 116347. 153675.\n",
            " 178395. 321611. 197355. 123587.  58187.  54843. 153915. 304195. 110667.\n",
            " 176083. 187627. 304459. 131263. 144379. 152795. 233435. 177755. 167195.\n",
            " 278683. 173467. 222539. 249239. 118491.  79659. 188411. 173387. 161715.\n",
            " 193803. 148947. 111771. 124091. 240491. 193867. 125731. 157331. 210155.\n",
            " 169505. 136083. 117455. 117943. 165835.  67179. 138267. 152779. 175371.\n",
            " 214299. 161835. 184395. 189339. 178971.  94955. 112515. 181339. 148031.\n",
            " 219295. 237243. 179789. 245035. 226283. 133755. 188811.  91641. 259115.\n",
            " 120795. 102635. 164075. 212811. 199291. 193675. 136347. 223731. 254403.\n",
            "  98507. 144811. 198647. 255275. 179339. 111509. 208219. 272603.  54155.\n",
            " 217643. 119227. 289371. 213275. 255467. 141083. 267835. 112843. 176283.\n",
            " 317995. 190883. 279387. 180267. 168779. 103019. 169131. 165163. 131073.\n",
            "  86507. 349931.  86587. 148427. 133219. 202491. 135779. 184955. 175220.\n",
            " 208235. 199755. 291695. 214027.  81563. 193067. 240235. 267851. 131819.\n",
            " 291659. 113339. 101003. 148947. 269803. 173067. 111083. 103351. 385963.\n",
            " 140875. 118585. 110275.  71355. 241339.  97043. 155523. 203453. 219739.\n",
            " 118795. 229803. 202201. 242555. 289835. 417835. 232907. 123747. 159995.\n",
            " 155051. 191435. 129691. 181739. 132915. 132755.  84267. 217571. 172763.\n",
            " 359915. 144175. 254907. 103339. 336435.  75351. 193247. 168363. 150699.\n",
            " 309467. 186699. 126811. 124195. 257563. 208331. 222379. 194367. 146543.\n",
            " 130027.  46219. 142667. 215147. 115291. 115867. 151851. 131163. 116316.\n",
            "  97851. 262331. 130115. 207435. 173371.  59115. 235563. 178927. 206189.\n",
            " 206875. 243115. 112619. 197515. 113859. 115755. 215863. 212619. 141427.\n",
            " 232099.  95147. 108515. 174683. 218923. 192971. 201803.  88107. 271915.\n",
            " 127237. 135219. 258955. 203403. 194139. 237051.  87947. 226171. 177723.\n",
            " 213779. 207259. 172352. 363659. 348331. 198827. 219451. 123379. 175011.\n",
            " 116667. 155723. 205403. 182971. 281803. 238283. 198027.  88939. 255371.\n",
            "  99435. 136443.  97147. 131995. 113707. 270715. 142027. 164147. 185227.\n",
            " 202699. 141155. 104339. 113571. 160579. 228487. 122251. 125315. 379915.\n",
            "  71915. 127931. 148639. 188187.  97755.  84771. 231603. 236827. 329067.\n",
            " 151331. 191253. 199403. 188475. 221451. 137179. 149747. 190435. 179251.\n",
            " 180571. 190427. 175899. 167531. 255339.  94667. 161675. 139051. 155051.\n",
            " 150971. 147091. 135619. 291791. 109067. 178669. 170475. 153059. 199899.\n",
            " 217915. 257347. 171451.  95659. 126147. 279081. 151115. 210432. 222591.\n",
            " 154899. 156371. 122347. 195195. 106347. 110651. 324689. 110715. 189531.\n",
            " 135003. 164619. 184107. 155747. 207963.  99131. 110123. 227875. 230971.\n",
            " 288875. 151703. 204523. 114011. 322827. 182827. 135483. 223259. 372235.\n",
            " 118707.  64155. 158321. 312603. 177259. 244747. 181435.  61147. 167839.\n",
            " 144783. 210315. 130251. 242795. 207311. 187935. 198123. 195211. 101907.\n",
            "  86763. 141643. 166571. 106379. 220155. 241675. 308955. 324339. 240095.\n",
            " 210107. 115691. 151517.  86011. 249291.  64795. 123275. 180331. 122415.\n",
            " 192955. 124011. 120315. 151957. 256939. 217835.  73515. 131795. 293099.\n",
            " 123947. 125723.  86827. 148827. 163627.  96843. 145179. 119563. 128499.\n",
            " 145931. 251887. 143595. 294693. 250395. 172855.  78215. 137179. 147707.\n",
            " 139523. 226763. 159235. 103415. 171235.  69067. 113083.  93803. 276279.\n",
            " 191291. 174795. 243267. 177163. 132795. 244619. 287371. 137803. 131243.\n",
            " 125163. 307091. 290803. 136571. 154999. 194455. 144463. 136467. 204763.\n",
            " 259195. 257971. 135307. 301251. 205947. 155355. 156986. 136179. 225531.\n",
            " 213787. 158700. 143411. 113811. 147381. 140715. 144011. 188539. 209119.\n",
            " 333835. 220059. 133235. 151355. 153332. 140057. 361483. 168115. 141455.\n",
            " 216139. 279339. 281291.  73675. 276843. 160531.  95275. 198731. 146289.\n",
            "  70763. 283883. 149987. 155977.  89547. 125947. 131615. 108443. 435787.\n",
            " 153785. 207433. 186091. 221091. 181339. 221540. 205819. 114443. 151907.\n",
            " 247451. 182187. 110747. 266331. 125059. 143131. 224415.  90491. 176954.\n",
            " 221163. 305651. 125595. 204467. 219867. 249395. 170563. 248347. 283707.\n",
            " 226107. 177667. 229691. 166379. 174979. 135883. 193254. 147895. 257147.\n",
            " 122667. 119819. 209259. 137683. 243171. 330251. 101755. 199427. 126955.\n",
            " 194107. 298795.]\n"
          ]
        }
      ]
    },
    {
      "cell_type": "code",
      "source": [
        "print(\"Labels:\", list(some_labels))"
      ],
      "metadata": {
        "colab": {
          "base_uri": "https://localhost:8080/"
        },
        "id": "Kj8917PsbwHT",
        "outputId": "52d58775-e28a-45fc-c21e-7b58c09fd2e9"
      },
      "execution_count": 151,
      "outputs": [
        {
          "output_type": "stream",
          "name": "stdout",
          "text": [
            "Labels: [193000, 128900, 155000, 167900, 130500, 127000, 195000, 162000, 262280, 189000, 161000, 129900, 93000, 248900, 123000, 165000, 133000, 260000, 392500, 185000, 122500, 89000, 175000, 237000, 235000, 275000, 172785, 151400, 129000, 169500, 149900, 128000, 236500, 269790, 174000, 118000, 146000, 175900, 90000, 157000, 128500, 133000, 150750, 256000, 216000, 350000, 217000, 140000, 157000, 107400, 149300, 110000, 183200, 285000, 138800, 188700, 149000, 128000, 100000, 180000, 224900, 82000, 270000, 146500, 307000, 143000, 318000, 85000, 174000, 170000, 208900, 239799, 157500, 226000, 87500, 174000, 132000, 223500, 140000, 239000, 73000, 392000, 76000, 221500, 129000, 162000, 148000, 164700, 93000, 182000, 260000, 177500, 100000, 191000, 145250, 82500, 132250, 179600, 130000, 124000, 110000, 61000, 208500, 228500, 113000, 80000, 136000, 223000, 129900, 278000, 128000, 143000, 582933, 132000, 140000, 100000, 336000, 123600, 275000, 132000, 152000, 130000, 319900, 249700, 134800, 213250, 170000, 377500, 78000, 129500, 163000, 199900, 228000, 212000, 130000, 394432, 175000, 136500, 138500, 156000, 127500, 60000, 87000, 171000, 88000, 306000, 315000, 231500, 155000, 263000, 227875, 82000, 370878, 132500, 153900, 194000, 145900, 149350, 200000, 313000, 144000, 340000, 223500, 168000, 108000, 229456, 125000, 113000, 186500, 190000, 167500, 148000, 107000, 180000, 94000, 177000, 80500, 125000, 140000, 106250, 174000, 142000, 350000, 112000, 186000, 139400, 255500, 395192, 149900, 136500, 290000, 102000, 148000, 155000, 123000, 98600, 155000, 129000, 79000, 248000, 153000, 175500, 150000, 375000, 163900, 110500, 233000, 122900, 290000, 345000, 184750, 157900, 239000, 84500, 161500, 235000, 149900, 179900, 176500, 277000, 219500, 167900, 159000, 224500, 108000, 149900, 131500, 144152, 135000, 143000, 127500, 159000, 140200, 116500, 320000, 153500, 299800, 129000, 178000, 245350, 79000, 235000, 170000, 150000, 281000, 134900, 485000, 266500, 124000, 100000, 190000, 143500, 109900, 290000, 151000, 177500, 150000, 225000, 152000, 103600, 114504, 155000, 202665, 39300, 178000, 136900, 271000, 100000, 272000, 179200, 124500, 372500, 215000, 116000, 226000, 110000, 226700, 210000, 239000, 108000, 94500, 139500, 278000, 125500, 181900, 168000, 180000, 198500, 466500, 163990, 386250, 125000, 176432, 109900, 166000, 252000, 250000, 222500, 197500, 142953, 204750, 166000, 145000, 142600, 109900, 167000, 172400, 215200, 167000, 137000, 135900, 125000, 326000, 196500, 172500, 221000, 122000, 137000, 207500, 193000, 145000, 185000, 277500, 185000, 154000, 325300, 121500, 185000, 335000, 215000, 178000, 185000, 115000, 105500, 194500, 72500, 230000, 120000, 175000, 172000, 126000, 197500, 176500, 262500, 144000, 269500, 160000, 133700, 102000, 325000, 233170, 183000, 156000, 259000, 90350, 319000, 745000, 131000, 149000, 274970, 426000, 191000, 143900, 303477, 161000, 210000, 264561, 238000, 224000, 139600, 135000, 206300, 176000, 381000, 185000, 148000, 163000, 119000, 127000, 137500, 184900, 127000, 154000, 113000, 157900, 109500, 239686, 110500, 280000, 245000, 55000, 160200, 213500, 119500, 229000, 148500, 60000, 159500, 118000, 201800, 157000, 180000, 333168, 135000, 165000, 187000, 148000, 241500, 234000, 141000, 141000, 99500, 176000, 135000, 255900, 430000, 171750, 145000, 190000, 181000, 121600, 115000, 125000, 185000, 325624, 189000, 128000, 37900, 34900, 168000, 275000, 135000, 164900, 201000, 301500, 159950, 124900, 148500, 220000, 146000, 180500, 320000, 174000, 240000, 274300, 127000, 111000, 171500, 197900, 181000, 201000, 158000, 111250, 133000, 287000, 200000, 143750, 112000, 215000, 185000, 107500, 124000, 109500, 115000, 125000, 149000, 156000, 190000, 186700, 130000, 174500, 180000, 179500, 125000, 117500, 181000, 142000, 215000, 202900, 195000, 207500, 239900, 132500, 190000, 93000, 287090, 140000, 105000, 153000, 242000, 159500, 184000, 133500, 140000, 207000, 120000, 136500, 159895, 230000, 165000, 118000, 184100, 220000, 80000, 190000, 125000, 262000, 240000, 268000, 144000, 274000, 145000, 190000, 372402, 159000, 315000, 210000, 155000, 128000, 158900, 147400, 132500, 79000, 377426, 82500, 131000, 127000, 211000, 122000, 171000, 170000, 215000, 173000, 258000, 230000, 108500, 179900, 232600, 222000, 116900, 320000, 128500, 109500, 177000, 295493, 188000, 160000, 140000, 437154, 140000, 126175, 118500, 80000, 239000, 90000, 160000, 167500, 184000, 116000, 187750, 187500, 261500, 302000, 555000, 230000, 105000, 158000, 153337, 181000, 144000, 180000, 124500, 139400, 100000, 230000, 187500, 475000, 157000, 227000, 91500, 361919, 92900, 162500, 167500, 146800, 275500, 200000, 125000, 129500, 209500, 231500, 200000, 192000, 137500, 143000, 52500, 128000, 202500, 110000, 104900, 144000, 120500, 137500, 106500, 320000, 119900, 193500, 178740, 113000, 214900, 151000, 220000, 214000, 217000, 87000, 188000, 147000, 110000, 200000, 204000, 153000, 241000, 83000, 104900, 130500, 181500, 225000, 222000, 110000, 335000, 143000, 125000, 328000, 192000, 190000, 154000, 116050, 210000, 165500, 227680, 230000, 169500, 394617, 415298, 207500, 184000, 122000, 170000, 140000, 142500, 190000, 129900, 266000, 187500, 190000, 84500, 197000, 101000, 112500, 85000, 139000, 98000, 251000, 97500, 160000, 189950, 189000, 154000, 127500, 123500, 145000, 233230, 117000, 135960, 446261, 88000, 118964, 144900, 200100, 106500, 80000, 211000, 213000, 310000, 168500, 193500, 160000, 181000, 279500, 131500, 155000, 197900, 175500, 184000, 149500, 168500, 155000, 328900, 106000, 148800, 115000, 137900, 169900, 133000, 136000, 383970, 137000, 158500, 158000, 139000, 192000, 212000, 250000, 173900, 108000, 140000, 335000, 164500, 194000, 236000, 170000, 157000, 119200, 179540, 139000, 120500, 337000, 145000, 174000, 163000, 162000, 165150, 141000, 204000, 105000, 103000, 180000, 240000, 256300, 152000, 193000, 119000, 423000, 179000, 152000, 205950, 402861, 110000, 95000, 167240, 424870, 207500, 244600, 179200, 82000, 162900, 148000, 200000, 155000, 271900, 187000, 165000, 189000, 215000, 94750, 97000, 148000, 156932, 122000, 219210, 270000, 302000, 285000, 234000, 230500, 130000, 155000, 87000, 232000, 85000, 115000, 178000, 147000, 199900, 130000, 105000, 140000, 191000, 225000, 83500, 138500, 250000, 127500, 112000, 96500, 161750, 173000, 88000, 142000, 159434, 126000, 147000, 239000, 130000, 290000, 228950, 170000, 76500, 106000, 158000, 117000, 194700, 152000, 98000, 155000, 52000, 110000, 120500, 265000, 164000, 171900, 219500, 179000, 109000, 244000, 359100, 141000, 119500, 120000, 250000, 248000, 135000, 157000, 200141, 147000, 145000, 213000, 224000, 185850, 130500, 315750, 179665, 163500, 159500, 135000, 175500, 225000, 164000, 165500, 134500, 140000, 138000, 117000, 129000, 215000, 440000, 212900, 145500, 135000, 165000, 134450, 385000, 160000, 120000, 256000, 295000, 289000, 99900, 312500, 161500, 112000, 171000, 179000, 81000, 260400, 176000, 162000, 95000, 134900, 142125, 125500, 538000, 180500, 177000, 157500, 187500, 214500, 205000, 188000, 120000, 120000, 237000, 179400, 96500, 282922, 139000, 147000, 265979, 105000, 173000, 169000, 250000, 129500, 193879, 214000, 202500, 178400, 220000, 290000, 200000, 176485, 265900, 167000, 175000, 136905, 178000, 133900, 207500, 135000, 98300, 205000, 135000, 260000, 274900, 120500, 164990, 132000, 187000, 378500]\n"
          ]
        }
      ]
    },
    {
      "cell_type": "code",
      "source": [
        "some_data_prepared"
      ],
      "metadata": {
        "colab": {
          "base_uri": "https://localhost:8080/"
        },
        "id": "fudrYv9qb0Ja",
        "outputId": "98ce7713-4d5a-48d0-b9f5-d921e07958bc"
      },
      "execution_count": 152,
      "outputs": [
        {
          "output_type": "execute_result",
          "data": {
            "text/plain": [
              "array([[ 1.49166566e+00,  6.64579459e-02, -8.85299167e-02, ...,\n",
              "         0.00000000e+00,  0.00000000e+00,  0.00000000e+00],\n",
              "       [ 1.24290337e+00, -8.75807275e-01,  4.39259076e-01, ...,\n",
              "         0.00000000e+00,  0.00000000e+00,  0.00000000e+00],\n",
              "       [-1.46742104e+00, -8.75807275e-01,  1.75364580e-01, ...,\n",
              "         0.00000000e+00,  0.00000000e+00,  0.00000000e+00],\n",
              "       ...,\n",
              "       [ 5.22677302e-01, -8.75807275e-01, -5.65084575e-04, ...,\n",
              "         0.00000000e+00,  0.00000000e+00,  0.00000000e+00],\n",
              "       [ 6.05598066e-01,  6.64579459e-02,  4.39259076e-01, ...,\n",
              "         0.00000000e+00,  0.00000000e+00,  0.00000000e+00],\n",
              "       [ 1.25711836e+00, -8.75807275e-01,  8.35100821e-01, ...,\n",
              "         0.00000000e+00,  1.00000000e+00,  0.00000000e+00]])"
            ]
          },
          "metadata": {},
          "execution_count": 152
        }
      ]
    },
    {
      "cell_type": "code",
      "source": [
        "from sklearn.metrics import mean_squared_error\n",
        "\n",
        "housing_predictions = lin_reg.predict(housing_prepared)\n",
        "lin_mse = mean_squared_error(housing_labels, housing_predictions)\n",
        "lin_rmse = np.sqrt(lin_mse)\n",
        "lin_rmse"
      ],
      "metadata": {
        "colab": {
          "base_uri": "https://localhost:8080/"
        },
        "id": "psAxPdbkb2Lb",
        "outputId": "b53cfea7-5509-4cb9-84f8-b603f23b779c"
      },
      "execution_count": 153,
      "outputs": [
        {
          "output_type": "execute_result",
          "data": {
            "text/plain": [
              "31051.08127288329"
            ]
          },
          "metadata": {},
          "execution_count": 153
        }
      ]
    },
    {
      "cell_type": "code",
      "source": [
        "from sklearn.metrics import mean_absolute_error\n",
        "\n",
        "lin_mae = mean_absolute_error(housing_labels, housing_predictions)\n",
        "lin_mae"
      ],
      "metadata": {
        "colab": {
          "base_uri": "https://localhost:8080/"
        },
        "id": "nnvezySbb_U6",
        "outputId": "fbdb0fcd-5fca-4880-a240-792641cf8fa7"
      },
      "execution_count": 154,
      "outputs": [
        {
          "output_type": "execute_result",
          "data": {
            "text/plain": [
              "19589.99250535332"
            ]
          },
          "metadata": {},
          "execution_count": 154
        }
      ]
    },
    {
      "cell_type": "code",
      "source": [
        "from sklearn.tree import DecisionTreeRegressor\n",
        "\n",
        "tree_reg = DecisionTreeRegressor(random_state=42)\n",
        "tree_reg.fit(housing_prepared, housing_labels)"
      ],
      "metadata": {
        "colab": {
          "base_uri": "https://localhost:8080/"
        },
        "id": "I0VciIV5cDR2",
        "outputId": "e7bff104-6c16-4d32-8d15-edeca7acc355"
      },
      "execution_count": 155,
      "outputs": [
        {
          "output_type": "execute_result",
          "data": {
            "text/plain": [
              "DecisionTreeRegressor(random_state=42)"
            ]
          },
          "metadata": {},
          "execution_count": 155
        }
      ]
    },
    {
      "cell_type": "code",
      "source": [
        "housing_predictions = tree_reg.predict(housing_prepared)\n",
        "tree_mse = mean_squared_error(housing_labels, housing_predictions)\n",
        "tree_rmse = np.sqrt(tree_mse)\n",
        "tree_rmse"
      ],
      "metadata": {
        "colab": {
          "base_uri": "https://localhost:8080/"
        },
        "id": "IxbZQQHUcE1F",
        "outputId": "42d28b67-284d-4e9b-f776-dbc16b03f138"
      },
      "execution_count": 156,
      "outputs": [
        {
          "output_type": "execute_result",
          "data": {
            "text/plain": [
              "0.0"
            ]
          },
          "metadata": {},
          "execution_count": 156
        }
      ]
    },
    {
      "cell_type": "code",
      "source": [
        "from sklearn.model_selection import cross_val_score\n",
        "\n",
        "scores = cross_val_score(tree_reg, housing_prepared, housing_labels,\n",
        "                         scoring=\"neg_mean_squared_error\", cv=10)\n",
        "tree_rmse_scores = np.sqrt(-scores)"
      ],
      "metadata": {
        "id": "Ofk2fVAlcK0L"
      },
      "execution_count": 157,
      "outputs": []
    },
    {
      "cell_type": "code",
      "source": [
        "def display_scores(scores):\n",
        "    print(\"Scores:\", scores)\n",
        "    print(\"Mean:\", scores.mean())\n",
        "    print(\"Standard deviation:\", scores.std())\n",
        "\n",
        "display_scores(tree_rmse_scores)"
      ],
      "metadata": {
        "colab": {
          "base_uri": "https://localhost:8080/"
        },
        "id": "h1Rll4wOcM5c",
        "outputId": "401edce8-0697-49fe-e88c-82531cfbf9dd"
      },
      "execution_count": 158,
      "outputs": [
        {
          "output_type": "stream",
          "name": "stdout",
          "text": [
            "Scores: [38853.44525182 30143.93853769 35065.6393988  67674.79395012\n",
            " 36260.60339797 40337.93878923 37949.1600026  36283.14987393\n",
            " 28398.6836485  41393.7996879 ]\n",
            "Mean: 39236.115253856915\n",
            "Standard deviation: 10254.340050898254\n"
          ]
        }
      ]
    },
    {
      "cell_type": "code",
      "source": [
        "lin_scores = cross_val_score(lin_reg, housing_prepared, housing_labels,\n",
        "                             scoring=\"neg_mean_squared_error\", cv=10)\n",
        "lin_rmse_scores = np.sqrt(-lin_scores)\n",
        "display_scores(lin_rmse_scores)"
      ],
      "metadata": {
        "colab": {
          "base_uri": "https://localhost:8080/"
        },
        "id": "7Tj2yIibcPp1",
        "outputId": "f7f3cac0-00da-43fa-83dc-65821adc9ec3"
      },
      "execution_count": 159,
      "outputs": [
        {
          "output_type": "stream",
          "name": "stdout",
          "text": [
            "Scores: [29574.78561594 33531.64335085 37302.44555684 66310.38283768\n",
            " 26000.28315313 27568.42255833 37274.80131648 38093.94106778\n",
            " 25224.66959362 33441.54268791]\n",
            "Mean: 35432.29177385598\n",
            "Standard deviation: 11244.189176068263\n"
          ]
        }
      ]
    },
    {
      "cell_type": "code",
      "source": [
        "from sklearn.ensemble import RandomForestRegressor\n",
        "\n",
        "forest_reg = RandomForestRegressor(n_estimators=100, random_state=42)\n",
        "forest_reg.fit(housing_prepared, housing_labels)"
      ],
      "metadata": {
        "colab": {
          "base_uri": "https://localhost:8080/"
        },
        "id": "y8nbQMbjcSn9",
        "outputId": "961360d6-d45b-424b-dccb-aea375d53729"
      },
      "execution_count": 160,
      "outputs": [
        {
          "output_type": "execute_result",
          "data": {
            "text/plain": [
              "RandomForestRegressor(random_state=42)"
            ]
          },
          "metadata": {},
          "execution_count": 160
        }
      ]
    },
    {
      "cell_type": "code",
      "source": [
        "housing_predictions = forest_reg.predict(housing_prepared)\n",
        "forest_mse = mean_squared_error(housing_labels, housing_predictions)\n",
        "forest_rmse = np.sqrt(forest_mse)\n",
        "forest_rmse"
      ],
      "metadata": {
        "id": "WMBbg_s3cUco",
        "colab": {
          "base_uri": "https://localhost:8080/"
        },
        "outputId": "28c8377a-7245-414e-e169-0d21ae2212bb"
      },
      "execution_count": 161,
      "outputs": [
        {
          "output_type": "execute_result",
          "data": {
            "text/plain": [
              "12192.132433513903"
            ]
          },
          "metadata": {},
          "execution_count": 161
        }
      ]
    },
    {
      "cell_type": "code",
      "source": [
        "from sklearn.model_selection import cross_val_score\n",
        "\n",
        "forest_scores = cross_val_score(forest_reg, housing_prepared, housing_labels,\n",
        "                                scoring=\"neg_mean_squared_error\", cv=10)\n",
        "forest_rmse_scores = np.sqrt(-forest_scores)\n",
        "display_scores(forest_rmse_scores)"
      ],
      "metadata": {
        "id": "SVvWtKsvceLi",
        "colab": {
          "base_uri": "https://localhost:8080/"
        },
        "outputId": "de3e9a8a-1af7-48f2-be4a-7be5650432fa"
      },
      "execution_count": 162,
      "outputs": [
        {
          "output_type": "stream",
          "name": "stdout",
          "text": [
            "Scores: [30163.73444314 27350.02124492 45067.16998667 53957.75793474\n",
            " 23969.72376129 22505.0693088  31165.4509615  26012.12098699\n",
            " 21663.57473035 30290.27920432]\n",
            "Mean: 31214.4902562712\n",
            "Standard deviation: 9862.418709684887\n"
          ]
        }
      ]
    },
    {
      "cell_type": "code",
      "source": [
        "scores = cross_val_score(lin_reg, housing_prepared, housing_labels, scoring=\"neg_mean_squared_error\", cv=10)\n",
        "pd.Series(np.sqrt(-scores)).describe()"
      ],
      "metadata": {
        "id": "a6PO18Thc4Mp",
        "colab": {
          "base_uri": "https://localhost:8080/"
        },
        "outputId": "06f5abb4-4733-4915-cc59-94ea974b84f9"
      },
      "execution_count": 163,
      "outputs": [
        {
          "output_type": "execute_result",
          "data": {
            "text/plain": [
              "count       10.000000\n",
              "mean     35432.291774\n",
              "std      11852.416079\n",
              "min      25224.669594\n",
              "25%      28070.013323\n",
              "50%      33486.593019\n",
              "75%      37295.534497\n",
              "max      66310.382838\n",
              "dtype: float64"
            ]
          },
          "metadata": {},
          "execution_count": 163
        }
      ]
    },
    {
      "cell_type": "markdown",
      "metadata": {
        "id": "FFiwPfmZeK2i"
      },
      "source": [
        "## Step 6: Model Tuning\n",
        "\n",
        "In this step, you should attempt to use one of the provided tools for hyperparameter tuning: `GridSearchCV`, `RandomizedSearchCV` to identify the best set of hyperparameters for your model. After tweaking your models, you eventually should report the 5-fold CV RMSE of your tuned model."
      ]
    },
    {
      "cell_type": "code",
      "metadata": {
        "id": "xmXB7iTPdIuu",
        "colab": {
          "base_uri": "https://localhost:8080/"
        },
        "outputId": "ec6865d8-52f8-404c-9814-1cb8712a5d07"
      },
      "source": [
        "from sklearn.model_selection import GridSearchCV\n",
        "\n",
        "param_grid = [\n",
        "    # try 12 (3×4) combinations of hyperparameters\n",
        "    {'n_estimators': [3, 10, 30], 'max_features': [2, 4, 6, 8]},\n",
        "    # then try 6 (2×3) combinations with bootstrap set as False\n",
        "    {'bootstrap': [False], 'n_estimators': [3, 10], 'max_features': [2, 3, 4]},\n",
        "  ]\n",
        "\n",
        "forest_reg = RandomForestRegressor(random_state=42)\n",
        "# train across 5 folds, that's a total of 90 rounds of training \n",
        "grid_search = GridSearchCV(forest_reg, param_grid, cv=5,\n",
        "                           scoring='neg_mean_squared_error',\n",
        "                           return_train_score=True)\n",
        "grid_search.fit(housing_prepared, housing_labels)"
      ],
      "execution_count": 131,
      "outputs": [
        {
          "output_type": "execute_result",
          "data": {
            "text/plain": [
              "GridSearchCV(cv=5, estimator=RandomForestRegressor(random_state=42),\n",
              "             param_grid=[{'max_features': [2, 4, 6, 8],\n",
              "                          'n_estimators': [3, 10, 30]},\n",
              "                         {'bootstrap': [False], 'max_features': [2, 3, 4],\n",
              "                          'n_estimators': [3, 10]}],\n",
              "             return_train_score=True, scoring='neg_mean_squared_error')"
            ]
          },
          "metadata": {},
          "execution_count": 131
        }
      ]
    },
    {
      "cell_type": "code",
      "source": [
        "grid_search.best_params_"
      ],
      "metadata": {
        "colab": {
          "base_uri": "https://localhost:8080/"
        },
        "id": "iIJA8HfKdGgG",
        "outputId": "6237a5bf-b393-4a1d-9875-f8a72e1f06aa"
      },
      "execution_count": 132,
      "outputs": [
        {
          "output_type": "execute_result",
          "data": {
            "text/plain": [
              "{'max_features': 8, 'n_estimators': 30}"
            ]
          },
          "metadata": {},
          "execution_count": 132
        }
      ]
    },
    {
      "cell_type": "code",
      "source": [
        "grid_search.best_estimator_"
      ],
      "metadata": {
        "id": "v-nGcOvUdHqw",
        "colab": {
          "base_uri": "https://localhost:8080/"
        },
        "outputId": "5e39fef5-a84d-47f4-a7ba-5518cdbcdfc9"
      },
      "execution_count": 133,
      "outputs": [
        {
          "output_type": "execute_result",
          "data": {
            "text/plain": [
              "RandomForestRegressor(max_features=8, n_estimators=30, random_state=42)"
            ]
          },
          "metadata": {},
          "execution_count": 133
        }
      ]
    },
    {
      "cell_type": "code",
      "source": [
        "cvres = grid_search.cv_results_\n",
        "# zip() is to combine the column \"mean_test_score\" with struct \"params\"\n",
        "for mean_score, params in zip(cvres[\"mean_test_score\"], cvres[\"params\"]):\n",
        "    print(np.sqrt(-mean_score), params)"
      ],
      "metadata": {
        "id": "HBQ3SKC3dKYs",
        "colab": {
          "base_uri": "https://localhost:8080/"
        },
        "outputId": "dd54f304-0eae-4548-f2ab-a8c3a06b69c6"
      },
      "execution_count": 134,
      "outputs": [
        {
          "output_type": "stream",
          "name": "stdout",
          "text": [
            "43023.421083301415 {'max_features': 2, 'n_estimators': 3}\n",
            "36034.87679421114 {'max_features': 2, 'n_estimators': 10}\n",
            "34497.89976627726 {'max_features': 2, 'n_estimators': 30}\n",
            "42808.2934607457 {'max_features': 4, 'n_estimators': 3}\n",
            "35303.23483734055 {'max_features': 4, 'n_estimators': 10}\n",
            "33152.704848464666 {'max_features': 4, 'n_estimators': 30}\n",
            "38958.586078332424 {'max_features': 6, 'n_estimators': 3}\n",
            "33293.935346817285 {'max_features': 6, 'n_estimators': 10}\n",
            "32106.200778545273 {'max_features': 6, 'n_estimators': 30}\n",
            "36061.12580803805 {'max_features': 8, 'n_estimators': 3}\n",
            "31879.516142705623 {'max_features': 8, 'n_estimators': 10}\n",
            "31499.68404459502 {'max_features': 8, 'n_estimators': 30}\n",
            "40198.08390911818 {'bootstrap': False, 'max_features': 2, 'n_estimators': 3}\n",
            "35116.78136855052 {'bootstrap': False, 'max_features': 2, 'n_estimators': 10}\n",
            "39667.644749189414 {'bootstrap': False, 'max_features': 3, 'n_estimators': 3}\n",
            "33662.72061021162 {'bootstrap': False, 'max_features': 3, 'n_estimators': 10}\n",
            "39539.37980737226 {'bootstrap': False, 'max_features': 4, 'n_estimators': 3}\n",
            "34295.31731410133 {'bootstrap': False, 'max_features': 4, 'n_estimators': 10}\n"
          ]
        }
      ]
    },
    {
      "cell_type": "code",
      "source": [
        "pd.DataFrame(grid_search.cv_results_)"
      ],
      "metadata": {
        "id": "4AeI8wJadMXH",
        "colab": {
          "base_uri": "https://localhost:8080/",
          "height": 1000
        },
        "outputId": "c01aacb3-fba6-4517-dc61-e625ef9799e6"
      },
      "execution_count": 135,
      "outputs": [
        {
          "output_type": "execute_result",
          "data": {
            "text/plain": [
              "    mean_fit_time  std_fit_time  mean_score_time  std_score_time  \\\n",
              "0        0.008000      0.002174         0.001199        0.000076   \n",
              "1        0.019806      0.000824         0.002190        0.000075   \n",
              "2        0.056944      0.002905         0.005317        0.000655   \n",
              "3        0.007971      0.000646         0.001254        0.000256   \n",
              "4        0.021716      0.000844         0.002113        0.000060   \n",
              "5        0.062435      0.001304         0.004506        0.000082   \n",
              "6        0.008262      0.000318         0.001163        0.000051   \n",
              "7        0.024697      0.001744         0.002173        0.000056   \n",
              "8        0.072753      0.003427         0.004655        0.000148   \n",
              "9        0.008832      0.000161         0.001191        0.000039   \n",
              "10       0.026596      0.000371         0.002118        0.000011   \n",
              "11       0.080181      0.003558         0.004408        0.000084   \n",
              "12       0.006982      0.000865         0.001171        0.000035   \n",
              "13       0.019655      0.001337         0.002658        0.000417   \n",
              "14       0.007174      0.000088         0.001205        0.000034   \n",
              "15       0.020524      0.000207         0.002258        0.000024   \n",
              "16       0.008007      0.000111         0.001309        0.000069   \n",
              "17       0.022530      0.000261         0.002330        0.000123   \n",
              "\n",
              "   param_max_features param_n_estimators param_bootstrap  \\\n",
              "0                   2                  3             NaN   \n",
              "1                   2                 10             NaN   \n",
              "2                   2                 30             NaN   \n",
              "3                   4                  3             NaN   \n",
              "4                   4                 10             NaN   \n",
              "5                   4                 30             NaN   \n",
              "6                   6                  3             NaN   \n",
              "7                   6                 10             NaN   \n",
              "8                   6                 30             NaN   \n",
              "9                   8                  3             NaN   \n",
              "10                  8                 10             NaN   \n",
              "11                  8                 30             NaN   \n",
              "12                  2                  3           False   \n",
              "13                  2                 10           False   \n",
              "14                  3                  3           False   \n",
              "15                  3                 10           False   \n",
              "16                  4                  3           False   \n",
              "17                  4                 10           False   \n",
              "\n",
              "                                               params  split0_test_score  \\\n",
              "0              {'max_features': 2, 'n_estimators': 3}      -1.826339e+09   \n",
              "1             {'max_features': 2, 'n_estimators': 10}      -1.338587e+09   \n",
              "2             {'max_features': 2, 'n_estimators': 30}      -1.156920e+09   \n",
              "3              {'max_features': 4, 'n_estimators': 3}      -1.988065e+09   \n",
              "4             {'max_features': 4, 'n_estimators': 10}      -1.171331e+09   \n",
              "5             {'max_features': 4, 'n_estimators': 30}      -9.791649e+08   \n",
              "6              {'max_features': 6, 'n_estimators': 3}      -1.113605e+09   \n",
              "7             {'max_features': 6, 'n_estimators': 10}      -1.080484e+09   \n",
              "8             {'max_features': 6, 'n_estimators': 30}      -1.056953e+09   \n",
              "9              {'max_features': 8, 'n_estimators': 3}      -1.040906e+09   \n",
              "10            {'max_features': 8, 'n_estimators': 10}      -9.555435e+08   \n",
              "11            {'max_features': 8, 'n_estimators': 30}      -9.111496e+08   \n",
              "12  {'bootstrap': False, 'max_features': 2, 'n_est...      -1.580144e+09   \n",
              "13  {'bootstrap': False, 'max_features': 2, 'n_est...      -1.325762e+09   \n",
              "14  {'bootstrap': False, 'max_features': 3, 'n_est...      -1.694996e+09   \n",
              "15  {'bootstrap': False, 'max_features': 3, 'n_est...      -9.285784e+08   \n",
              "16  {'bootstrap': False, 'max_features': 4, 'n_est...      -1.530040e+09   \n",
              "17  {'bootstrap': False, 'max_features': 4, 'n_est...      -1.086392e+09   \n",
              "\n",
              "    split1_test_score  ...  mean_test_score  std_test_score  rank_test_score  \\\n",
              "0       -2.353166e+09  ...    -1.851015e+09    2.677128e+08               18   \n",
              "1       -2.035688e+09  ...    -1.298512e+09    4.146115e+08               11   \n",
              "2       -1.942612e+09  ...    -1.190105e+09    4.287985e+08                8   \n",
              "3       -2.766000e+09  ...    -1.832550e+09    5.347558e+08               17   \n",
              "4       -2.118011e+09  ...    -1.246318e+09    4.583707e+08               10   \n",
              "5       -2.006966e+09  ...    -1.099102e+09    4.933117e+08                4   \n",
              "6       -2.706666e+09  ...    -1.517771e+09    6.316287e+08               13   \n",
              "7       -2.066863e+09  ...    -1.108486e+09    5.044017e+08                5   \n",
              "8       -1.935627e+09  ...    -1.030808e+09    4.861086e+08                3   \n",
              "9       -2.464343e+09  ...    -1.300405e+09    6.035626e+08               12   \n",
              "10      -2.063819e+09  ...    -1.016304e+09    5.385860e+08                2   \n",
              "11      -2.081395e+09  ...    -9.922301e+08    5.586189e+08                1   \n",
              "12      -2.221677e+09  ...    -1.615886e+09    3.164603e+08               16   \n",
              "13      -2.079526e+09  ...    -1.233188e+09    4.841398e+08                9   \n",
              "14      -2.449707e+09  ...    -1.573522e+09    5.184318e+08               15   \n",
              "15      -2.066645e+09  ...    -1.133179e+09    4.917470e+08                6   \n",
              "16      -2.521679e+09  ...    -1.563363e+09    5.271023e+08               14   \n",
              "17      -2.080107e+09  ...    -1.176169e+09    5.018287e+08                7   \n",
              "\n",
              "    split0_train_score  split1_train_score  split2_train_score  \\\n",
              "0        -4.222651e+08       -4.041521e+08       -5.570939e+08   \n",
              "1        -2.229224e+08       -2.048606e+08       -2.563946e+08   \n",
              "2        -1.511885e+08       -1.468572e+08       -1.743303e+08   \n",
              "3        -4.555039e+08       -4.655691e+08       -4.914072e+08   \n",
              "4        -2.112499e+08       -2.270945e+08       -2.394858e+08   \n",
              "5        -1.563305e+08       -1.273162e+08       -1.591945e+08   \n",
              "6        -3.405377e+08       -4.742824e+08       -4.177540e+08   \n",
              "7        -1.941584e+08       -2.148862e+08       -2.205972e+08   \n",
              "8        -1.445675e+08       -1.254636e+08       -1.689167e+08   \n",
              "9        -5.582021e+08       -3.625136e+08       -4.323527e+08   \n",
              "10       -2.461949e+08       -1.769824e+08       -2.014190e+08   \n",
              "11       -1.752317e+08       -1.137947e+08       -1.582783e+08   \n",
              "12       -0.000000e+00       -0.000000e+00       -0.000000e+00   \n",
              "13       -1.070950e+02       -0.000000e+00       -0.000000e+00   \n",
              "14       -0.000000e+00       -0.000000e+00       -0.000000e+00   \n",
              "15       -1.338688e+03       -0.000000e+00       -4.979920e+04   \n",
              "16       -0.000000e+00       -0.000000e+00       -0.000000e+00   \n",
              "17       -0.000000e+00       -0.000000e+00       -3.023762e+03   \n",
              "\n",
              "    split3_train_score  split4_train_score  mean_train_score  std_train_score  \n",
              "0        -6.523705e+08       -7.481888e+08     -5.568141e+08     1.320337e+08  \n",
              "1        -2.654539e+08       -2.540068e+08     -2.407276e+08     2.296367e+07  \n",
              "2        -1.994425e+08       -1.856788e+08     -1.714995e+08     2.004824e+07  \n",
              "3        -4.709950e+08       -4.909101e+08     -4.748770e+08     1.419387e+07  \n",
              "4        -2.206893e+08       -2.284513e+08     -2.253941e+08     9.306017e+06  \n",
              "5        -1.562657e+08       -1.766384e+08     -1.551491e+08     1.584592e+07  \n",
              "6        -4.859212e+08       -5.627960e+08     -4.562583e+08     7.406602e+07  \n",
              "7        -2.453882e+08       -1.972773e+08     -2.144615e+08     1.844885e+07  \n",
              "8        -1.627711e+08       -1.547282e+08     -1.512894e+08     1.527439e+07  \n",
              "9        -6.232335e+08       -4.910469e+08     -4.934698e+08     9.156374e+07  \n",
              "10       -2.829804e+08       -2.360339e+08     -2.287221e+08     3.667473e+07  \n",
              "11       -1.802674e+08       -1.589626e+08     -1.573069e+08     2.343277e+07  \n",
              "12       -0.000000e+00       -0.000000e+00      0.000000e+00     0.000000e+00  \n",
              "13       -2.677376e+03       -3.276070e+04     -7.109033e+03     1.286663e+04  \n",
              "14       -0.000000e+00       -3.928996e+04     -7.857992e+03     1.571598e+04  \n",
              "15       -1.673360e+02       -3.536096e+03     -1.096826e+04     1.945646e+04  \n",
              "16       -0.000000e+00       -1.188354e+03     -2.376708e+02     4.753417e+02  \n",
              "17       -0.000000e+00       -1.069519e+02     -6.261427e+02     1.199525e+03  \n",
              "\n",
              "[18 rows x 23 columns]"
            ],
            "text/html": [
              "\n",
              "  <div id=\"df-34c28fb4-7cfe-4219-9925-080df108f2e8\">\n",
              "    <div class=\"colab-df-container\">\n",
              "      <div>\n",
              "<style scoped>\n",
              "    .dataframe tbody tr th:only-of-type {\n",
              "        vertical-align: middle;\n",
              "    }\n",
              "\n",
              "    .dataframe tbody tr th {\n",
              "        vertical-align: top;\n",
              "    }\n",
              "\n",
              "    .dataframe thead th {\n",
              "        text-align: right;\n",
              "    }\n",
              "</style>\n",
              "<table border=\"1\" class=\"dataframe\">\n",
              "  <thead>\n",
              "    <tr style=\"text-align: right;\">\n",
              "      <th></th>\n",
              "      <th>mean_fit_time</th>\n",
              "      <th>std_fit_time</th>\n",
              "      <th>mean_score_time</th>\n",
              "      <th>std_score_time</th>\n",
              "      <th>param_max_features</th>\n",
              "      <th>param_n_estimators</th>\n",
              "      <th>param_bootstrap</th>\n",
              "      <th>params</th>\n",
              "      <th>split0_test_score</th>\n",
              "      <th>split1_test_score</th>\n",
              "      <th>...</th>\n",
              "      <th>mean_test_score</th>\n",
              "      <th>std_test_score</th>\n",
              "      <th>rank_test_score</th>\n",
              "      <th>split0_train_score</th>\n",
              "      <th>split1_train_score</th>\n",
              "      <th>split2_train_score</th>\n",
              "      <th>split3_train_score</th>\n",
              "      <th>split4_train_score</th>\n",
              "      <th>mean_train_score</th>\n",
              "      <th>std_train_score</th>\n",
              "    </tr>\n",
              "  </thead>\n",
              "  <tbody>\n",
              "    <tr>\n",
              "      <th>0</th>\n",
              "      <td>0.008000</td>\n",
              "      <td>0.002174</td>\n",
              "      <td>0.001199</td>\n",
              "      <td>0.000076</td>\n",
              "      <td>2</td>\n",
              "      <td>3</td>\n",
              "      <td>NaN</td>\n",
              "      <td>{'max_features': 2, 'n_estimators': 3}</td>\n",
              "      <td>-1.826339e+09</td>\n",
              "      <td>-2.353166e+09</td>\n",
              "      <td>...</td>\n",
              "      <td>-1.851015e+09</td>\n",
              "      <td>2.677128e+08</td>\n",
              "      <td>18</td>\n",
              "      <td>-4.222651e+08</td>\n",
              "      <td>-4.041521e+08</td>\n",
              "      <td>-5.570939e+08</td>\n",
              "      <td>-6.523705e+08</td>\n",
              "      <td>-7.481888e+08</td>\n",
              "      <td>-5.568141e+08</td>\n",
              "      <td>1.320337e+08</td>\n",
              "    </tr>\n",
              "    <tr>\n",
              "      <th>1</th>\n",
              "      <td>0.019806</td>\n",
              "      <td>0.000824</td>\n",
              "      <td>0.002190</td>\n",
              "      <td>0.000075</td>\n",
              "      <td>2</td>\n",
              "      <td>10</td>\n",
              "      <td>NaN</td>\n",
              "      <td>{'max_features': 2, 'n_estimators': 10}</td>\n",
              "      <td>-1.338587e+09</td>\n",
              "      <td>-2.035688e+09</td>\n",
              "      <td>...</td>\n",
              "      <td>-1.298512e+09</td>\n",
              "      <td>4.146115e+08</td>\n",
              "      <td>11</td>\n",
              "      <td>-2.229224e+08</td>\n",
              "      <td>-2.048606e+08</td>\n",
              "      <td>-2.563946e+08</td>\n",
              "      <td>-2.654539e+08</td>\n",
              "      <td>-2.540068e+08</td>\n",
              "      <td>-2.407276e+08</td>\n",
              "      <td>2.296367e+07</td>\n",
              "    </tr>\n",
              "    <tr>\n",
              "      <th>2</th>\n",
              "      <td>0.056944</td>\n",
              "      <td>0.002905</td>\n",
              "      <td>0.005317</td>\n",
              "      <td>0.000655</td>\n",
              "      <td>2</td>\n",
              "      <td>30</td>\n",
              "      <td>NaN</td>\n",
              "      <td>{'max_features': 2, 'n_estimators': 30}</td>\n",
              "      <td>-1.156920e+09</td>\n",
              "      <td>-1.942612e+09</td>\n",
              "      <td>...</td>\n",
              "      <td>-1.190105e+09</td>\n",
              "      <td>4.287985e+08</td>\n",
              "      <td>8</td>\n",
              "      <td>-1.511885e+08</td>\n",
              "      <td>-1.468572e+08</td>\n",
              "      <td>-1.743303e+08</td>\n",
              "      <td>-1.994425e+08</td>\n",
              "      <td>-1.856788e+08</td>\n",
              "      <td>-1.714995e+08</td>\n",
              "      <td>2.004824e+07</td>\n",
              "    </tr>\n",
              "    <tr>\n",
              "      <th>3</th>\n",
              "      <td>0.007971</td>\n",
              "      <td>0.000646</td>\n",
              "      <td>0.001254</td>\n",
              "      <td>0.000256</td>\n",
              "      <td>4</td>\n",
              "      <td>3</td>\n",
              "      <td>NaN</td>\n",
              "      <td>{'max_features': 4, 'n_estimators': 3}</td>\n",
              "      <td>-1.988065e+09</td>\n",
              "      <td>-2.766000e+09</td>\n",
              "      <td>...</td>\n",
              "      <td>-1.832550e+09</td>\n",
              "      <td>5.347558e+08</td>\n",
              "      <td>17</td>\n",
              "      <td>-4.555039e+08</td>\n",
              "      <td>-4.655691e+08</td>\n",
              "      <td>-4.914072e+08</td>\n",
              "      <td>-4.709950e+08</td>\n",
              "      <td>-4.909101e+08</td>\n",
              "      <td>-4.748770e+08</td>\n",
              "      <td>1.419387e+07</td>\n",
              "    </tr>\n",
              "    <tr>\n",
              "      <th>4</th>\n",
              "      <td>0.021716</td>\n",
              "      <td>0.000844</td>\n",
              "      <td>0.002113</td>\n",
              "      <td>0.000060</td>\n",
              "      <td>4</td>\n",
              "      <td>10</td>\n",
              "      <td>NaN</td>\n",
              "      <td>{'max_features': 4, 'n_estimators': 10}</td>\n",
              "      <td>-1.171331e+09</td>\n",
              "      <td>-2.118011e+09</td>\n",
              "      <td>...</td>\n",
              "      <td>-1.246318e+09</td>\n",
              "      <td>4.583707e+08</td>\n",
              "      <td>10</td>\n",
              "      <td>-2.112499e+08</td>\n",
              "      <td>-2.270945e+08</td>\n",
              "      <td>-2.394858e+08</td>\n",
              "      <td>-2.206893e+08</td>\n",
              "      <td>-2.284513e+08</td>\n",
              "      <td>-2.253941e+08</td>\n",
              "      <td>9.306017e+06</td>\n",
              "    </tr>\n",
              "    <tr>\n",
              "      <th>5</th>\n",
              "      <td>0.062435</td>\n",
              "      <td>0.001304</td>\n",
              "      <td>0.004506</td>\n",
              "      <td>0.000082</td>\n",
              "      <td>4</td>\n",
              "      <td>30</td>\n",
              "      <td>NaN</td>\n",
              "      <td>{'max_features': 4, 'n_estimators': 30}</td>\n",
              "      <td>-9.791649e+08</td>\n",
              "      <td>-2.006966e+09</td>\n",
              "      <td>...</td>\n",
              "      <td>-1.099102e+09</td>\n",
              "      <td>4.933117e+08</td>\n",
              "      <td>4</td>\n",
              "      <td>-1.563305e+08</td>\n",
              "      <td>-1.273162e+08</td>\n",
              "      <td>-1.591945e+08</td>\n",
              "      <td>-1.562657e+08</td>\n",
              "      <td>-1.766384e+08</td>\n",
              "      <td>-1.551491e+08</td>\n",
              "      <td>1.584592e+07</td>\n",
              "    </tr>\n",
              "    <tr>\n",
              "      <th>6</th>\n",
              "      <td>0.008262</td>\n",
              "      <td>0.000318</td>\n",
              "      <td>0.001163</td>\n",
              "      <td>0.000051</td>\n",
              "      <td>6</td>\n",
              "      <td>3</td>\n",
              "      <td>NaN</td>\n",
              "      <td>{'max_features': 6, 'n_estimators': 3}</td>\n",
              "      <td>-1.113605e+09</td>\n",
              "      <td>-2.706666e+09</td>\n",
              "      <td>...</td>\n",
              "      <td>-1.517771e+09</td>\n",
              "      <td>6.316287e+08</td>\n",
              "      <td>13</td>\n",
              "      <td>-3.405377e+08</td>\n",
              "      <td>-4.742824e+08</td>\n",
              "      <td>-4.177540e+08</td>\n",
              "      <td>-4.859212e+08</td>\n",
              "      <td>-5.627960e+08</td>\n",
              "      <td>-4.562583e+08</td>\n",
              "      <td>7.406602e+07</td>\n",
              "    </tr>\n",
              "    <tr>\n",
              "      <th>7</th>\n",
              "      <td>0.024697</td>\n",
              "      <td>0.001744</td>\n",
              "      <td>0.002173</td>\n",
              "      <td>0.000056</td>\n",
              "      <td>6</td>\n",
              "      <td>10</td>\n",
              "      <td>NaN</td>\n",
              "      <td>{'max_features': 6, 'n_estimators': 10}</td>\n",
              "      <td>-1.080484e+09</td>\n",
              "      <td>-2.066863e+09</td>\n",
              "      <td>...</td>\n",
              "      <td>-1.108486e+09</td>\n",
              "      <td>5.044017e+08</td>\n",
              "      <td>5</td>\n",
              "      <td>-1.941584e+08</td>\n",
              "      <td>-2.148862e+08</td>\n",
              "      <td>-2.205972e+08</td>\n",
              "      <td>-2.453882e+08</td>\n",
              "      <td>-1.972773e+08</td>\n",
              "      <td>-2.144615e+08</td>\n",
              "      <td>1.844885e+07</td>\n",
              "    </tr>\n",
              "    <tr>\n",
              "      <th>8</th>\n",
              "      <td>0.072753</td>\n",
              "      <td>0.003427</td>\n",
              "      <td>0.004655</td>\n",
              "      <td>0.000148</td>\n",
              "      <td>6</td>\n",
              "      <td>30</td>\n",
              "      <td>NaN</td>\n",
              "      <td>{'max_features': 6, 'n_estimators': 30}</td>\n",
              "      <td>-1.056953e+09</td>\n",
              "      <td>-1.935627e+09</td>\n",
              "      <td>...</td>\n",
              "      <td>-1.030808e+09</td>\n",
              "      <td>4.861086e+08</td>\n",
              "      <td>3</td>\n",
              "      <td>-1.445675e+08</td>\n",
              "      <td>-1.254636e+08</td>\n",
              "      <td>-1.689167e+08</td>\n",
              "      <td>-1.627711e+08</td>\n",
              "      <td>-1.547282e+08</td>\n",
              "      <td>-1.512894e+08</td>\n",
              "      <td>1.527439e+07</td>\n",
              "    </tr>\n",
              "    <tr>\n",
              "      <th>9</th>\n",
              "      <td>0.008832</td>\n",
              "      <td>0.000161</td>\n",
              "      <td>0.001191</td>\n",
              "      <td>0.000039</td>\n",
              "      <td>8</td>\n",
              "      <td>3</td>\n",
              "      <td>NaN</td>\n",
              "      <td>{'max_features': 8, 'n_estimators': 3}</td>\n",
              "      <td>-1.040906e+09</td>\n",
              "      <td>-2.464343e+09</td>\n",
              "      <td>...</td>\n",
              "      <td>-1.300405e+09</td>\n",
              "      <td>6.035626e+08</td>\n",
              "      <td>12</td>\n",
              "      <td>-5.582021e+08</td>\n",
              "      <td>-3.625136e+08</td>\n",
              "      <td>-4.323527e+08</td>\n",
              "      <td>-6.232335e+08</td>\n",
              "      <td>-4.910469e+08</td>\n",
              "      <td>-4.934698e+08</td>\n",
              "      <td>9.156374e+07</td>\n",
              "    </tr>\n",
              "    <tr>\n",
              "      <th>10</th>\n",
              "      <td>0.026596</td>\n",
              "      <td>0.000371</td>\n",
              "      <td>0.002118</td>\n",
              "      <td>0.000011</td>\n",
              "      <td>8</td>\n",
              "      <td>10</td>\n",
              "      <td>NaN</td>\n",
              "      <td>{'max_features': 8, 'n_estimators': 10}</td>\n",
              "      <td>-9.555435e+08</td>\n",
              "      <td>-2.063819e+09</td>\n",
              "      <td>...</td>\n",
              "      <td>-1.016304e+09</td>\n",
              "      <td>5.385860e+08</td>\n",
              "      <td>2</td>\n",
              "      <td>-2.461949e+08</td>\n",
              "      <td>-1.769824e+08</td>\n",
              "      <td>-2.014190e+08</td>\n",
              "      <td>-2.829804e+08</td>\n",
              "      <td>-2.360339e+08</td>\n",
              "      <td>-2.287221e+08</td>\n",
              "      <td>3.667473e+07</td>\n",
              "    </tr>\n",
              "    <tr>\n",
              "      <th>11</th>\n",
              "      <td>0.080181</td>\n",
              "      <td>0.003558</td>\n",
              "      <td>0.004408</td>\n",
              "      <td>0.000084</td>\n",
              "      <td>8</td>\n",
              "      <td>30</td>\n",
              "      <td>NaN</td>\n",
              "      <td>{'max_features': 8, 'n_estimators': 30}</td>\n",
              "      <td>-9.111496e+08</td>\n",
              "      <td>-2.081395e+09</td>\n",
              "      <td>...</td>\n",
              "      <td>-9.922301e+08</td>\n",
              "      <td>5.586189e+08</td>\n",
              "      <td>1</td>\n",
              "      <td>-1.752317e+08</td>\n",
              "      <td>-1.137947e+08</td>\n",
              "      <td>-1.582783e+08</td>\n",
              "      <td>-1.802674e+08</td>\n",
              "      <td>-1.589626e+08</td>\n",
              "      <td>-1.573069e+08</td>\n",
              "      <td>2.343277e+07</td>\n",
              "    </tr>\n",
              "    <tr>\n",
              "      <th>12</th>\n",
              "      <td>0.006982</td>\n",
              "      <td>0.000865</td>\n",
              "      <td>0.001171</td>\n",
              "      <td>0.000035</td>\n",
              "      <td>2</td>\n",
              "      <td>3</td>\n",
              "      <td>False</td>\n",
              "      <td>{'bootstrap': False, 'max_features': 2, 'n_est...</td>\n",
              "      <td>-1.580144e+09</td>\n",
              "      <td>-2.221677e+09</td>\n",
              "      <td>...</td>\n",
              "      <td>-1.615886e+09</td>\n",
              "      <td>3.164603e+08</td>\n",
              "      <td>16</td>\n",
              "      <td>-0.000000e+00</td>\n",
              "      <td>-0.000000e+00</td>\n",
              "      <td>-0.000000e+00</td>\n",
              "      <td>-0.000000e+00</td>\n",
              "      <td>-0.000000e+00</td>\n",
              "      <td>0.000000e+00</td>\n",
              "      <td>0.000000e+00</td>\n",
              "    </tr>\n",
              "    <tr>\n",
              "      <th>13</th>\n",
              "      <td>0.019655</td>\n",
              "      <td>0.001337</td>\n",
              "      <td>0.002658</td>\n",
              "      <td>0.000417</td>\n",
              "      <td>2</td>\n",
              "      <td>10</td>\n",
              "      <td>False</td>\n",
              "      <td>{'bootstrap': False, 'max_features': 2, 'n_est...</td>\n",
              "      <td>-1.325762e+09</td>\n",
              "      <td>-2.079526e+09</td>\n",
              "      <td>...</td>\n",
              "      <td>-1.233188e+09</td>\n",
              "      <td>4.841398e+08</td>\n",
              "      <td>9</td>\n",
              "      <td>-1.070950e+02</td>\n",
              "      <td>-0.000000e+00</td>\n",
              "      <td>-0.000000e+00</td>\n",
              "      <td>-2.677376e+03</td>\n",
              "      <td>-3.276070e+04</td>\n",
              "      <td>-7.109033e+03</td>\n",
              "      <td>1.286663e+04</td>\n",
              "    </tr>\n",
              "    <tr>\n",
              "      <th>14</th>\n",
              "      <td>0.007174</td>\n",
              "      <td>0.000088</td>\n",
              "      <td>0.001205</td>\n",
              "      <td>0.000034</td>\n",
              "      <td>3</td>\n",
              "      <td>3</td>\n",
              "      <td>False</td>\n",
              "      <td>{'bootstrap': False, 'max_features': 3, 'n_est...</td>\n",
              "      <td>-1.694996e+09</td>\n",
              "      <td>-2.449707e+09</td>\n",
              "      <td>...</td>\n",
              "      <td>-1.573522e+09</td>\n",
              "      <td>5.184318e+08</td>\n",
              "      <td>15</td>\n",
              "      <td>-0.000000e+00</td>\n",
              "      <td>-0.000000e+00</td>\n",
              "      <td>-0.000000e+00</td>\n",
              "      <td>-0.000000e+00</td>\n",
              "      <td>-3.928996e+04</td>\n",
              "      <td>-7.857992e+03</td>\n",
              "      <td>1.571598e+04</td>\n",
              "    </tr>\n",
              "    <tr>\n",
              "      <th>15</th>\n",
              "      <td>0.020524</td>\n",
              "      <td>0.000207</td>\n",
              "      <td>0.002258</td>\n",
              "      <td>0.000024</td>\n",
              "      <td>3</td>\n",
              "      <td>10</td>\n",
              "      <td>False</td>\n",
              "      <td>{'bootstrap': False, 'max_features': 3, 'n_est...</td>\n",
              "      <td>-9.285784e+08</td>\n",
              "      <td>-2.066645e+09</td>\n",
              "      <td>...</td>\n",
              "      <td>-1.133179e+09</td>\n",
              "      <td>4.917470e+08</td>\n",
              "      <td>6</td>\n",
              "      <td>-1.338688e+03</td>\n",
              "      <td>-0.000000e+00</td>\n",
              "      <td>-4.979920e+04</td>\n",
              "      <td>-1.673360e+02</td>\n",
              "      <td>-3.536096e+03</td>\n",
              "      <td>-1.096826e+04</td>\n",
              "      <td>1.945646e+04</td>\n",
              "    </tr>\n",
              "    <tr>\n",
              "      <th>16</th>\n",
              "      <td>0.008007</td>\n",
              "      <td>0.000111</td>\n",
              "      <td>0.001309</td>\n",
              "      <td>0.000069</td>\n",
              "      <td>4</td>\n",
              "      <td>3</td>\n",
              "      <td>False</td>\n",
              "      <td>{'bootstrap': False, 'max_features': 4, 'n_est...</td>\n",
              "      <td>-1.530040e+09</td>\n",
              "      <td>-2.521679e+09</td>\n",
              "      <td>...</td>\n",
              "      <td>-1.563363e+09</td>\n",
              "      <td>5.271023e+08</td>\n",
              "      <td>14</td>\n",
              "      <td>-0.000000e+00</td>\n",
              "      <td>-0.000000e+00</td>\n",
              "      <td>-0.000000e+00</td>\n",
              "      <td>-0.000000e+00</td>\n",
              "      <td>-1.188354e+03</td>\n",
              "      <td>-2.376708e+02</td>\n",
              "      <td>4.753417e+02</td>\n",
              "    </tr>\n",
              "    <tr>\n",
              "      <th>17</th>\n",
              "      <td>0.022530</td>\n",
              "      <td>0.000261</td>\n",
              "      <td>0.002330</td>\n",
              "      <td>0.000123</td>\n",
              "      <td>4</td>\n",
              "      <td>10</td>\n",
              "      <td>False</td>\n",
              "      <td>{'bootstrap': False, 'max_features': 4, 'n_est...</td>\n",
              "      <td>-1.086392e+09</td>\n",
              "      <td>-2.080107e+09</td>\n",
              "      <td>...</td>\n",
              "      <td>-1.176169e+09</td>\n",
              "      <td>5.018287e+08</td>\n",
              "      <td>7</td>\n",
              "      <td>-0.000000e+00</td>\n",
              "      <td>-0.000000e+00</td>\n",
              "      <td>-3.023762e+03</td>\n",
              "      <td>-0.000000e+00</td>\n",
              "      <td>-1.069519e+02</td>\n",
              "      <td>-6.261427e+02</td>\n",
              "      <td>1.199525e+03</td>\n",
              "    </tr>\n",
              "  </tbody>\n",
              "</table>\n",
              "<p>18 rows × 23 columns</p>\n",
              "</div>\n",
              "      <button class=\"colab-df-convert\" onclick=\"convertToInteractive('df-34c28fb4-7cfe-4219-9925-080df108f2e8')\"\n",
              "              title=\"Convert this dataframe to an interactive table.\"\n",
              "              style=\"display:none;\">\n",
              "        \n",
              "  <svg xmlns=\"http://www.w3.org/2000/svg\" height=\"24px\"viewBox=\"0 0 24 24\"\n",
              "       width=\"24px\">\n",
              "    <path d=\"M0 0h24v24H0V0z\" fill=\"none\"/>\n",
              "    <path d=\"M18.56 5.44l.94 2.06.94-2.06 2.06-.94-2.06-.94-.94-2.06-.94 2.06-2.06.94zm-11 1L8.5 8.5l.94-2.06 2.06-.94-2.06-.94L8.5 2.5l-.94 2.06-2.06.94zm10 10l.94 2.06.94-2.06 2.06-.94-2.06-.94-.94-2.06-.94 2.06-2.06.94z\"/><path d=\"M17.41 7.96l-1.37-1.37c-.4-.4-.92-.59-1.43-.59-.52 0-1.04.2-1.43.59L10.3 9.45l-7.72 7.72c-.78.78-.78 2.05 0 2.83L4 21.41c.39.39.9.59 1.41.59.51 0 1.02-.2 1.41-.59l7.78-7.78 2.81-2.81c.8-.78.8-2.07 0-2.86zM5.41 20L4 18.59l7.72-7.72 1.47 1.35L5.41 20z\"/>\n",
              "  </svg>\n",
              "      </button>\n",
              "      \n",
              "  <style>\n",
              "    .colab-df-container {\n",
              "      display:flex;\n",
              "      flex-wrap:wrap;\n",
              "      gap: 12px;\n",
              "    }\n",
              "\n",
              "    .colab-df-convert {\n",
              "      background-color: #E8F0FE;\n",
              "      border: none;\n",
              "      border-radius: 50%;\n",
              "      cursor: pointer;\n",
              "      display: none;\n",
              "      fill: #1967D2;\n",
              "      height: 32px;\n",
              "      padding: 0 0 0 0;\n",
              "      width: 32px;\n",
              "    }\n",
              "\n",
              "    .colab-df-convert:hover {\n",
              "      background-color: #E2EBFA;\n",
              "      box-shadow: 0px 1px 2px rgba(60, 64, 67, 0.3), 0px 1px 3px 1px rgba(60, 64, 67, 0.15);\n",
              "      fill: #174EA6;\n",
              "    }\n",
              "\n",
              "    [theme=dark] .colab-df-convert {\n",
              "      background-color: #3B4455;\n",
              "      fill: #D2E3FC;\n",
              "    }\n",
              "\n",
              "    [theme=dark] .colab-df-convert:hover {\n",
              "      background-color: #434B5C;\n",
              "      box-shadow: 0px 1px 3px 1px rgba(0, 0, 0, 0.15);\n",
              "      filter: drop-shadow(0px 1px 2px rgba(0, 0, 0, 0.3));\n",
              "      fill: #FFFFFF;\n",
              "    }\n",
              "  </style>\n",
              "\n",
              "      <script>\n",
              "        const buttonEl =\n",
              "          document.querySelector('#df-34c28fb4-7cfe-4219-9925-080df108f2e8 button.colab-df-convert');\n",
              "        buttonEl.style.display =\n",
              "          google.colab.kernel.accessAllowed ? 'block' : 'none';\n",
              "\n",
              "        async function convertToInteractive(key) {\n",
              "          const element = document.querySelector('#df-34c28fb4-7cfe-4219-9925-080df108f2e8');\n",
              "          const dataTable =\n",
              "            await google.colab.kernel.invokeFunction('convertToInteractive',\n",
              "                                                     [key], {});\n",
              "          if (!dataTable) return;\n",
              "\n",
              "          const docLinkHtml = 'Like what you see? Visit the ' +\n",
              "            '<a target=\"_blank\" href=https://colab.research.google.com/notebooks/data_table.ipynb>data table notebook</a>'\n",
              "            + ' to learn more about interactive tables.';\n",
              "          element.innerHTML = '';\n",
              "          dataTable['output_type'] = 'display_data';\n",
              "          await google.colab.output.renderOutput(dataTable, element);\n",
              "          const docLink = document.createElement('div');\n",
              "          docLink.innerHTML = docLinkHtml;\n",
              "          element.appendChild(docLink);\n",
              "        }\n",
              "      </script>\n",
              "    </div>\n",
              "  </div>\n",
              "  "
            ]
          },
          "metadata": {},
          "execution_count": 135
        }
      ]
    },
    {
      "cell_type": "code",
      "source": [
        "from sklearn.model_selection import RandomizedSearchCV\n",
        "from scipy.stats import randint\n",
        "\n",
        "param_distribs = {\n",
        "        'n_estimators': randint(low=1, high=200),\n",
        "        'max_features': randint(low=1, high=8),\n",
        "    }\n",
        "\n",
        "forest_reg = RandomForestRegressor(random_state=42)\n",
        "rnd_search = RandomizedSearchCV(forest_reg, param_distributions=param_distribs,\n",
        "                                n_iter=10, cv=5, scoring='neg_mean_squared_error', random_state=42)\n",
        "rnd_search.fit(housing_prepared, housing_labels)"
      ],
      "metadata": {
        "id": "p4OjWgY_dXdK",
        "colab": {
          "base_uri": "https://localhost:8080/"
        },
        "outputId": "f7ac31f3-99b9-4e04-f103-c1377d20a663"
      },
      "execution_count": 136,
      "outputs": [
        {
          "output_type": "execute_result",
          "data": {
            "text/plain": [
              "RandomizedSearchCV(cv=5, estimator=RandomForestRegressor(random_state=42),\n",
              "                   param_distributions={'max_features': <scipy.stats._distn_infrastructure.rv_frozen object at 0x7f826da53b50>,\n",
              "                                        'n_estimators': <scipy.stats._distn_infrastructure.rv_frozen object at 0x7f826da53b90>},\n",
              "                   random_state=42, scoring='neg_mean_squared_error')"
            ]
          },
          "metadata": {},
          "execution_count": 136
        }
      ]
    },
    {
      "cell_type": "code",
      "source": [
        "cvres = rnd_search.cv_results_\n",
        "for mean_score, params in zip(cvres[\"mean_test_score\"], cvres[\"params\"]):\n",
        "    print(np.sqrt(-mean_score), params)"
      ],
      "metadata": {
        "id": "eXgctyWvdYX5",
        "colab": {
          "base_uri": "https://localhost:8080/"
        },
        "outputId": "5fa941d8-4ce4-4808-a8be-23da26fd3b90"
      },
      "execution_count": 137,
      "outputs": [
        {
          "output_type": "stream",
          "name": "stdout",
          "text": [
            "31411.845699689587 {'max_features': 7, 'n_estimators': 180}\n",
            "33929.70920848527 {'max_features': 5, 'n_estimators': 15}\n",
            "33060.30860122299 {'max_features': 3, 'n_estimators': 72}\n",
            "33148.915430792076 {'max_features': 5, 'n_estimators': 21}\n",
            "31650.874190434064 {'max_features': 7, 'n_estimators': 122}\n",
            "33102.88054604449 {'max_features': 3, 'n_estimators': 75}\n",
            "32961.880565307765 {'max_features': 3, 'n_estimators': 88}\n",
            "32211.029139367598 {'max_features': 5, 'n_estimators': 100}\n",
            "32843.74730904978 {'max_features': 3, 'n_estimators': 150}\n",
            "46520.959251686996 {'max_features': 5, 'n_estimators': 2}\n"
          ]
        }
      ]
    },
    {
      "cell_type": "code",
      "source": [
        "feature_importances = grid_search.best_estimator_.feature_importances_\n",
        "feature_importances"
      ],
      "metadata": {
        "id": "BY1jyz5rdZ9y",
        "colab": {
          "base_uri": "https://localhost:8080/"
        },
        "outputId": "c22a3b17-855d-426a-98f3-aab2ba44a15d"
      },
      "execution_count": 138,
      "outputs": [
        {
          "output_type": "execute_result",
          "data": {
            "text/plain": [
              "array([6.39730164e-03, 8.45068441e-03, 2.05774715e-02, 1.81063991e-02,\n",
              "       1.61957068e-01, 6.25246734e-03, 5.32861794e-02, 2.72806318e-02,\n",
              "       1.74659543e-02, 4.75751753e-02, 1.54473785e-03, 1.05766825e-02,\n",
              "       8.45195427e-02, 6.80454927e-02, 4.00853953e-02, 4.96911870e-04,\n",
              "       1.25182067e-01, 5.37738517e-03, 6.04046412e-04, 2.93682991e-02,\n",
              "       4.29628467e-03, 5.98494578e-03, 3.23127881e-03, 2.04037168e-02,\n",
              "       1.55632149e-02, 3.70178169e-02, 7.17972928e-02, 3.21990622e-02,\n",
              "       7.10042049e-03, 1.61454213e-02, 2.97130685e-03, 7.67682671e-04,\n",
              "       9.07373627e-03, 9.81761441e-03, 3.95709333e-04, 4.21159930e-03,\n",
              "       2.65121322e-03, 4.90392900e-04, 3.00182313e-05, 9.26415034e-05,\n",
              "       7.65610234e-04, 4.24174626e-04, 1.61608026e-03, 1.63074803e-03,\n",
              "       8.83713824e-04, 1.76327440e-04, 5.81823213e-05, 1.61285800e-04,\n",
              "       1.93669003e-03, 1.03117986e-04, 5.51665663e-04, 7.08911355e-03,\n",
              "       1.71495538e-03, 1.66201505e-03, 1.17333088e-04, 2.32442422e-04,\n",
              "       3.51078385e-04, 6.34808001e-04, 2.11709794e-03, 1.33969227e-04,\n",
              "       2.48327834e-04])"
            ]
          },
          "metadata": {},
          "execution_count": 138
        }
      ]
    },
    {
      "cell_type": "code",
      "source": [
        "cat_encoder = full_pipeline.named_transformers_[\"cat\"]\n",
        "cat_one_hot_attribs = list(cat_encoder.categories_[0])\n",
        "attributes = num_attribs + cat_one_hot_attribs\n",
        "sorted(zip(feature_importances, attributes), reverse=True)"
      ],
      "metadata": {
        "id": "3LpQ4iqJdbGU",
        "colab": {
          "base_uri": "https://localhost:8080/"
        },
        "outputId": "fd245a4f-e18c-43c1-b5aa-76382cdf63f0"
      },
      "execution_count": 139,
      "outputs": [
        {
          "output_type": "execute_result",
          "data": {
            "text/plain": [
              "[(0.16195706799622825, 'OverallQual'),\n",
              " (0.12518206700530712, 'GrLivArea'),\n",
              " (0.08451954268577132, 'TotalBsmtSF'),\n",
              " (0.07179729279601926, 'GarageCars'),\n",
              " (0.06804549266202736, '1stFlrSF'),\n",
              " (0.053286179436633066, 'YearBuilt'),\n",
              " (0.047575175330166815, 'BsmtFinSF1'),\n",
              " (0.040085395349288504, '2ndFlrSF'),\n",
              " (0.037017816899374244, 'GarageYrBlt'),\n",
              " (0.0321990621543618, 'GarageArea'),\n",
              " (0.029368299069600687, 'FullBath'),\n",
              " (0.02728063176847269, 'YearRemodAdd'),\n",
              " (0.020577471546899474, 'LotFrontage'),\n",
              " (0.020403716844949647, 'TotRmsAbvGrd'),\n",
              " (0.018106399131403095, 'LotArea'),\n",
              " (0.017465954329376133, 'MasVnrArea'),\n",
              " (0.01614542132298896, 'OpenPorchSF'),\n",
              " (0.01556321494656634, 'Fireplaces'),\n",
              " (0.010576682508686345, 'BsmtUnfSF'),\n",
              " (0.009817614407444896, 'PoolArea'),\n",
              " (0.009073736268084841, 'ScreenPorch'),\n",
              " (0.008450684410965768, 'MSSubClass'),\n",
              " (0.007100420493453096, 'WoodDeckSF'),\n",
              " (0.007089113545576465, 'NoRidge'),\n",
              " (0.006397301637983969, 'Id'),\n",
              " (0.006252467339500237, 'OverallCond'),\n",
              " (0.005984945775409571, 'BedroomAbvGr'),\n",
              " (0.005377385166790629, 'BsmtFullBath'),\n",
              " (0.004296284669667947, 'HalfBath'),\n",
              " (0.004211599296394818, 'MoSold'),\n",
              " (0.0032312788142174896, 'KitchenAbvGr'),\n",
              " (0.0029713068493513275, 'EnclosedPorch'),\n",
              " (0.0026512132207380107, 'YrSold'),\n",
              " (0.0021170979423548427, 'StoneBr'),\n",
              " (0.0019366900344162767, 'NAmes'),\n",
              " (0.001714955378638148, 'NridgHt'),\n",
              " (0.0016620150468988329, 'OldTown'),\n",
              " (0.0016307480300388373, 'Edwards'),\n",
              " (0.0016160802632440064, 'Crawfor'),\n",
              " (0.0015447378546589983, 'BsmtFinSF2'),\n",
              " (0.0008837138236369962, 'Gilbert'),\n",
              " (0.0007676826706082292, '3SsnPorch'),\n",
              " (0.0007656102344876291, 'ClearCr'),\n",
              " (0.0006348080006109788, 'Somerst'),\n",
              " (0.0006040464121163002, 'BsmtHalfBath'),\n",
              " (0.0005516656625837708, 'NWAmes'),\n",
              " (0.000496911870459355, 'LowQualFinSF'),\n",
              " (0.0004903929000244771, 'Blmngtn'),\n",
              " (0.0004241746263197503, 'CollgCr'),\n",
              " (0.0003957093329761496, 'MiscVal'),\n",
              " (0.0003510783848151133, 'SawyerW'),\n",
              " (0.00024832783380688905, 'Veenker'),\n",
              " (0.00023244242185588572, 'Sawyer'),\n",
              " (0.00017632743995333404, 'IDOTRR'),\n",
              " (0.00016128579982614333, 'Mitchel'),\n",
              " (0.0001339692267609897, 'Timber'),\n",
              " (0.00011733308776783129, 'SWISU'),\n",
              " (0.00010311798556478959, 'NPkVill'),\n",
              " (9.2641503355281e-05, 'BrkSide'),\n",
              " (5.818232126767759e-05, 'MeadowV'),\n",
              " (3.001823125230737e-05, 'BrDale')]"
            ]
          },
          "metadata": {},
          "execution_count": 139
        }
      ]
    },
    {
      "cell_type": "code",
      "source": [
        "final_model = grid_search.best_estimator_\n",
        "\n",
        "X_test = test_set.drop(\"SalePrice\", axis=1)\n",
        "#X_test = test_set\n",
        "y_test = test_set[\"SalePrice\"].copy()\n",
        "print(X_test.shape)\n"
      ],
      "metadata": {
        "colab": {
          "base_uri": "https://localhost:8080/"
        },
        "id": "iUgBsUMapaBN",
        "outputId": "35985c56-6a9a-413d-d1c3-e214bbcafebe"
      },
      "execution_count": 147,
      "outputs": [
        {
          "output_type": "stream",
          "name": "stdout",
          "text": [
            "(292, 80)\n"
          ]
        }
      ]
    },
    {
      "cell_type": "code",
      "source": [
        "final_model = grid_search.best_estimator_\n",
        "\n",
        "X_test = test_set.drop(\"SalePrice\", axis=1)\n",
        "#X_test = test_set\n",
        "y_test = test_set[\"SalePrice\"].copy()\n",
        "#print(X_test.shape)\n",
        "X_test_prepared = full_pipeline.transform(X_test)\n",
        "final_predictions = final_model.predict(X_test_prepared)\n",
        "\n",
        "final_mse = mean_squared_error(y_test, final_predictions)\n",
        "final_rmse = np.sqrt(final_mse)"
      ],
      "metadata": {
        "id": "j28-YkSndypI"
      },
      "execution_count": 168,
      "outputs": []
    },
    {
      "cell_type": "code",
      "source": [
        "final_rmse"
      ],
      "metadata": {
        "id": "ss0atn8secDh",
        "colab": {
          "base_uri": "https://localhost:8080/"
        },
        "outputId": "67504eb0-c773-46cb-8407-4564ea310b7a"
      },
      "execution_count": 169,
      "outputs": [
        {
          "output_type": "execute_result",
          "data": {
            "text/plain": [
              "30461.382700587375"
            ]
          },
          "metadata": {},
          "execution_count": 169
        }
      ]
    },
    {
      "cell_type": "code",
      "source": [
        "from sklearn.metrics import mean_absolute_error\n",
        "\n",
        "lin_mae = mean_absolute_error(y_test, final_predictions)\n",
        "lin_mae"
      ],
      "metadata": {
        "id": "pQSg-weaecey",
        "colab": {
          "base_uri": "https://localhost:8080/"
        },
        "outputId": "3b8153da-52f0-464c-df15-5849500b2078"
      },
      "execution_count": 170,
      "outputs": [
        {
          "output_type": "execute_result",
          "data": {
            "text/plain": [
              "17990.022831050228"
            ]
          },
          "metadata": {},
          "execution_count": 170
        }
      ]
    },
    {
      "cell_type": "code",
      "source": [
        "from scipy import stats\n",
        "\n",
        "confidence = 0.95\n",
        "squared_errors = (final_predictions - y_test) ** 2\n",
        "np.sqrt(stats.t.interval(confidence, len(squared_errors) - 1,\n",
        "                         loc=squared_errors.mean(),\n",
        "                         scale=stats.sem(squared_errors)))"
      ],
      "metadata": {
        "id": "Wt1qOeWAef6U",
        "colab": {
          "base_uri": "https://localhost:8080/"
        },
        "outputId": "336378d0-15f3-4aab-b44a-f91c6fefa42f"
      },
      "execution_count": 171,
      "outputs": [
        {
          "output_type": "execute_result",
          "data": {
            "text/plain": [
              "array([21685.05149666, 37222.97964498])"
            ]
          },
          "metadata": {},
          "execution_count": 171
        }
      ]
    },
    {
      "cell_type": "markdown",
      "metadata": {
        "id": "K3YvBnpUeSEH"
      },
      "source": [
        "## Step 7: Solution Presentation\n",
        "Now that you need to write a short memo of one paragraph to be read by a non-technical audience (ie. your manager/supervisor). Focus on answering the following: \n",
        "\n",
        "* How can you pitch your solution to this project? \n",
        "* What did you learn so far about the problem?\n",
        "* Is there any insight moving forward to improve the solution?"
      ]
    },
    {
      "cell_type": "markdown",
      "source": [
        "I pitch my solution by importing the data, then getting all the necessary information including the room number, the sale price, the neighborhood and, etc. In that case, I am able to get plotted charts, and tables, and calculate the mean square error.\n",
        "I learned that I can predict the sale price through the regression line. There is definitely more I can do to improve the solution, for example, finding a line that can fit the graph more and find out the solution with fewer errors, etc."
      ],
      "metadata": {
        "id": "60nS2x8Sr413"
      }
    },
    {
      "cell_type": "code",
      "metadata": {
        "id": "-nu7XgXRee3R"
      },
      "source": [],
      "execution_count": null,
      "outputs": []
    },
    {
      "cell_type": "markdown",
      "metadata": {
        "id": "HrRRoBcWeVju"
      },
      "source": [
        "## Step 8: Model Launching, Monitoring, and Updating\n",
        "You don't need to do anything for this step. However, in the real-world, this is an iterative process where you launch, monitor, and update your model (on the cloud).\n",
        "\n",
        "In case you get stuck in any step in the process, you may find some useful information from:\n",
        "\n",
        " * Consult my slides and/or the textbook\n",
        " * Talk to the TA, they are available and there to help you during their office hours\n",
        " * Come talk to me or email me <nn4pj@virginia.edu> with subject starting \"CS4774 Codeathon 1:...\".\n",
        "\n",
        "Best of luck and have fun!"
      ]
    },
    {
      "cell_type": "code",
      "metadata": {
        "id": "Tzpq8NedeU-m"
      },
      "source": [],
      "execution_count": null,
      "outputs": []
    }
  ]
}