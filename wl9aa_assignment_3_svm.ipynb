{
  "nbformat": 4,
  "nbformat_minor": 0,
  "metadata": {
    "colab": {
      "provenance": [],
      "collapsed_sections": []
    },
    "kernelspec": {
      "name": "python3",
      "display_name": "Python 3"
    }
  },
  "cells": [
    {
      "cell_type": "markdown",
      "metadata": {
        "id": "TBq3yEPxSEWC"
      },
      "source": [
        "# Assignment 3: Non-Linear Classification with SVM"
      ]
    },
    {
      "cell_type": "markdown",
      "metadata": {
        "id": "BFMzEfKaDOdI"
      },
      "source": [
        "### CS 4774 Machine Learning - Department of Computer Science - University of Virginia\n",
        "\n",
        "In this assignment, you will implement your own version of SVM with kernels to classify non-linear data. For references, you may refer to my [lecture 10](https://drive.google.com/open?id=1CeBhepjDKBaFBq2BZq-zNQs-MC8ll7aL4qAF8TJ24FM) and [lecture 10b](https://drive.google.com/open?id=13BidUAs_c2QdZkf92axt2S748sbnbI9Hgxg-fzb-OuU) or Chapter 5 of the textbook if you need additional sample codes to help with your assignment. For deliverables, you must write code in Python and submit **this** Jupyter Notebook file (.ipynb) to earn a total of 100 pts. Note that you must save your Notebook filename under this format: **yourUvaUserId_assignment_3_svm.ipynb**.\n"
      ]
    },
    {
      "cell_type": "markdown",
      "metadata": {
        "id": "xxGTRvPXTeDj"
      },
      "source": [
        "## 1. DATA SET AND VISUALIZATION FUNCTION\n",
        "We will use the non-linear toy data called the Moon dataset. You may use the code snippet below to generate the train/test set. Feel free to change the number of samples, and noise level. Additionally, a function plot_svm() is provided to help you visualize the decision boundary, margin, and support vectors on the dataset in 2D feature space.\n",
        "\n",
        "The provided function plot_svm() works out-the-box, and is the best way to visualize and evaluate the performance of your model. It assumes the classifier has an instance variable \"self.support_vectors_\", which is a numpy array of the support vectors found in training. DO NOT modify this function. Once your implementation in Task 3 is complete, the plots generated for your model should look similar to the plots generated for the standard library models in Task 2. "
      ]
    },
    {
      "cell_type": "code",
      "metadata": {
        "id": "0Wht-_GHTXrn"
      },
      "source": [
        "from sklearn.datasets import make_moons\n",
        "from sklearn.model_selection import train_test_split\n",
        "from sklearn.metrics import confusion_matrix\n",
        "import numpy as np\n",
        "from sklearn.metrics import precision_score, recall_score\n",
        "\n",
        "X, y = make_moons (n_samples = 500, noise = 0.15, random_state = 49)\n",
        "y = y*2-1.0 # convert the labels from {0,1} to {-1, +1}\n",
        "\n",
        "X_train, X_test, y_train, y_test = train_test_split(X, y, test_size=0.2,\n",
        "                                                    random_state=42)\n",
        "\n",
        "import matplotlib.pyplot as plt\n",
        "\n",
        "def plot_svm (clf, X, y, axes=[-2, 3, -2, 2]):\n",
        "    \"\"\"\n",
        "    Generate a simple plot of SVM including the decision boundary, margin, and its training data\n",
        "    \n",
        "    Parameters\n",
        "    ----------\n",
        "    clf: your classifier handle\n",
        "    X: feature matrix shape(m_samples, n_features)\n",
        "    y: label vector shape(m_samples, )\n",
        "    axes: (optional) the axes of the plot in format [xmin, xmax, ymin, ymax] \n",
        "    \"\"\"\n",
        "    # Create a mesh grid based on the provided axes (100 x 100 resolution)\n",
        "    x0s = np.linspace(axes[0], axes[1], 100)\n",
        "    x1s = np.linspace(axes[2], axes[3], 100)\n",
        "    x0, x1 = np.meshgrid(x0s,x1s) # create a mesh grid\n",
        "    X_mesh = np.c_[x0.ravel(), x1.ravel()] # convert all mesh points into 2-D points\n",
        "    y_pred = clf.predict(X_mesh).reshape(x0.shape) # predict then covert back to the 2-D\n",
        "    y_decision = clf.decision_function(X_mesh).reshape(x0.shape)\n",
        "\n",
        "    plt.figsize=(16, 9)\n",
        "    plt.plot(X[:, 0][y==-1], X[:, 1][y==-1], \"bo\", label=\"Class -1\")\n",
        "    plt.plot(X[:, 0][y==1], X[:, 1][y==1], \"go\", label=\"Class +1\")\n",
        "    # Plot out the support vectors (in red)\n",
        "    plt.scatter(clf.support_vectors_[:,0], clf.support_vectors_[:,1], s=80, c=\"r\", label=\"Support Vectors\")\n",
        "    # Plot decision boundary and margins\n",
        "    plt.contourf(x0,x1, y_pred, cmap = plt.cm.brg, alpha = 0.1)\n",
        "    plt.contourf(x0,x1, y_decision, cmap = plt.cm.brg, alpha = 0.2)\n",
        "    plt.contour(x0, x1, y_decision, colors='k',\n",
        "                 levels=[-1, 0, 1], alpha=0.5,\n",
        "                 linestyles=['--', '-', '--'])\n",
        "    plt.legend(loc=\"lower right\")\n",
        "    plt.axis(\"auto\")\n",
        "\n",
        "    plt.grid(True, which='both')\n",
        "    plt.xlabel(r\"$x_1$\", fontsize=20)\n",
        "    plt.ylabel(r\"$x_2$\", fontsize=20, rotation=0) "
      ],
      "execution_count": 1,
      "outputs": []
    },
    {
      "cell_type": "code",
      "source": [
        "X_train.shape\n"
      ],
      "metadata": {
        "colab": {
          "base_uri": "https://localhost:8080/"
        },
        "id": "SImQ9F7hj0tw",
        "outputId": "7eb6ce42-9fb0-48b5-b8a5-88c3e5f598d3"
      },
      "execution_count": 2,
      "outputs": [
        {
          "output_type": "execute_result",
          "data": {
            "text/plain": [
              "(400, 2)"
            ]
          },
          "metadata": {},
          "execution_count": 2
        }
      ]
    },
    {
      "cell_type": "code",
      "source": [
        "X_test.shape"
      ],
      "metadata": {
        "colab": {
          "base_uri": "https://localhost:8080/"
        },
        "id": "ThCFXJL9j_OQ",
        "outputId": "65f653c8-482b-452a-fca6-1ae5ed1fd6b8"
      },
      "execution_count": 3,
      "outputs": [
        {
          "output_type": "execute_result",
          "data": {
            "text/plain": [
              "(100, 2)"
            ]
          },
          "metadata": {},
          "execution_count": 3
        }
      ]
    },
    {
      "cell_type": "code",
      "source": [
        "y_train.shape"
      ],
      "metadata": {
        "colab": {
          "base_uri": "https://localhost:8080/"
        },
        "id": "IX2YIxsukABn",
        "outputId": "636263fc-c345-46f0-ed40-2304e4cb1467"
      },
      "execution_count": 4,
      "outputs": [
        {
          "output_type": "execute_result",
          "data": {
            "text/plain": [
              "(400,)"
            ]
          },
          "metadata": {},
          "execution_count": 4
        }
      ]
    },
    {
      "cell_type": "code",
      "source": [
        "y_test.shape"
      ],
      "metadata": {
        "colab": {
          "base_uri": "https://localhost:8080/"
        },
        "id": "9ZN5AuDTkAxT",
        "outputId": "5f8301d7-071f-477c-b7d5-a4f7eed99692"
      },
      "execution_count": 5,
      "outputs": [
        {
          "output_type": "execute_result",
          "data": {
            "text/plain": [
              "(100,)"
            ]
          },
          "metadata": {},
          "execution_count": 5
        }
      ]
    },
    {
      "cell_type": "code",
      "source": [
        "print(X_train)"
      ],
      "metadata": {
        "colab": {
          "base_uri": "https://localhost:8080/"
        },
        "id": "EgPttcW7lYCp",
        "outputId": "57daf719-8451-4d22-8d00-8765ac88c9a7"
      },
      "execution_count": 6,
      "outputs": [
        {
          "output_type": "stream",
          "name": "stdout",
          "text": [
            "[[ 0.01614299  0.22029806]\n",
            " [ 1.19669383  0.19770121]\n",
            " [ 1.80105924 -0.09950022]\n",
            " [ 0.69448607 -0.26772343]\n",
            " [-0.19732429  0.85299508]\n",
            " [ 0.12534534  0.30843837]\n",
            " [ 0.64486232  1.0492189 ]\n",
            " [ 1.44864053 -0.17422605]\n",
            " [ 1.39776587  0.12148183]\n",
            " [ 2.06207544  0.43936137]\n",
            " [-1.14569998  0.04617496]\n",
            " [-0.24543054  0.11186744]\n",
            " [ 0.33352887  1.06133967]\n",
            " [ 0.10127783  0.52926691]\n",
            " [ 0.1643044  -0.11629048]\n",
            " [ 1.92939381  0.27006183]\n",
            " [ 2.03412888  0.34148378]\n",
            " [ 1.2805348  -0.33816734]\n",
            " [ 1.60427693 -0.02915155]\n",
            " [ 2.159579    0.34102531]\n",
            " [-0.86353348  0.86493563]\n",
            " [ 0.00825782  0.88270111]\n",
            " [ 0.29952539  1.03173461]\n",
            " [-0.91280947  0.5119627 ]\n",
            " [ 1.60215158 -0.06512775]\n",
            " [ 0.88258537  0.83303866]\n",
            " [ 0.32909927 -0.28310635]\n",
            " [ 0.87819254  0.16967617]\n",
            " [-0.89498142  0.28244601]\n",
            " [ 0.3569334   0.77474469]\n",
            " [ 0.77838157  0.83186648]\n",
            " [ 0.14464811  0.40305191]\n",
            " [-0.68746086  0.70197408]\n",
            " [ 1.07573349 -0.46440539]\n",
            " [ 0.80810629  0.65636528]\n",
            " [ 2.17299316  0.35628178]\n",
            " [ 0.43143125  0.0250558 ]\n",
            " [-0.33246724  0.97719453]\n",
            " [ 0.05490837  1.21033857]\n",
            " [ 0.63733666 -0.40057187]\n",
            " [ 0.00590765 -0.10459187]\n",
            " [ 1.88375315 -0.22046137]\n",
            " [ 1.5519367  -0.34053885]\n",
            " [ 1.00329863  0.59574963]\n",
            " [-1.05369353  0.23828869]\n",
            " [ 0.07231444  0.07071499]\n",
            " [-0.83115745  0.25397195]\n",
            " [-0.6961661   0.40094145]\n",
            " [-0.95023028  0.29354347]\n",
            " [-0.41466449  0.97652402]\n",
            " [ 0.33158075  0.9138718 ]\n",
            " [ 0.46266098 -0.11408552]\n",
            " [ 1.47707774 -0.33542116]\n",
            " [ 0.43875692 -0.40185411]\n",
            " [-0.09842877  0.04382854]\n",
            " [-0.23457714  1.17041217]\n",
            " [-0.92664554 -0.04339381]\n",
            " [ 0.30315781 -0.32441687]\n",
            " [-0.52370344  1.03942133]\n",
            " [ 1.23563706  0.23420844]\n",
            " [-1.11496795  0.18276245]\n",
            " [ 1.09463494 -0.49047788]\n",
            " [ 1.65537548  0.03169957]\n",
            " [-0.7892803   0.55606501]\n",
            " [ 0.68098393 -0.41733705]\n",
            " [ 0.33934415 -0.27518126]\n",
            " [-0.93876162  0.68262709]\n",
            " [ 0.25656583 -0.20257809]\n",
            " [ 0.00920437  0.2580581 ]\n",
            " [ 0.11983145  0.42438391]\n",
            " [ 2.05075088  0.15946758]\n",
            " [ 1.88825165  0.1040041 ]\n",
            " [ 1.1011918  -0.23615015]\n",
            " [ 0.26668848  1.18776223]\n",
            " [ 1.02161158  0.02219252]\n",
            " [ 1.44087206 -0.3233819 ]\n",
            " [ 0.88298749 -0.25785693]\n",
            " [ 0.64185647  0.82324909]\n",
            " [ 0.52750531 -0.64381286]\n",
            " [ 1.73418162 -0.15086463]\n",
            " [ 0.9138935   0.89977764]\n",
            " [ 1.32022184 -0.37972074]\n",
            " [ 0.80574108 -0.59421004]\n",
            " [ 0.85092354  0.0187329 ]\n",
            " [-0.97476178  0.28589732]\n",
            " [-0.10029383  0.26316071]\n",
            " [ 0.92944086  0.51050109]\n",
            " [-0.26856284  0.82017564]\n",
            " [ 0.54375298  0.73531681]\n",
            " [-0.00688242 -0.05729834]\n",
            " [ 1.31528334 -0.47266946]\n",
            " [ 0.70276398  0.77135579]\n",
            " [ 0.01097752  0.9517155 ]\n",
            " [-0.18778047  0.53540615]\n",
            " [ 0.22177718  0.89840783]\n",
            " [-0.24162004  0.95870066]\n",
            " [ 2.11487422  0.30344015]\n",
            " [ 0.5935367   0.71035131]\n",
            " [ 0.81344024  0.23615569]\n",
            " [ 1.55887923 -0.36520832]\n",
            " [-0.71781068  0.46075298]\n",
            " [-0.05587543  1.06823233]\n",
            " [ 1.82547559 -0.15165544]\n",
            " [ 0.25246127  0.20726922]\n",
            " [-0.77872132  0.58111206]\n",
            " [ 0.95185688  0.57971894]\n",
            " [ 1.02549118  0.30704306]\n",
            " [-0.07778963  0.27982632]\n",
            " [ 1.92019089  0.02693327]\n",
            " [-0.18178612  1.05456341]\n",
            " [ 1.01479007  0.30846184]\n",
            " [ 0.98197745  0.80590951]\n",
            " [ 1.93237296  0.23509666]\n",
            " [ 1.63898418  0.1688425 ]\n",
            " [ 1.09408745 -0.56573726]\n",
            " [ 1.01753872 -0.59082793]\n",
            " [-0.27737569  0.93650921]\n",
            " [ 0.15581441 -0.11596827]\n",
            " [-0.60457163  0.96586227]\n",
            " [ 1.99923777  0.26703585]\n",
            " [-0.2565091   0.97987776]\n",
            " [ 0.82322627  0.38700106]\n",
            " [ 0.48899776 -0.60293987]\n",
            " [-0.72067604  0.37493997]\n",
            " [ 0.41804152 -0.33016976]\n",
            " [ 0.09741024  0.30055896]\n",
            " [ 1.39469735 -0.50995644]\n",
            " [-0.66826224  1.1383278 ]\n",
            " [ 0.11040983  0.9745489 ]\n",
            " [ 1.29163512 -0.5261916 ]\n",
            " [ 2.0043984   0.32114931]\n",
            " [ 1.82142232  0.16787995]\n",
            " [ 1.97500605  0.16454482]\n",
            " [-0.8600308   0.04911835]\n",
            " [ 1.98616433 -0.21174674]\n",
            " [ 0.32028482  0.76896127]\n",
            " [ 0.23102965  0.99154305]\n",
            " [ 0.2307296   1.05057074]\n",
            " [-0.6647722   0.74088061]\n",
            " [ 0.48097824 -0.30431489]\n",
            " [-0.06286026  0.74880938]\n",
            " [ 1.04256293 -0.64414622]\n",
            " [ 0.4539516  -0.35318123]\n",
            " [-0.70981327  0.5110748 ]\n",
            " [ 2.18313905  0.20043265]\n",
            " [ 0.45545031  0.9754677 ]\n",
            " [-0.99416303  0.301262  ]\n",
            " [ 1.39077127 -0.54792393]\n",
            " [ 0.47094473 -0.19215968]\n",
            " [ 0.16557816 -0.08100387]\n",
            " [ 2.02173982 -0.12019864]\n",
            " [ 0.74050632  0.34675039]\n",
            " [ 0.51514939  1.06114047]\n",
            " [-0.61784502  0.94677269]\n",
            " [-1.01900061  0.151844  ]\n",
            " [ 1.91138544  0.26660997]\n",
            " [ 0.50485773  0.860839  ]\n",
            " [-0.50086665  0.91095903]\n",
            " [ 1.36907371 -0.41957064]\n",
            " [ 1.6764226  -0.27471224]\n",
            " [ 1.72594592  0.16314857]\n",
            " [-1.14554835  0.14612549]\n",
            " [ 0.50363474  0.3917789 ]\n",
            " [ 0.59238786  0.90937775]\n",
            " [-0.9428508   0.02713601]\n",
            " [ 2.00311576  0.08487956]\n",
            " [ 0.83892578  1.03322149]\n",
            " [ 0.30160173 -0.39009503]\n",
            " [-0.95527486  0.32602253]\n",
            " [-0.13337652  0.74110525]\n",
            " [ 0.68957258 -0.19410956]\n",
            " [ 0.90303329 -0.4373861 ]\n",
            " [ 0.53769478 -0.29938148]\n",
            " [-0.45613224  1.04225096]\n",
            " [ 2.15178815  0.43365429]\n",
            " [ 0.49573376  0.2857151 ]\n",
            " [ 0.91965051  0.19294269]\n",
            " [ 0.36517795 -0.35134949]\n",
            " [ 0.66979014  0.58333474]\n",
            " [ 1.6160587  -0.34477545]\n",
            " [-0.70047957  0.5958436 ]\n",
            " [-0.18324069  1.06569452]\n",
            " [ 0.97375506 -0.1856981 ]\n",
            " [ 0.67696895  0.5902897 ]\n",
            " [-0.54232367  0.47140586]\n",
            " [ 1.67161315 -0.0737759 ]\n",
            " [ 0.61620251  0.39647024]\n",
            " [ 1.14207753 -0.3536559 ]\n",
            " [ 0.7550289  -0.41593881]\n",
            " [ 0.1056294   0.37467007]\n",
            " [-0.11747339  1.21676724]\n",
            " [ 0.26755408  0.82998098]\n",
            " [ 0.85769667  0.52518686]\n",
            " [-0.91405924  0.39366233]\n",
            " [ 0.66476362 -0.45992472]\n",
            " [-0.48442294  1.00526849]\n",
            " [ 0.42781923  0.59407579]\n",
            " [-0.64235949  0.75102761]\n",
            " [-0.27694113  0.86032336]\n",
            " [ 1.06783391 -0.35908374]\n",
            " [-0.76434536  0.37841129]\n",
            " [ 0.8268194  -0.34550352]\n",
            " [-0.08453769  0.60971225]\n",
            " [-1.22075214  0.20141075]\n",
            " [ 1.99595943  0.07541042]\n",
            " [ 2.11577658  0.25676185]\n",
            " [ 1.69850631 -0.34858114]\n",
            " [-0.03616693  0.84170389]\n",
            " [ 0.25148813  0.22649041]\n",
            " [ 0.46862897  0.76071043]\n",
            " [ 0.9727573   0.27705442]\n",
            " [-0.88155019  0.08450271]\n",
            " [ 1.77177199  0.47487405]\n",
            " [ 0.20109358  0.10344464]\n",
            " [ 0.1473253   1.19029952]\n",
            " [ 1.47534442 -0.4420075 ]\n",
            " [-0.03241695  0.89701026]\n",
            " [ 0.53289864  1.0007847 ]\n",
            " [ 0.1548932   0.83151611]\n",
            " [-0.49871182  1.13361422]\n",
            " [ 0.15599429  0.06866053]\n",
            " [ 1.58369327 -0.06727847]\n",
            " [-1.11951696  0.3226228 ]\n",
            " [-0.38364647  0.93442471]\n",
            " [ 0.3353218  -0.19060935]\n",
            " [-0.26626345  0.97380563]\n",
            " [-0.56083406  0.76773942]\n",
            " [ 0.52866008 -0.49921075]\n",
            " [-0.71907396  0.5539979 ]\n",
            " [ 0.88865477  0.90629547]\n",
            " [ 2.00748139  0.23010277]\n",
            " [-0.89678351  0.31275632]\n",
            " [ 0.48043554  0.91551089]\n",
            " [-0.99478192  0.45657576]\n",
            " [-0.70105572  1.00803715]\n",
            " [ 1.09143912  0.646368  ]\n",
            " [ 0.77623714  0.45839717]\n",
            " [ 1.06170077  0.82622759]\n",
            " [-0.68550583  0.32079449]\n",
            " [ 0.33293867 -0.31199922]\n",
            " [ 0.87074501  0.5312643 ]\n",
            " [ 0.43583234  0.92827655]\n",
            " [-1.27568128  0.51645571]\n",
            " [ 1.74121829 -0.31310005]\n",
            " [-0.82226511  0.15898466]\n",
            " [-0.36697591  0.97588328]\n",
            " [-0.51107431  0.89685686]\n",
            " [ 1.9589251   0.48571792]\n",
            " [ 1.82179239 -0.13712409]\n",
            " [ 1.8032787   0.12594606]\n",
            " [ 0.0905868   0.04398229]\n",
            " [ 1.5568704  -0.42041256]\n",
            " [ 0.42529096  0.88048505]\n",
            " [ 0.1945719   1.24418451]\n",
            " [-0.19947211  0.99820104]\n",
            " [ 1.81931955  0.31209299]\n",
            " [ 1.34964277 -0.41573832]\n",
            " [ 0.93249102  0.66747084]\n",
            " [-0.10915063  0.57170267]\n",
            " [-0.80981033  0.49931861]\n",
            " [ 0.21475546  0.82936893]\n",
            " [ 0.71653144  0.90508237]\n",
            " [ 0.35344434 -0.3634342 ]\n",
            " [-0.86539512  0.25833302]\n",
            " [ 0.66541268 -0.34937435]\n",
            " [ 1.72570533 -0.22759848]\n",
            " [-0.03222333  0.18328656]\n",
            " [ 0.43780774  0.9725902 ]\n",
            " [-0.05649077  0.76847195]\n",
            " [-1.07217468  0.56291619]\n",
            " [ 0.63948077 -0.40350999]\n",
            " [ 0.73364773  0.31084368]\n",
            " [ 0.9229201  -0.02614362]\n",
            " [ 1.20462092  0.15750273]\n",
            " [ 0.96073904 -0.51770092]\n",
            " [-0.98770696  0.604601  ]\n",
            " [ 0.09097225 -0.13837449]\n",
            " [ 0.36438935  0.29267081]\n",
            " [ 0.99151239  0.16495965]\n",
            " [ 0.40465428  0.7951089 ]\n",
            " [ 0.7043075   0.88396042]\n",
            " [ 1.23886874 -0.6655612 ]\n",
            " [ 1.62733878 -0.27284456]\n",
            " [-0.76368675  0.65516653]\n",
            " [ 0.22377833  0.00416241]\n",
            " [ 1.85365003 -0.15917824]\n",
            " [ 1.59215359 -0.74889252]\n",
            " [-0.18263264  0.23780158]\n",
            " [ 0.38854964  0.76752535]\n",
            " [ 1.60142607 -0.67255459]\n",
            " [ 1.48068825 -0.42921557]\n",
            " [ 2.06183349 -0.27051214]\n",
            " [-0.55758421  0.89224313]\n",
            " [ 1.27566208 -0.3127488 ]\n",
            " [-0.58119228  0.85799402]\n",
            " [ 0.11596121  0.19660423]\n",
            " [ 0.25897143  0.01796082]\n",
            " [ 0.41477061  0.79867649]\n",
            " [-0.2764096   1.17109107]\n",
            " [ 0.55761396  0.85155764]\n",
            " [ 0.31627786 -0.01051373]\n",
            " [ 0.98913146 -0.66652073]\n",
            " [-0.44603544  0.81696026]\n",
            " [-0.17022616  0.14739283]\n",
            " [-0.6968116   0.63875958]\n",
            " [ 0.83100331  0.25540052]\n",
            " [-0.06746118  0.0644513 ]\n",
            " [-1.1943898   0.5145625 ]\n",
            " [ 0.10916497 -0.05627599]\n",
            " [ 0.84536742 -0.63104262]\n",
            " [ 0.03837922  1.08436942]\n",
            " [-0.42283175  0.76816929]\n",
            " [ 0.86230928  0.33383487]\n",
            " [ 0.92915165  0.57288037]\n",
            " [ 0.72065368 -0.2904792 ]\n",
            " [-0.03932474  0.01481844]\n",
            " [-0.15799043  0.63586947]\n",
            " [ 1.8232126  -0.27851264]\n",
            " [ 0.52177964  0.91561148]\n",
            " [-0.78895113  0.54524987]\n",
            " [ 0.81155636 -0.40575173]\n",
            " [-0.39154489  0.54345004]\n",
            " [ 1.24439225 -0.43221237]\n",
            " [ 1.93773825  0.2270549 ]\n",
            " [ 0.36205894  0.87364901]\n",
            " [ 0.57715522 -0.35806295]\n",
            " [ 1.03828953 -0.54043779]\n",
            " [-0.34466423  0.43768174]\n",
            " [ 0.80877571 -0.46498378]\n",
            " [ 1.58075253 -0.23993005]\n",
            " [-0.89655112  0.55497752]\n",
            " [-0.02479833  0.00628291]\n",
            " [-0.96838879  0.16516029]\n",
            " [ 0.57307294 -0.4324599 ]\n",
            " [ 1.89035857 -0.37263814]\n",
            " [ 1.16389777  0.27210869]\n",
            " [-0.64245218  0.15402681]\n",
            " [ 0.33701198  0.43635601]\n",
            " [-0.39598276  0.7924971 ]\n",
            " [ 1.33765291  0.30320421]\n",
            " [ 0.67372675 -0.48215768]\n",
            " [ 0.98666907 -0.52494277]\n",
            " [ 0.15729961  0.86207571]\n",
            " [ 1.46166313 -0.22788505]\n",
            " [ 1.34030595 -0.47822416]\n",
            " [ 2.18700305  0.03857229]\n",
            " [-0.7373747   0.67019979]\n",
            " [-0.23191304  1.041767  ]\n",
            " [ 0.50218959  0.05297958]\n",
            " [-0.58415396  0.87933886]\n",
            " [ 0.83171095  0.6242981 ]\n",
            " [-0.77280395  0.3000244 ]\n",
            " [ 0.66213561 -0.20287473]\n",
            " [-0.09712912  0.5056364 ]\n",
            " [ 1.91604646  0.2210246 ]\n",
            " [-0.66202064  0.39189573]\n",
            " [ 0.60913673 -0.25655506]\n",
            " [-0.41518247  0.94046483]\n",
            " [-0.40754518  0.71917717]\n",
            " [ 1.96649227 -0.18629394]\n",
            " [ 0.89482603  0.39138103]\n",
            " [ 0.98227705 -0.14540018]\n",
            " [ 0.55534912  0.77161534]\n",
            " [ 0.36138779  0.92221119]\n",
            " [-0.29441926  0.99661351]\n",
            " [ 2.20216215  0.30493353]\n",
            " [ 0.88272151 -0.53856188]\n",
            " [ 0.23808421  1.15873751]\n",
            " [ 0.69989215 -0.46333687]\n",
            " [ 1.80081844 -0.38853265]\n",
            " [-0.57797684  1.05471104]\n",
            " [ 0.50567909  0.39080539]\n",
            " [ 0.12298287  0.98884151]\n",
            " [ 0.84289975  0.33133839]\n",
            " [ 0.1863868  -0.13200057]\n",
            " [-0.59044335  1.01790201]\n",
            " [-1.0283524   0.88838229]\n",
            " [-1.09703485  0.33713511]\n",
            " [ 1.90398158  0.2595054 ]\n",
            " [ 0.99277652  0.3207967 ]\n",
            " [ 1.53926689  0.04183143]\n",
            " [ 0.46426438 -0.61915095]\n",
            " [ 1.57716517 -0.27521085]\n",
            " [ 0.50818807 -0.43363859]\n",
            " [-0.91289874  0.50728405]\n",
            " [ 1.84132432 -0.10353367]\n",
            " [ 0.27122175 -0.53390753]\n",
            " [ 0.27700848  0.0592649 ]\n",
            " [ 1.99797682  0.4689347 ]\n",
            " [-0.71461296  0.60520943]\n",
            " [ 1.32903265 -0.25009023]\n",
            " [ 1.85451671 -0.42279982]\n",
            " [ 1.22158056 -0.38840537]\n",
            " [ 0.77647854  0.28729838]\n",
            " [ 0.9295965   0.16522496]\n",
            " [ 0.02662678  0.19987927]\n",
            " [-0.38030304  0.99128075]\n",
            " [ 0.50198263 -0.412574  ]\n",
            " [ 1.11969058  0.29887848]\n",
            " [ 0.25639071 -0.05922334]]\n"
          ]
        }
      ]
    },
    {
      "cell_type": "markdown",
      "metadata": {
        "id": "b_aV2q47DOdT"
      },
      "source": [
        "- - -\n",
        "## 2. TRAIN SVM FOR CLASSIFICATION TASK \n",
        "\n",
        "Use the standard libarary SVM classifier (SVC) on the training data, and then test the classifier on the test data. You will need to call SVM with 3 kernels: (1) Linear, (2) Polynomial and (3) Gaussian RBF. \n",
        "\n",
        "You should tune each model using a grid search or similar hyperparameter selection process, and report the best hyperparameters found. You will use these same hyperparameter settings later when testing and comparing to your implementation in Task 4. Once you've selected the best hyperparameters for each kernel, you will need to report the following:\n",
        "\n",
        "* Confusion matrix, Recall, and Precision. If applicable, discuss any tuning process on C and/or gamma to get to a reasonable result.\n",
        "* Use the provided plot_svm() to visualize the SVM in 2D. This might give you some insight on how SVM determines the margin and support vector on the Moon dataset.\n"
      ]
    },
    {
      "cell_type": "code",
      "source": [
        "from sklearn.svm import SVC\n",
        "from sklearn.metrics import accuracy_score\n",
        "from sklearn.model_selection import GridSearchCV\n",
        "from sklearn.metrics import confusion_matrix\n",
        "from sklearn.metrics import precision_score, recall_score\n",
        "# Your code here\n",
        "\n",
        "default_svc=SVC()\n",
        "default_svc.fit(X_train,y_train)\n",
        "y_pred=default_svc.predict(X_test)\n",
        "print('Default hyperparameters: {0:0.4f}'. format(accuracy_score(y_test, y_pred)))"
      ],
      "metadata": {
        "colab": {
          "base_uri": "https://localhost:8080/"
        },
        "id": "MUoIUwE0jMqe",
        "outputId": "2e721a35-a6ed-4850-aa8d-490d9fdc9185"
      },
      "execution_count": 7,
      "outputs": [
        {
          "output_type": "stream",
          "name": "stdout",
          "text": [
            "Default hyperparameters: 0.9700\n"
          ]
        }
      ]
    },
    {
      "cell_type": "code",
      "source": [
        "# Linear:\n",
        "#param_grid = [{\"C\": np.logspace(-2, 10, 13)}]\n",
        "param_grid = [{\"C\": [0.1, 1, 10, 100, 1000]}]\n",
        "linear_svm = SVC(kernel=\"linear\", random_state=42)\n",
        "#1grid_search = GridSearchCV(linear_svm, param_grid, scoring=\"f1\", cv=5, return_train_score=True)\n",
        "#2linear_svc_plot = grid_search.estimator.fit(X_train, y_train)\n",
        "#3linear_svc = grid_search.fit(X_train, y_train)\n",
        "#plot_svm(linear_svc_plot, X_test, y_test)\n",
        "linear_svm.fit(X_train, y_train)\n",
        "plot_svm(linear_svm, X_test, y_test)"
      ],
      "metadata": {
        "colab": {
          "base_uri": "https://localhost:8080/",
          "height": 292
        },
        "id": "B1ACUE35L5an",
        "outputId": "95df18f2-bf68-42f6-ec9f-e93cd13b7302"
      },
      "execution_count": 8,
      "outputs": [
        {
          "output_type": "display_data",
          "data": {
            "text/plain": [
              "<Figure size 432x288 with 1 Axes>"
            ],
            "image/png": "[encoded data removed]"
          },
          "metadata": {
            "needs_background": "light"
          }
        }
      ]
    },
    {
      "cell_type": "code",
      "source": [
        "y_pred_test_pre=linear_svm.predict(X_test)\n",
        "conf_matrix = confusion_matrix(y_test, y_pred_test_pre)\n",
        "print('Confusion matrix\\n\\n', conf_matrix)\n",
        "print('\\nTrue Positives(TP) = ', conf_matrix[0,0])\n",
        "print('\\nTrue Negatives(TN) = ', conf_matrix[1,1])\n",
        "print('\\nFalse Positives(FP) = ', conf_matrix[0,1])\n",
        "print('\\nFalse Negatives(FN) = ', conf_matrix[1,0])\n",
        "TP = conf_matrix[0,0]\n",
        "TN = conf_matrix[1,1]\n",
        "FP = conf_matrix[0,1]\n",
        "FN = conf_matrix[1,0]\n",
        "print(\"Correct prediction: \", TP+TN)\n",
        "print(\"Incorrect prediction: \", FP+FN)\n",
        "print(\"Recall: \", recall_score(y_test, y_pred_test_pre))\n",
        "print(\"Precision: \", precision_score(y_test, y_pred_test_pre))"
      ],
      "metadata": {
        "colab": {
          "base_uri": "https://localhost:8080/"
        },
        "id": "B2DgJsLvN9JO",
        "outputId": "2ca004c6-0ced-42f5-cfed-69cbc7a36c82"
      },
      "execution_count": 9,
      "outputs": [
        {
          "output_type": "stream",
          "name": "stdout",
          "text": [
            "Confusion matrix\n",
            "\n",
            " [[35 10]\n",
            " [ 5 50]]\n",
            "\n",
            "True Positives(TP) =  35\n",
            "\n",
            "True Negatives(TN) =  50\n",
            "\n",
            "False Positives(FP) =  10\n",
            "\n",
            "False Negatives(FN) =  5\n",
            "Correct prediction:  85\n",
            "Incorrect prediction:  15\n",
            "Recall:  0.9090909090909091\n",
            "Precision:  0.8333333333333334\n"
          ]
        }
      ]
    },
    {
      "cell_type": "code",
      "source": [
        "# Polynomial:\n",
        "#param_grid = [{\"C\": np.logspace(-2, 10, 13)}]\n",
        "param_grid = [{\"C\": [0.1, 1, 10, 100, 1000], 'degree': [2,3,4] ,'gamma':[0.01,0.02,0.03,0.04,0.05]}]\n",
        "poly_svc = SVC(kernel=\"poly\", random_state=42)\n",
        "#grid_search = GridSearchCV(poly_svc, param_grid, scoring=\"f1\", cv=5, return_train_score=True)\n",
        "#poly_svc_plot = grid_search.estimator.fit(X_train, y_train)\n",
        "#poly_svc = grid_search.fit(X_train, y_train)\n",
        "#plot_svm(poly_svc_plot, X_test, y_test)\n",
        "poly_svc.fit(X_train, y_train)\n",
        "plot_svm(poly_svc, X_test, y_test)"
      ],
      "metadata": {
        "colab": {
          "base_uri": "https://localhost:8080/",
          "height": 292
        },
        "id": "KA4YlK0QMALh",
        "outputId": "578b4646-48e7-4065-a245-cc85e115b09a"
      },
      "execution_count": 10,
      "outputs": [
        {
          "output_type": "display_data",
          "data": {
            "text/plain": [
              "<Figure size 432x288 with 1 Axes>"
            ],
            "image/png": "[encoded data removed]"
          },
          "metadata": {
            "needs_background": "light"
          }
        }
      ]
    },
    {
      "cell_type": "code",
      "source": [
        "y_pred_test_pre=poly_svc.predict(X_test)\n",
        "conf_matrix = confusion_matrix(y_test, y_pred_test_pre)\n",
        "print('Confusion matrix\\n\\n', conf_matrix)\n",
        "print('\\nTrue Positives(TP) = ', conf_matrix[0,0])\n",
        "print('\\nTrue Negatives(TN) = ', conf_matrix[1,1])\n",
        "print('\\nFalse Positives(FP) = ', conf_matrix[0,1])\n",
        "print('\\nFalse Negatives(FN) = ', conf_matrix[1,0])\n",
        "TP = conf_matrix[0,0]\n",
        "TN = conf_matrix[1,1]\n",
        "FP = conf_matrix[0,1]\n",
        "FN = conf_matrix[1,0]\n",
        "print(\"Correct prediction: \", TP+TN)\n",
        "print(\"Incorrect prediction: \", FP+FN)\n",
        "print(\"Recall: \", recall_score(y_test, y_pred_test_pre))\n",
        "print(\"Precision: \", precision_score(y_test, y_pred_test_pre))"
      ],
      "metadata": {
        "colab": {
          "base_uri": "https://localhost:8080/"
        },
        "id": "chxLrYE0Oo5H",
        "outputId": "89a902a5-7b90-41fc-ddd0-7968d11dcfc1"
      },
      "execution_count": 11,
      "outputs": [
        {
          "output_type": "stream",
          "name": "stdout",
          "text": [
            "Confusion matrix\n",
            "\n",
            " [[35 10]\n",
            " [ 1 54]]\n",
            "\n",
            "True Positives(TP) =  35\n",
            "\n",
            "True Negatives(TN) =  54\n",
            "\n",
            "False Positives(FP) =  10\n",
            "\n",
            "False Negatives(FN) =  1\n",
            "Correct prediction:  89\n",
            "Incorrect prediction:  11\n",
            "Recall:  0.9818181818181818\n",
            "Precision:  0.84375\n"
          ]
        }
      ]
    },
    {
      "cell_type": "code",
      "source": [
        "# #Gaussian RBF:\n",
        "#param_grid = [{\"C\": np.logspace(-2, 10, 13)}]\n",
        "param_grid = [{\"C\": [0.1, 1, 10, 100, 1000], \"gamma\":[0.1, 0.2, 0.3, 0.4, 0.5, 0.6, 0.7, 0.8, 0.9]}]\n",
        "rbf_svc = SVC(kernel=\"rbf\", random_state=42)\n",
        "#grid_search = GridSearchCV(rbf_svc, param_grid, scoring=\"f1\", cv=5, return_train_score=True)\n",
        "#rbf_svc_plot = grid_search.estimator.fit(X_train, y_train)\n",
        "##rbf_svc = grid_search.fit(X_train, y_train)\n",
        "#plot_svm(rbf_svc_plot, X_test, y_test)\n",
        "#plot_svm(rbf_svc_plot, X_test, y_test)\n",
        "#print('Default hyperparameters: {0:0.4f}'. format(accuracy_score(y_test, y_pred)))\n",
        "rbf_svc.fit(X_train, y_train)\n",
        "plot_svm(rbf_svc, X_test, y_test)"
      ],
      "metadata": {
        "colab": {
          "base_uri": "https://localhost:8080/",
          "height": 292
        },
        "id": "nHApoNsQMWUv",
        "outputId": "ddf0f6ee-1130-4ad5-ac6d-489b7968b937"
      },
      "execution_count": 12,
      "outputs": [
        {
          "output_type": "display_data",
          "data": {
            "text/plain": [
              "<Figure size 432x288 with 1 Axes>"
            ],
            "image/png": "[encoded data removed]"
          },
          "metadata": {
            "needs_background": "light"
          }
        }
      ]
    },
    {
      "cell_type": "code",
      "source": [
        "y_pred_test_pre=rbf_svc.predict(X_test)\n",
        "conf_matrix = confusion_matrix(y_test, y_pred_test_pre)\n",
        "print('Confusion matrix\\n\\n', conf_matrix)\n",
        "print('\\nTrue Positives(TP) = ', conf_matrix[0,0])\n",
        "print('\\nTrue Negatives(TN) = ', conf_matrix[1,1])\n",
        "print('\\nFalse Positives(FP) = ', conf_matrix[0,1])\n",
        "print('\\nFalse Negatives(FN) = ', conf_matrix[1,0])\n",
        "TP = conf_matrix[0,0]\n",
        "TN = conf_matrix[1,1]\n",
        "FP = conf_matrix[0,1]\n",
        "FN = conf_matrix[1,0]\n",
        "print(\"Correct prediction: \", TP+TN)\n",
        "print(\"Incorrect prediction: \", FP+FN)\n",
        "print(\"Recall: \", recall_score(y_test, y_pred_test_pre))\n",
        "print(\"Precision: \", precision_score(y_test, y_pred_test_pre))"
      ],
      "metadata": {
        "colab": {
          "base_uri": "https://localhost:8080/"
        },
        "id": "D0Dm2lzkpNgR",
        "outputId": "8e152d3b-c228-4103-a03e-9570739cc297"
      },
      "execution_count": 13,
      "outputs": [
        {
          "output_type": "stream",
          "name": "stdout",
          "text": [
            "Confusion matrix\n",
            "\n",
            " [[42  3]\n",
            " [ 0 55]]\n",
            "\n",
            "True Positives(TP) =  42\n",
            "\n",
            "True Negatives(TN) =  55\n",
            "\n",
            "False Positives(FP) =  3\n",
            "\n",
            "False Negatives(FN) =  0\n",
            "Correct prediction:  97\n",
            "Incorrect prediction:  3\n",
            "Recall:  1.0\n",
            "Precision:  0.9482758620689655\n"
          ]
        }
      ]
    },
    {
      "cell_type": "markdown",
      "metadata": {
        "id": "ce_XKlbNZvXX"
      },
      "source": [
        "## 3. IMPLEMENT YOUR OWN NON-LINEAR SVM\n",
        "Now that you see how the standard library SVM perform on the dataset, you will attempt to implement your own version of SVM. To help you, a template of SVM has been created including the quadratic optimization. Essensially, you will get the optimized value of $\\alpha$ for free. Note that there are **6 subtasks** which you need to implement in order to get the SVM to work properly.\n",
        "\n",
        "The provided code is extensively documented in comments, so that you may write code compatible with it. DO NOT edit the provided code, but read the comments and ask Piazza questions as necessary to understand it.\n",
        "\n",
        "Many of these tasks are made much easier by a working knowledge of numpy. If you have something you want to do, but are unsure how to do it in Python, consult the numpy documentation here: https://numpy.org/doc/1.17/reference/index.html. If you haven't built a Python class before, it may be worth scanning this tutorial: https://www.datacamp.com/community/tutorials/python-oop-tutorial."
      ]
    },
    {
      "cell_type": "code",
      "metadata": {
        "id": "5ty2ssgfcw1E"
      },
      "source": [
        "# Use the information from the lecture slides to formulate the SVM Kernels. \n",
        "# To help you get started, the Linear Kernel (simply just a dot product) has been provided to you. \n",
        "# These kernel functions will be called in the SVM class\n",
        "# Linear Kernel             \n",
        "def linear_kernel(u, v):\n",
        "    return np.dot(u, v)\n",
        "\n",
        "# Polynomial Kernel (of degree up to and including p)\n",
        "def polynomial_kernel(u, v, p=3):\n",
        "    # SUBTASK 1: Implement the kernel formulation here\n",
        "    return np.power((np.dot(u, v)+1),p)\n",
        "\n",
        "# Gaussian RBF Kernel\n",
        "def rbf_kernel(u, v, gamma=0.1):\n",
        "    # SUBTASK 2: Implement the kernel formulation here\n",
        "    # Note that gamma is provided, not sigma; see the slides for the relationship between gamma and sigma\n",
        "    #rbf_func_int = np.dot(u, u) + np.dot(v, v) - 2*np.dot(u, v)\n",
        "    #rbf_func_inner = -gamma * rbf_func_int\n",
        "    return np.exp(-gamma *np.power(np.linalg.norm(u-v),2))"
      ],
      "execution_count": 14,
      "outputs": []
    },
    {
      "cell_type": "code",
      "metadata": {
        "id": "7ocjh6xBSEMG"
      },
      "source": [
        "import cvxopt # The optimization package for Quadratic Programming\n",
        "import cvxopt.solvers\n",
        "from sklearn.base import BaseEstimator, ClassifierMixin \n",
        "# extending these classes is required by all scikitlearn classes that will need fit, transform, and fit_transform functions\n",
        "# this is what enables inclusion in pipelines and compatability with other scikitlearn structures and functions\n",
        "\n",
        "class MySVM(BaseEstimator, ClassifierMixin):\n",
        "    \"\"\"The Implementation of the SVM class\"\"\"\n",
        "\n",
        "    def __init__(self, kernel=linear_kernel, C=None):\n",
        "        self.kernel = kernel # the kernel function used; this is a function and can be called\n",
        "        self.C = C # make sure to set this when instantiating this class; is C is None, your performance will be weird\n",
        "        if self.C is not None: self.C = float(self.C)\n",
        "        self.K = None\n",
        "        self.a = None\n",
        "        \n",
        "\n",
        "    def fit(self, X, y=None):\n",
        "        \"\"\"\n",
        "        Train SVM based on the training set\n",
        "        Parameters\n",
        "        ----------\n",
        "        X: feature matrix shape(m_samples, n_features)\n",
        "        y: label vector shape(m_samples, )\n",
        "        \"\"\"\n",
        "        \n",
        "        m_samples, n_features = X.shape\n",
        "\n",
        "        # To speed up repeated applications of the kernel function, dynamic programming is used\n",
        "        # All pairs of points have the kernel function computed over them and the result stored in K\n",
        "        # K is indexed by indices in X, so K[i,j] = kernel_function(X[i], X[j])\n",
        "        # You may use K in your code later in this function, but are not required to\n",
        "        # DO NOT edit this code\n",
        "        K = np.zeros((m_samples, m_samples))\n",
        "        for i in range(m_samples):\n",
        "            for j in range(m_samples):\n",
        "                K[i,j] = self.kernel(X[i], X[j])\n",
        "        self.K = K\n",
        "\n",
        "        # This part requires some understanding of Quadratic Programming (QP)\n",
        "        # Below is the user's guide for the QP from CVXOPT \n",
        "        # http://cvxopt.org/userguide/coneprog.html#quadratic-programming\n",
        "        # DO NOT edit any of this code until Subtask 3\n",
        "        P = cvxopt.matrix(np.outer(y,y) * K)\n",
        "        q = cvxopt.matrix(np.ones(m_samples) * -1)\n",
        "        A = cvxopt.matrix(y, (1,m_samples))\n",
        "        b = cvxopt.matrix(0.0)\n",
        "\n",
        "        if self.C is None:\n",
        "            G = cvxopt.matrix(np.diag(np.ones(m_samples) * -1))\n",
        "            h = cvxopt.matrix(np.zeros(m_samples))\n",
        "        else:\n",
        "            tmp1 = np.diag(np.ones(m_samples) * -1)\n",
        "            tmp2 = np.identity(m_samples)\n",
        "            G = cvxopt.matrix(np.vstack((tmp1, tmp2)))\n",
        "            tmp1 = np.zeros(m_samples)\n",
        "            tmp2 = np.ones(m_samples) * self.C\n",
        "            h = cvxopt.matrix(np.hstack((tmp1, tmp2)))\n",
        "\n",
        "        # solve QP problem\n",
        "        solution = cvxopt.solvers.qp(P, q, G, h, A, b)\n",
        "\n",
        "        # Lagrange multipliers for each point in X\n",
        "        a = np.ravel(solution['x'])\n",
        "\n",
        "        # Support vectors have non zero lagrange multipliers\n",
        "        # sv is a boolean array\n",
        "        # sv[i] is True iff a[i] is non-zero\n",
        "        sv = a > 1e-3\n",
        "\n",
        "        # SUBTASK 3: Find the support vectors\n",
        "        # note that plot_svm expects self.support_vectors_ to be a numpy array\n",
        "        # you can use a Python list in your implementation, as long as you cast to a numpy array at the end of this function\n",
        "        # or, you can cast to a numpy array now\n",
        "        # you should add lists to store any additional metadata related to each support vector necessary later\n",
        "        # for example, if you will use the Lagrange multipliers in future calculations... \n",
        "        # ...you should add an instance variable which lists the Langrage multipliers for each support vector\n",
        "        ind = np.arange(len(a))[sv]\n",
        "        self.a = a[sv]\n",
        "        self.support_vectors_ = X[sv]\n",
        "        self.sv_y = y[sv]\n",
        "\n",
        "        print(\"%d support vectors out of %d points\" % (sum(self.a), m_samples))\n",
        "\n",
        "        if self.kernel == linear_kernel:\n",
        "            self.w = np.zeros(n_features)\n",
        "            # SUBTASK 4: Compute the Weight vector w\n",
        "            for i in range(len(self.a)):\n",
        "                self.w += self.a[i] * self.sv_y[i] * self.support_vectors_[i]\n",
        "\n",
        "        else:\n",
        "            # No need to compute for w in non-linear case\n",
        "            # Instead, we will use alpha (a) directly to predict the labels\n",
        "            self.w =  None\n",
        "        \n",
        "        # SUBTASK 5: Compute the Intercept b\n",
        "        # b can be computed based on any arbitrary support vector\n",
        "        # it is recommended that you use self.support_vectors_[0], since this will always exist\n",
        "        # b should NOT be in terms of w, since w only exists in the linear case\n",
        "        self.b = 0\n",
        "        #for n in range(len(self.a)):\n",
        "        self.b += self.sv_y[0]\n",
        "        self.b -= np.sum(self.a * self.sv_y * K[ind[0],sv])\n",
        "        self.b /= len(self.a)\n",
        "\n",
        "    def decision_function(self, X):\n",
        "        \"\"\"The decision function is essentially w^T . x + b\"\"\"\n",
        "        if self.w is not None:\n",
        "            return np.dot(X, self.w) + self.b\n",
        "        else:\n",
        "            # SUBTASK 6: for non-linear case, implement the kernel trick to predict label here\n",
        "            # you are predicting one label for each point in X\n",
        "            # note that this X may differ from the X passed to self.fit\n",
        "            y_predict = np.zeros(len(X))\n",
        "            \n",
        "            for i in range(X.shape[0]):\n",
        "              y_predict_temp = 0\n",
        "              for j in range(self.support_vectors_.shape[0]):\n",
        "                  y_predict_temp += self.a[j] * self.sv_y[j] * self.kernel(X[i],self.support_vectors_[j])\n",
        "              y_predict[i] = y_predict_temp\n",
        "            y_predit_fin = y_predict\n",
        "            \n",
        "            return y_predit_fin + self.b\n",
        "\n",
        "          \n",
        "    def predict(self, X):\n",
        "        \"\"\"Predicts -1,+1 based on the sign of the decision function\"\"\"\n",
        "        return np.sign(self.decision_function(X))\n",
        "\n"
      ],
      "execution_count": 15,
      "outputs": []
    },
    {
      "cell_type": "markdown",
      "metadata": {
        "id": "TuI0EfvTJTIH"
      },
      "source": [
        "---\n",
        "## 4. COMPARE YOUR IMPLEMENTATION TO THE STANDARD LIBRARY\n",
        "Now that you have implemented your own SVM class, let's use it! Create 3 instances of your SVM class, each with a difference kernel (Linear, Polynomial, and RBF kernel), then train and test its performance in the Moon dataset as above. You may adjust hyperparameters to achieve high performance for both the standard library and your own implementations, and report the same metrics (confusion matrix, recall, and precision). You can use the plot_svm() function to visualize your SVM with decision boundary, margin, and support vectors on the dataset, and should plot each of the three instances of your class, to compare these plots with the standard library models' plots.\n",
        "\n",
        "Based on the number above, compare your SVM implementation with the standard library version. How did your SVM perform in comparison? Is there any major differences between the algorithms? If your performance is significantly worse, is there a different set of hyperparameters which better fits your model? Finally, reflect on your experience implementing a learning algorithm for this assignment."
      ]
    },
    {
      "cell_type": "code",
      "metadata": {
        "id": "d_4ju2X6IUDt",
        "colab": {
          "base_uri": "https://localhost:8080/",
          "height": 602
        },
        "outputId": "c5cee2f8-72be-4f63-c1c4-17bfcde8ba32"
      },
      "source": [
        "# Your code here\n",
        "linear_svmmy = MySVM(linear_kernel, C=1)\n",
        "linear_svmmy.fit(X_train, y_train)\n",
        "y_predict = linear_svmmy.predict(X_test)\n",
        "correct = np.sum(y_predict == y_test)\n",
        "print(correct, \"out of \", len(y_predict), \"predictions correct\")\n",
        "\n",
        "plot_svm(linear_svmmy, X_test, y_test)"
      ],
      "execution_count": 59,
      "outputs": [
        {
          "output_type": "stream",
          "name": "stdout",
          "text": [
            "     pcost       dcost       gap    pres   dres\n",
            " 0: -1.3808e+02 -8.1623e+02  4e+03  2e+00  7e-15\n",
            " 1: -9.4346e+01 -4.8165e+02  6e+02  2e-01  6e-15\n",
            " 2: -8.9917e+01 -1.5366e+02  8e+01  2e-02  4e-15\n",
            " 3: -1.0138e+02 -1.2220e+02  2e+01  6e-03  4e-15\n",
            " 4: -1.0465e+02 -1.1635e+02  1e+01  3e-03  4e-15\n",
            " 5: -1.0680e+02 -1.1276e+02  6e+00  1e-03  4e-15\n",
            " 6: -1.0811e+02 -1.1044e+02  2e+00  4e-04  4e-15\n",
            " 7: -1.0863e+02 -1.0967e+02  1e+00  8e-05  5e-15\n",
            " 8: -1.0899e+02 -1.0923e+02  3e-01  2e-05  5e-15\n",
            " 9: -1.0905e+02 -1.0915e+02  1e-01  3e-06  6e-15\n",
            "10: -1.0909e+02 -1.0911e+02  2e-02  5e-07  6e-15\n",
            "11: -1.0910e+02 -1.0910e+02  8e-04  2e-08  6e-15\n",
            "12: -1.0910e+02 -1.0910e+02  8e-06  2e-10  6e-15\n",
            "Optimal solution found.\n",
            "114 support vectors out of 400 points\n",
            "82 out of  100 predictions correct\n"
          ]
        },
        {
          "output_type": "display_data",
          "data": {
            "text/plain": [
              "<Figure size 432x288 with 1 Axes>"
            ],
            "image/png": "[encoded data removed]"
          },
          "metadata": {
            "needs_background": "light"
          }
        }
      ]
    },
    {
      "cell_type": "code",
      "source": [
        "y_pred_test=linear_svmmy.predict(X_test)\n",
        "conf_matrix = confusion_matrix(y_test, y_pred_test)\n",
        "print('Confusion matrix\\n\\n', conf_matrix)\n",
        "print('\\nTrue Positives(TP) = ', conf_matrix[0,0])\n",
        "print('\\nTrue Negatives(TN) = ', conf_matrix[1,1])\n",
        "print('\\nFalse Positives(FP) = ', conf_matrix[0,1])\n",
        "print('\\nFalse Negatives(FN) = ', conf_matrix[1,0])\n",
        "TP = conf_matrix[0,0]\n",
        "TN = conf_matrix[1,1]\n",
        "FP = conf_matrix[0,1]\n",
        "FN = conf_matrix[1,0]\n",
        "print(\"Correct prediction: \", TP+TN)\n",
        "print(\"Inorrect prediction: \", FP+FN)\n",
        "print(\"Recall: \", recall_score(y_test, y_pred_test))\n",
        "print(\"Precision: \", precision_score(y_test, y_pred_test))"
      ],
      "metadata": {
        "colab": {
          "base_uri": "https://localhost:8080/"
        },
        "id": "cOLMffEHZoyL",
        "outputId": "eb5f193c-927b-474a-c6e8-28f92307ef6e"
      },
      "execution_count": 58,
      "outputs": [
        {
          "output_type": "stream",
          "name": "stdout",
          "text": [
            "Confusion matrix\n",
            "\n",
            " [[37  8]\n",
            " [10 45]]\n",
            "\n",
            "True Positives(TP) =  37\n",
            "\n",
            "True Negatives(TN) =  45\n",
            "\n",
            "False Positives(FP) =  8\n",
            "\n",
            "False Negatives(FN) =  10\n",
            "Correct prediction:  82\n",
            "Inorrect prediction:  18\n",
            "Recall:  0.8181818181818182\n",
            "Precision:  0.8490566037735849\n"
          ]
        }
      ]
    },
    {
      "cell_type": "code",
      "source": [
        "#param_grid = [{\"C\": [0.1, 1, 10, 100, 1000]}]\n",
        "#for i in param_grid:\n",
        "poly_svmmy = MySVM(polynomial_kernel, C=10000)\n",
        "poly_svmmy.fit(X_train, y_train)\n",
        "y_predict = poly_svmmy.predict(X_test)\n",
        "correct = np.sum(y_predict == y_test)\n",
        "print(correct, \"out of \", len(y_predict), \"predictions correct\")\n",
        "plot_svm(poly_svmmy, X_test, y_test)"
      ],
      "metadata": {
        "colab": {
          "base_uri": "https://localhost:8080/",
          "height": 748
        },
        "id": "18qIDiRfZPY7",
        "outputId": "82b2ff0c-5095-465e-dcf4-c105022b971f"
      },
      "execution_count": 39,
      "outputs": [
        {
          "output_type": "stream",
          "name": "stdout",
          "text": [
            "     pcost       dcost       gap    pres   dres\n",
            " 0:  1.3613e+08 -2.8412e+10  8e+10  9e-01  4e-10\n",
            " 1:  2.3268e+08 -1.0651e+10  2e+10  1e-01  4e-09\n",
            " 2:  2.5213e+08 -1.9154e+09  3e+09  2e-02  6e-10\n",
            " 3:  1.1865e+08 -4.9191e+08  7e+08  3e-03  1e-10\n",
            " 4:  3.3784e+07 -1.2374e+08  2e+08  4e-04  7e-11\n",
            " 5:  1.4016e+07 -5.3737e+07  7e+07  1e-04  4e-11\n",
            " 6:  5.7205e+06 -2.7381e+07  3e+07  2e-05  3e-11\n",
            " 7:  1.1933e+06 -6.7129e+06  8e+06  3e-12  2e-11\n",
            " 8:  2.1849e+05 -1.7412e+06  2e+06  2e-13  2e-11\n",
            " 9:  1.2306e+04 -3.7407e+05  4e+05  2e-12  1e-11\n",
            "10: -1.7748e+04 -1.2037e+05  1e+05  2e-13  1e-11\n",
            "11: -2.4412e+04 -1.0802e+05  8e+04  5e-12  1e-11\n",
            "12: -3.6427e+04 -1.0031e+05  6e+04  4e-12  6e-11\n",
            "13: -4.5606e+04 -7.7241e+04  3e+04  6e-12  5e-11\n",
            "14: -4.4925e+04 -7.5187e+04  3e+04  2e-13  4e-11\n",
            "15: -5.0544e+04 -6.0926e+04  1e+04  9e-13  5e-11\n",
            "16: -5.2842e+04 -5.6214e+04  3e+03  9e-13  4e-11\n",
            "17: -5.4029e+04 -5.4430e+04  4e+02  7e-13  4e-11\n",
            "18: -5.4188e+04 -5.4197e+04  9e+00  4e-13  4e-11\n",
            "19: -5.4191e+04 -5.4191e+04  1e-01  5e-12  4e-11\n",
            "20: -5.4191e+04 -5.4191e+04  1e-03  1e-11  4e-11\n",
            "Optimal solution found.\n",
            "56818 support vectors out of 400 points\n",
            "86 out of  100 predictions correct\n"
          ]
        },
        {
          "output_type": "display_data",
          "data": {
            "text/plain": [
              "<Figure size 432x288 with 1 Axes>"
            ],
            "image/png": "[encoded data removed]"
          },
          "metadata": {
            "needs_background": "light"
          }
        }
      ]
    },
    {
      "cell_type": "code",
      "source": [
        "y_pred_test=poly_svmmy.predict(X_test)\n",
        "conf_matrix = confusion_matrix(y_test, y_pred_test)\n",
        "print('Confusion matrix\\n\\n', conf_matrix)\n",
        "print('\\nTrue Positives(TP) = ', conf_matrix[0,0])\n",
        "print('\\nTrue Negatives(TN) = ', conf_matrix[1,1])\n",
        "print('\\nFalse Positives(FP) = ', conf_matrix[0,1])\n",
        "print('\\nFalse Negatives(FN) = ', conf_matrix[1,0])\n",
        "TP = conf_matrix[0,0]\n",
        "TN = conf_matrix[1,1]\n",
        "FP = conf_matrix[0,1]\n",
        "FN = conf_matrix[1,0]\n",
        "print(\"Correct prediction: \", TP+TN)\n",
        "print(\"Incorrect prediction: \", FP+FN)\n",
        "print(\"Recall: \", recall_score(y_test, y_pred_test))\n",
        "print(\"Precision: \", precision_score(y_test, y_pred_test))"
      ],
      "metadata": {
        "colab": {
          "base_uri": "https://localhost:8080/"
        },
        "id": "DXNj5-3KZ3dV",
        "outputId": "cef308be-336f-4150-9d46-ec318fc947d7"
      },
      "execution_count": 40,
      "outputs": [
        {
          "output_type": "stream",
          "name": "stdout",
          "text": [
            "Confusion matrix\n",
            "\n",
            " [[45  0]\n",
            " [14 41]]\n",
            "\n",
            "True Positives(TP) =  45\n",
            "\n",
            "True Negatives(TN) =  41\n",
            "\n",
            "False Positives(FP) =  0\n",
            "\n",
            "False Negatives(FN) =  14\n",
            "Correct prediction:  86\n",
            "Incorrect prediction:  14\n",
            "Recall:  0.7454545454545455\n",
            "Precision:  1.0\n"
          ]
        }
      ]
    },
    {
      "cell_type": "code",
      "source": [
        "rbf_svmmy = MySVM(rbf_kernel, C=100)\n",
        "rbf_svmmy.fit(X_train, y_train)\n",
        "y_predict = rbf_svmmy.predict(X_test)\n",
        "correct = np.sum(y_predict == y_test)\n",
        "print(correct, \"out of \", len(y_predict), \"predictions correct\")\n",
        "plot_svm(rbf_svmmy, X_test, y_test)"
      ],
      "metadata": {
        "colab": {
          "base_uri": "https://localhost:8080/",
          "height": 638
        },
        "id": "uF1FeM6WZKOM",
        "outputId": "c8fea5b9-0e00-48a9-d0dc-c0cc156b7105"
      },
      "execution_count": 62,
      "outputs": [
        {
          "output_type": "stream",
          "name": "stdout",
          "text": [
            "     pcost       dcost       gap    pres   dres\n",
            " 0: -2.0531e+02 -2.0821e+04  4e+04  4e-01  3e-14\n",
            " 1: -1.6009e+02 -3.5867e+03  3e+03  3e-03  2e-14\n",
            " 2: -5.9159e+02 -1.5619e+03  1e+03  6e-04  2e-14\n",
            " 3: -7.0773e+02 -1.2331e+03  5e+02  3e-04  2e-14\n",
            " 4: -7.7140e+02 -1.0935e+03  3e+02  1e-04  2e-14\n",
            " 5: -8.0061e+02 -1.0333e+03  2e+02  6e-05  2e-14\n",
            " 6: -8.2320e+02 -9.9496e+02  2e+02  4e-05  3e-14\n",
            " 7: -8.2931e+02 -9.9584e+02  2e+02  3e-05  3e-14\n",
            " 8: -8.5860e+02 -9.3801e+02  8e+01  1e-05  3e-14\n",
            " 9: -8.7444e+02 -9.1065e+02  4e+01  3e-06  3e-14\n",
            "10: -8.8259e+02 -8.9816e+02  2e+01  8e-07  3e-14\n",
            "11: -8.8847e+02 -8.9011e+02  2e+00  2e-08  4e-14\n",
            "12: -8.8911e+02 -8.8938e+02  3e-01  3e-09  3e-14\n",
            "13: -8.8923e+02 -8.8924e+02  1e-02  5e-12  3e-14\n",
            "14: -8.8924e+02 -8.8924e+02  1e-04  5e-14  4e-14\n",
            "Optimal solution found.\n",
            "1046 support vectors out of 400 points\n",
            "89 out of  100 predictions correct\n"
          ]
        },
        {
          "output_type": "display_data",
          "data": {
            "text/plain": [
              "<Figure size 432x288 with 1 Axes>"
            ],
            "image/png": "[encoded data removed]"
          },
          "metadata": {
            "needs_background": "light"
          }
        }
      ]
    },
    {
      "cell_type": "code",
      "source": [
        "y_pred_test=rbf_svmmy.predict(X_test)\n",
        "conf_matrix = confusion_matrix(y_test, y_pred_test)\n",
        "print('Confusion matrix\\n\\n', conf_matrix)\n",
        "print('\\nTrue Positives(TP) = ', conf_matrix[0,0])\n",
        "print('\\nTrue Negatives(TN) = ', conf_matrix[1,1])\n",
        "print('\\nFalse Positives(FP) = ', conf_matrix[0,1])\n",
        "print('\\nFalse Negatives(FN) = ', conf_matrix[1,0])\n",
        "\n",
        "TP = conf_matrix[0,0]\n",
        "TN = conf_matrix[1,1]\n",
        "FP = conf_matrix[0,1]\n",
        "FN = conf_matrix[1,0]\n",
        "print(\"Correct prediction: \", TP+TN)\n",
        "print(\"Incorrect prediction: \", FP+FN)\n",
        "print(\"Recall: \", recall_score(y_test, y_pred_test))\n",
        "print(\"Precision: \", precision_score(y_test, y_pred_test))"
      ],
      "metadata": {
        "colab": {
          "base_uri": "https://localhost:8080/"
        },
        "id": "M-09GYedZ5oz",
        "outputId": "150a178b-3fdb-4753-8017-9c6f60495fd4"
      },
      "execution_count": 61,
      "outputs": [
        {
          "output_type": "stream",
          "name": "stdout",
          "text": [
            "Confusion matrix\n",
            "\n",
            " [[25 20]\n",
            " [ 0 55]]\n",
            "\n",
            "True Positives(TP) =  25\n",
            "\n",
            "True Negatives(TN) =  55\n",
            "\n",
            "False Positives(FP) =  20\n",
            "\n",
            "False Negatives(FN) =  0\n",
            "Correct prediction:  80\n",
            "Incorrect prediction:  20\n",
            "Recall:  1.0\n",
            "Precision:  0.7333333333333333\n"
          ]
        }
      ]
    },
    {
      "cell_type": "markdown",
      "source": [
        "Based on the number above, compare your SVM implementation with the standard library version. How did your SVM perform in comparison? Is there any major differences between the algorithms? If your performance is significantly worse, is there a different set of hyperparameters which better fits your model? Finally, reflect on your experience implementing a learning algorithm for this assignment."
      ],
      "metadata": {
        "id": "5jujNA5CXVWJ"
      }
    },
    {
      "cell_type": "markdown",
      "source": [
        "Linear Kernel using standard library\n",
        "\n",
        "\tRecall:  0.9090909090909091\n",
        "\n",
        "\tPrecision:  0.8333333333333334\n",
        "\n",
        "Linear Kernel using mySVM: C=1\n",
        "\n",
        "\tRecall:  0.8181818181818182\n",
        "\n",
        "\tPrecision:  0.8490566037735849\n",
        "\n",
        "\n",
        "\n",
        "Polynomial Kernel using standard library\n",
        "\n",
        "\tRecall:  0.9818181818181818\n",
        "\n",
        "\tPrecision:  0.84375\n",
        "\n",
        "Polynomial Kernel using mySVM: C=10000\n",
        "\n",
        "\tRecall:  0.7454545454545455\n",
        "\n",
        "\tPrecision:  1.0\n",
        "\n",
        "\n",
        "\n",
        "Gaussian RFBKernel using standard library\n",
        "\n",
        "\tRecall:  1.0\n",
        "\n",
        "\tPrecision:  0.9482758620689655\n",
        "\n",
        "Gaussian RFBKernel using mySUVM: C=100\n",
        "\n",
        "\tRecall:  1.0\n",
        "\n",
        "\tPrecision:  0.9016393442622951\n",
        "\n",
        "\n",
        "The result of my SVM function tend to be worse than the standard library one. If I include gammma and degree to my implementation, then the result might be better.\n",
        "\n",
        "My experience on implementing a learning algorithm for this assignment is that sometime largest C (1000) or smalles C (0.1) is not always the best. C value must be test for optimization before we can say we have the best C value."
      ],
      "metadata": {
        "id": "gQn2jl3pbKiS"
      }
    },
    {
      "cell_type": "markdown",
      "metadata": {
        "id": "RPjDDoYaDOdk"
      },
      "source": [
        "## Get Help?\n",
        "In case you get stuck in any step in the process, you may find some useful information from:\n",
        "\n",
        " * Consult my [lecture 10](https://drive.google.com/open?id=1CeBhepjDKBaFBq2BZq-zNQs-MC8ll7aL4qAF8TJ24FM) and [lecture 10b](https://drive.google.com/open?id=13BidUAs_c2QdZkf92axt2S748sbnbI9Hgxg-fzb-OuU) and/or the textbook\n",
        " * Talk to the TA, they are available and there to help you during office hour.\n",
        " * Come talk to me or email me <nn4pj@virginia.edu> with subject starting \"CS4774 Assignment 3:...\".\n",
        "\n",
        "Part of the codes used in this assignment is modified from Mathieu Blondel under the 3-Clause BSD License. Best of luck and have fun!"
      ]
    }
  ]
}